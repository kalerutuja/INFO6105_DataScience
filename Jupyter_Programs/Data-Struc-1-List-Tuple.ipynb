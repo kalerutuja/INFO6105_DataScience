{
 "cells": [
  {
   "cell_type": "markdown",
   "metadata": {},
   "source": [
    "### Data Structures\n",
    "\n",
    "Data structure is a particular way of organizing data in a computer so that it can be used efficiently. There are many different methods for storing data and they differ based on the arrangement of the individual elements in memory, the speed of access to the individual element, and the indexing technique used to access the individual elements etc. \n",
    "\n",
    "While add-on libraries like pandas and NumPy add advanced computational functionality for larger datasets, they are designed to be used together with Python’s built-in data manipulation tools.\n",
    "We’ll start with Python’s workhorse data structures: tuples, lists, dicts, and sets. \n",
    "\n",
    "In Python, data structures can be classified further into two categories: mutable and immutable.\n",
    "\n",
    "Mutable data structures can be modified, that means, elements can be added to them or elements can be removed. On the other hand, immutable data structures can not be modified, that means, once an immutable data structure is defined, no changes can be performed on it. \n",
    "\n",
    "The built is data structures in Python are \n",
    "\n",
    "1. **List** is an ordered sequence of objects. Elements in the list can be any Python objects. They are mutable.\n",
    "\n",
    "\n",
    "2. **Tuple** is an ordered sequence of objects. Elements in the tuple can be any Python objects. Tuple are immutable\n",
    "\n",
    "\n",
    "3. **Dictionary** is a sequence of key and value pairs. Dictionary is mutable as new key-values can be added and existing key-values can be modified. In a dictionary, the keys have to mutable. \n",
    "\n",
    "4. **Set** is an unordered sequence of unique elements. Sets are mutable but its elements are immutable. \n",
    "\n",
    "\n",
    "5. **String** is an ordered sequence of characters. Strings are immutable. \n",
    "\n",
    "It is necessary to understand the time and space complexity of these data structures, so that code can be written that runs efficiently both in terms of time and memory. It is also a good programming practice that future programmers reading your code would appreciate and understand. \n",
    "\n",
    "Let us discuss them one by one.\n"
   ]
  },
  {
   "cell_type": "markdown",
   "metadata": {},
   "source": [
    "### List\n",
    "\n",
    "A list is a data-structure, or it can be considered a container that can be used to store multiple data at once. List is a collection of items. These items can be of any Python data type. Thus, list can be created from integers, floats, strings, tuples, lists etc. List can have items of different type in the same list. However, it is not recommended. \n",
    "\n",
    "Lists are great if you want to preserve the sequence of the data and then iterate over them later for various purposes.\n",
    "\n",
    "The important characteristics of Python lists are as follows:\n",
    "\n",
    "- Lists are ordered.\n",
    "\n",
    "- Lists can contain any arbitrary objects.\n",
    "\n",
    "- List elements can be accessed by index.\n",
    "\n",
    "- Lists can be nested to arbitrary depth.\n",
    "\n",
    "- Lists are mutable.\n",
    "\n",
    "- Lists are dynamic.\n",
    "\n",
    "In this notebook you will come to know how to create python lists and the common paradigms for a python list.\n"
   ]
  },
  {
   "cell_type": "markdown",
   "metadata": {},
   "source": [
    "#### How to create a list\n",
    "The syntax for list is\n",
    "\n",
    "\n",
    "x = [elem1, elem2, elem3 ...]\n",
    "\n",
    "Note that list starts with an open square bracket,[ and ends with a closed square bracket] and elements are separated by a comma. The index of the list starts with zero. Each element will have a distinct place in the sequence and if the same value occurs multiple times in the sequence, each will be considered separate and distinct element.  \n",
    "\n",
    "lists are variable-length and their contents can be modified in-place."
   ]
  },
  {
   "cell_type": "code",
   "execution_count": 4,
   "metadata": {
    "ExecuteTime": {
     "end_time": "2020-11-18T03:32:29.079065Z",
     "start_time": "2020-11-18T03:32:29.073560Z"
    }
   },
   "outputs": [
    {
     "name": "stdout",
     "output_type": "stream",
     "text": [
      "['apricot', 'banana', 'grapes', 'kiwi', 'orange', 'strawberry']\n"
     ]
    }
   ],
   "source": [
    "Fruits = ['apricot', 'banana', 'grapes', \"kiwi\", 'orange', 'strawberry']\n",
    "print(Fruits)"
   ]
  },
  {
   "cell_type": "code",
   "execution_count": 5,
   "metadata": {
    "ExecuteTime": {
     "end_time": "2020-11-18T03:33:23.577302Z",
     "start_time": "2020-11-18T03:33:23.555152Z"
    }
   },
   "outputs": [
    {
     "data": {
      "text/plain": [
       "list"
      ]
     },
     "execution_count": 5,
     "metadata": {},
     "output_type": "execute_result"
    }
   ],
   "source": [
    "type(Fruits)"
   ]
  },
  {
   "cell_type": "markdown",
   "metadata": {},
   "source": [
    "####  Access Items in a list/Slicing\n",
    "To access values in lists, use the square brackets for slicing along with the index or indices to obtain value available at that index.\n",
    "\n",
    "Trying to access an element other that this will raise an IndexError. The index must be an integer. We can't use float or other types, this will result into TypeError.\n",
    "\n",
    "#####  Slicing\n",
    "You can select sections of most sequence types by using slice notation, which in its basic form consists of start:stop passed to the indexing operator []:\n",
    "\n",
    "#####  Print  the second item of the list\n"
   ]
  },
  {
   "cell_type": "code",
   "execution_count": 6,
   "metadata": {
    "ExecuteTime": {
     "end_time": "2020-11-18T03:37:21.787217Z",
     "start_time": "2020-11-18T03:37:21.780696Z"
    }
   },
   "outputs": [
    {
     "name": "stdout",
     "output_type": "stream",
     "text": [
      "strawberry\n"
     ]
    }
   ],
   "source": [
    "print(Fruits[(len(Fruits)-1)])"
   ]
  },
  {
   "cell_type": "code",
   "execution_count": 19,
   "metadata": {},
   "outputs": [
    {
     "data": {
      "text/plain": [
       "['grapes', 'kiwi', 'orange', 'strawberry']"
      ]
     },
     "execution_count": 19,
     "metadata": {},
     "output_type": "execute_result"
    }
   ],
   "source": [
    "Fruits[2:]"
   ]
  },
  {
   "cell_type": "markdown",
   "metadata": {},
   "source": [
    "#### Range of Indexes\n",
    "You can specify a range of indexes by specifying where to start and where to end the range.\n",
    "\n",
    "When specifying a range, the return value will be a new list with the specified items."
   ]
  },
  {
   "cell_type": "code",
   "execution_count": 31,
   "metadata": {
    "ExecuteTime": {
     "end_time": "2020-11-18T03:39:35.735448Z",
     "start_time": "2020-11-18T03:39:35.728437Z"
    }
   },
   "outputs": [
    {
     "data": {
      "text/plain": [
       "[7]"
      ]
     },
     "execution_count": 31,
     "metadata": {},
     "output_type": "execute_result"
    }
   ],
   "source": [
    "x = [7,2,3,5,6,0,1]\n",
    "x[:1]"
   ]
  },
  {
   "cell_type": "code",
   "execution_count": 16,
   "metadata": {
    "ExecuteTime": {
     "end_time": "2020-11-18T05:02:01.378370Z",
     "start_time": "2020-11-18T05:02:01.366776Z"
    }
   },
   "outputs": [
    {
     "data": {
      "text/plain": [
       "[3, 5]"
      ]
     },
     "execution_count": 16,
     "metadata": {},
     "output_type": "execute_result"
    }
   ],
   "source": [
    "x[2:4]"
   ]
  },
  {
   "cell_type": "markdown",
   "metadata": {},
   "source": [
    "**Note**: While the element at the start index is included, the stop index is not included, so that the number of elements in the result is stop - start.\n",
    "\n",
    "Either the start or stop can be omitted, in which case they default to the start of the\n",
    "sequence and the end of the sequence, respectively:"
   ]
  },
  {
   "cell_type": "code",
   "execution_count": 27,
   "metadata": {
    "ExecuteTime": {
     "end_time": "2020-11-18T03:42:17.159769Z",
     "start_time": "2020-11-18T03:42:17.153179Z"
    }
   },
   "outputs": [
    {
     "data": {
      "text/plain": [
       "[7, 2, 3, 5, 6]"
      ]
     },
     "execution_count": 27,
     "metadata": {},
     "output_type": "execute_result"
    }
   ],
   "source": [
    "x[:5]"
   ]
  },
  {
   "cell_type": "code",
   "execution_count": 26,
   "metadata": {
    "ExecuteTime": {
     "end_time": "2020-11-18T03:42:56.184159Z",
     "start_time": "2020-11-18T03:42:56.177063Z"
    }
   },
   "outputs": [
    {
     "data": {
      "text/plain": [
       "[7, 2, 3, 5, 6, 0, 1]"
      ]
     },
     "execution_count": 26,
     "metadata": {},
     "output_type": "execute_result"
    }
   ],
   "source": [
    "x[:len(x)]"
   ]
  },
  {
   "cell_type": "markdown",
   "metadata": {},
   "source": [
    "A step can also be used after a second colon to, say, take every other element"
   ]
  },
  {
   "cell_type": "code",
   "execution_count": 20,
   "metadata": {
    "ExecuteTime": {
     "end_time": "2020-11-18T03:43:55.954743Z",
     "start_time": "2020-11-18T03:43:55.946709Z"
    }
   },
   "outputs": [
    {
     "data": {
      "text/plain": [
       "[7, 3, 6, 1]"
      ]
     },
     "execution_count": 20,
     "metadata": {},
     "output_type": "execute_result"
    }
   ],
   "source": [
    "x[::2]"
   ]
  },
  {
   "cell_type": "code",
   "execution_count": 22,
   "metadata": {
    "ExecuteTime": {
     "end_time": "2020-11-18T03:44:15.938021Z",
     "start_time": "2020-11-18T03:44:15.928938Z"
    }
   },
   "outputs": [
    {
     "data": {
      "text/plain": [
       "[2, 5, 0]"
      ]
     },
     "execution_count": 22,
     "metadata": {},
     "output_type": "execute_result"
    }
   ],
   "source": [
    "x[1::2]"
   ]
  },
  {
   "cell_type": "markdown",
   "metadata": {},
   "source": [
    "#### Change Item Value\n",
    "To change the value of a specific item, refer to the index number:\n",
    "\n",
    "#### Change the second item"
   ]
  },
  {
   "cell_type": "code",
   "execution_count": null,
   "metadata": {
    "ExecuteTime": {
     "end_time": "2020-11-18T03:44:40.425228Z",
     "start_time": "2020-11-18T03:44:40.419128Z"
    }
   },
   "outputs": [],
   "source": [
    "x"
   ]
  },
  {
   "cell_type": "code",
   "execution_count": 33,
   "metadata": {},
   "outputs": [
    {
     "name": "stdout",
     "output_type": "stream",
     "text": [
      "print(Fruits[(len(Fruits)-2)])\n",
      "print(Fruits[(len(Fruits)-1)])\n",
      "print(Fruits[(len(Fruits)-1)])\n",
      "Fruits = ['apricot', 'banana', 'grapes', \"kiwi\", 'orange', 'strawberry']\n",
      "print(Fruits)\n",
      "type(Fruits)\n",
      "print(Fruits[(len(Fruits)-1)])\n",
      "Fruits(len(Fruits)-1)\n",
      "print(Fruits[(len(Fruits)-1)])\n",
      "print(Fruits[(len(Fruits))])\n",
      "Fruits[-1]\n",
      "Fruits[5]\n",
      "Fruits[-2]\n",
      "Fruits[-5]\n",
      "x[2:4]\n",
      "x = [7,2,3,5,6,0,1]\n",
      "x[4:]\n",
      "x[2:4]\n",
      "Fruits[2:4]\n",
      "Fruits[:2]\n",
      "Fruits[2:]\n",
      "x[::2]\n",
      "x = [7,2,3,5,6,0,1]\n",
      "x[4:]\n",
      "x[1::2]\n",
      "x[1] = 10\n",
      "print(x)\n",
      "#Slices can also be assigned to with a sequence:\n",
      "x[1:3]= [8,9]\n",
      "x\n",
      "x = [7,2,3,5,6,0,1]\n",
      "x[4:]\n",
      "x[:len(x)]\n",
      "x[:5]\n",
      "x = [7,2,3,5,6,0,1]\n",
      "x[5:]\n",
      "x = [7,2,3,5,6,0,1]\n",
      "x[6:]\n",
      "x = [7,2,3,5,6,0,1]\n",
      "x[1:]\n",
      "x = [7,2,3,5,6,0,1]\n",
      "x[:1]\n",
      "# looping through the list\n",
      "\n",
      "for gf in Fruits:\n",
      "    print('We are printing one element at a time:', gf)\n",
      "%history\n"
     ]
    }
   ],
   "source": [
    "%history"
   ]
  },
  {
   "cell_type": "code",
   "execution_count": 23,
   "metadata": {
    "ExecuteTime": {
     "end_time": "2020-11-18T03:44:52.424662Z",
     "start_time": "2020-11-18T03:44:52.419630Z"
    }
   },
   "outputs": [
    {
     "name": "stdout",
     "output_type": "stream",
     "text": [
      "[7, 10, 3, 5, 6, 0, 1]\n"
     ]
    }
   ],
   "source": [
    "x[1] = 10\n",
    "print(x)"
   ]
  },
  {
   "cell_type": "code",
   "execution_count": 24,
   "metadata": {
    "ExecuteTime": {
     "end_time": "2020-11-18T03:45:10.959215Z",
     "start_time": "2020-11-18T03:45:10.951229Z"
    }
   },
   "outputs": [
    {
     "data": {
      "text/plain": [
       "[7, 8, 9, 5, 6, 0, 1]"
      ]
     },
     "execution_count": 24,
     "metadata": {},
     "output_type": "execute_result"
    }
   ],
   "source": [
    "#Slices can also be assigned to with a sequence:\n",
    "x[1:3]= [8,9]\n",
    "x"
   ]
  },
  {
   "cell_type": "markdown",
   "metadata": {},
   "source": [
    "#### Negative Indexing\n",
    "Negative indices slice the sequence relative to the end, -1 refers to the last item, -2 refere to the second last itenm etc.\n"
   ]
  },
  {
   "cell_type": "code",
   "execution_count": 34,
   "metadata": {
    "ExecuteTime": {
     "end_time": "2020-11-18T03:45:31.723141Z",
     "start_time": "2020-11-18T03:45:31.718146Z"
    }
   },
   "outputs": [
    {
     "name": "stdout",
     "output_type": "stream",
     "text": [
      "1\n"
     ]
    }
   ],
   "source": [
    "# print the last item of the list\n",
    "print(x[-1])"
   ]
  },
  {
   "cell_type": "code",
   "execution_count": 35,
   "metadata": {
    "ExecuteTime": {
     "end_time": "2020-11-18T03:45:38.898708Z",
     "start_time": "2020-11-18T03:45:38.890619Z"
    }
   },
   "outputs": [
    {
     "data": {
      "text/plain": [
       "1"
      ]
     },
     "execution_count": 35,
     "metadata": {},
     "output_type": "execute_result"
    }
   ],
   "source": [
    "x[len(x)-1]"
   ]
  },
  {
   "cell_type": "markdown",
   "metadata": {},
   "source": [
    "#### Range of Negative Indexes\n",
    "Specify negative indexes if you want to start the search from the end of the list"
   ]
  },
  {
   "cell_type": "code",
   "execution_count": 36,
   "metadata": {
    "ExecuteTime": {
     "end_time": "2020-11-18T03:45:40.583672Z",
     "start_time": "2020-11-18T03:45:40.572395Z"
    }
   },
   "outputs": [
    {
     "data": {
      "text/plain": [
       "[6, 0, 1]"
      ]
     },
     "execution_count": 36,
     "metadata": {},
     "output_type": "execute_result"
    }
   ],
   "source": [
    "x[-3:]"
   ]
  },
  {
   "cell_type": "markdown",
   "metadata": {},
   "source": [
    "A clever use of this is to pass -1, which has the useful effect of reversing a list or tuple:"
   ]
  },
  {
   "cell_type": "code",
   "execution_count": 9,
   "metadata": {
    "ExecuteTime": {
     "end_time": "2020-06-08T04:24:06.062089Z",
     "start_time": "2020-06-08T04:24:06.049561Z"
    }
   },
   "outputs": [
    {
     "data": {
      "text/plain": [
       "[1, 0, 6, 5, 3, 2, 7]"
      ]
     },
     "execution_count": 9,
     "metadata": {},
     "output_type": "execute_result"
    }
   ],
   "source": [
    "x[::-1]"
   ]
  },
  {
   "cell_type": "code",
   "execution_count": 10,
   "metadata": {},
   "outputs": [
    {
     "data": {
      "text/plain": [
       "[1, 6, 3, 7]"
      ]
     },
     "execution_count": 10,
     "metadata": {},
     "output_type": "execute_result"
    }
   ],
   "source": [
    "x[::-2]"
   ]
  },
  {
   "cell_type": "raw",
   "metadata": {
    "ExecuteTime": {
     "end_time": "2020-06-08T04:27:21.827561Z",
     "start_time": "2020-06-08T04:27:21.820484Z"
    }
   },
   "source": [
    "x[1:1]"
   ]
  },
  {
   "cell_type": "code",
   "execution_count": 37,
   "metadata": {
    "ExecuteTime": {
     "end_time": "2020-06-08T04:33:14.793983Z",
     "start_time": "2020-06-08T04:33:14.784343Z"
    }
   },
   "outputs": [
    {
     "data": {
      "text/plain": [
       "['apricot', 'banana', 'grapes', 'kiwi', 'orange', 'strawberry']"
      ]
     },
     "execution_count": 37,
     "metadata": {},
     "output_type": "execute_result"
    }
   ],
   "source": [
    "Fruits"
   ]
  },
  {
   "cell_type": "markdown",
   "metadata": {},
   "source": [
    "#### Loop thorugh a list\n",
    "You can loop thorugh the list by using a for loop:"
   ]
  },
  {
   "cell_type": "code",
   "execution_count": 32,
   "metadata": {
    "ExecuteTime": {
     "end_time": "2020-11-18T03:46:11.439760Z",
     "start_time": "2020-11-18T03:46:11.428192Z"
    }
   },
   "outputs": [
    {
     "name": "stdout",
     "output_type": "stream",
     "text": [
      "We are printing one element at a time: apricot\n",
      "We are printing one element at a time: banana\n",
      "We are printing one element at a time: grapes\n",
      "We are printing one element at a time: kiwi\n",
      "We are printing one element at a time: orange\n",
      "We are printing one element at a time: strawberry\n"
     ]
    }
   ],
   "source": [
    "# looping through the list\n",
    "\n",
    "for gf in Fruits:\n",
    "    print('We are printing one element at a time:', gf)"
   ]
  },
  {
   "cell_type": "markdown",
   "metadata": {},
   "source": [
    "#### Check if item exists in the list\n",
    "\n",
    "Check if a list contains a value using the in keyword:"
   ]
  },
  {
   "cell_type": "code",
   "execution_count": 38,
   "metadata": {
    "ExecuteTime": {
     "end_time": "2020-11-18T03:47:19.920656Z",
     "start_time": "2020-11-18T03:47:19.910887Z"
    }
   },
   "outputs": [
    {
     "data": {
      "text/plain": [
       "True"
      ]
     },
     "execution_count": 38,
     "metadata": {},
     "output_type": "execute_result"
    }
   ],
   "source": [
    "7 in x"
   ]
  },
  {
   "cell_type": "markdown",
   "metadata": {},
   "source": [
    "The keyword not can be used to negate in:"
   ]
  },
  {
   "cell_type": "code",
   "execution_count": 39,
   "metadata": {
    "ExecuteTime": {
     "end_time": "2020-11-18T03:47:31.355659Z",
     "start_time": "2020-11-18T03:47:31.345641Z"
    }
   },
   "outputs": [
    {
     "data": {
      "text/plain": [
       "False"
      ]
     },
     "execution_count": 39,
     "metadata": {},
     "output_type": "execute_result"
    }
   ],
   "source": [
    "7 not in x"
   ]
  },
  {
   "cell_type": "markdown",
   "metadata": {},
   "source": [
    "#### List  Methods and funtioncs\n",
    "\n",
    "| Method |   Action   |\n",
    "|:---|:---|\n",
    "|   len(x) | Returns the number of items in x   |\n",
    "|   x.index(i) | Returns the index of items in x   |\n",
    "|   min(x) | Returns the minimum value in x     |\n",
    "|   max(x) | Returns the maximum of items in x   |\n",
    "|   x.append(x1) | will append x1 to teh end of x     |\n",
    "|   x.extend(x1) | will extend the list x by appending all the elements i list x1, x1 has to be a list  |\n",
    "|   x.insert(i,x1) | will insert item x1 atbindex i    |\n",
    "|   x.count(i) | Returns frequency of occurence of i  |\n",
    "|   x.remove(i)| Will remove the first i from x  will raise ValueError ifnthere is no i      |\n",
    "|   x.pop([i]) | will remove and return the item at index i.  |\n",
    "|   del x[a:b] | This method deletes all the elements in range starting from index ‘a’ till ‘b’ mentioned in arguments.    |\n",
    "|   x.sort() | Will sort the items in A in-place   |\n",
    "|   x.reverse() | Reverse the order of the list in place   |\n",
    "|   all(list1) | True if all items in the list have a True value  |\n",
    "|   any(list1) | True if one item in the list have a True value  |\n",
    "\n",
    "\n",
    "*Note: Make sure to understand the difference between append and extend methods.*\n",
    "\n",
    "**Note:** make sure to understand the difference between pop, del and remove \n",
    "\n",
    "Let us consider some examples to illustrate these methods and functions\n"
   ]
  },
  {
   "cell_type": "code",
   "execution_count": 41,
   "metadata": {
    "ExecuteTime": {
     "end_time": "2020-06-08T04:39:39.013428Z",
     "start_time": "2020-06-08T04:39:39.005369Z"
    }
   },
   "outputs": [
    {
     "name": "stdout",
     "output_type": "stream",
     "text": [
      "number of elements is: 3\n"
     ]
    }
   ],
   "source": [
    "A = [4, 7, 5]\n",
    "print('number of elements is:', len(A))"
   ]
  },
  {
   "cell_type": "code",
   "execution_count": 43,
   "metadata": {
    "ExecuteTime": {
     "end_time": "2020-06-08T04:39:42.465659Z",
     "start_time": "2020-06-08T04:39:42.457995Z"
    }
   },
   "outputs": [
    {
     "data": {
      "text/plain": [
       "2"
      ]
     },
     "execution_count": 43,
     "metadata": {},
     "output_type": "execute_result"
    }
   ],
   "source": [
    "A.index(5)"
   ]
  },
  {
   "cell_type": "code",
   "execution_count": 44,
   "metadata": {
    "ExecuteTime": {
     "end_time": "2020-11-18T03:49:24.177042Z",
     "start_time": "2020-11-18T03:49:24.168484Z"
    }
   },
   "outputs": [
    {
     "name": "stdout",
     "output_type": "stream",
     "text": [
      "list now :  ['maths', 'chemistry', 'Biology', 'physics']\n"
     ]
    }
   ],
   "source": [
    "list1 = ['physics', 'Biology', 'chemistry', 'maths']\n",
    "list1.reverse()\n",
    "print (\"list now : \", list1)"
   ]
  },
  {
   "cell_type": "code",
   "execution_count": 47,
   "metadata": {
    "ExecuteTime": {
     "end_time": "2020-11-18T03:49:26.978096Z",
     "start_time": "2020-11-18T03:49:26.969818Z"
    }
   },
   "outputs": [
    {
     "data": {
      "text/plain": [
       "['physics', 'Biology', 'chemistry', 'maths']"
      ]
     },
     "execution_count": 47,
     "metadata": {},
     "output_type": "execute_result"
    }
   ],
   "source": [
    "list1[::-1]"
   ]
  },
  {
   "cell_type": "code",
   "execution_count": 46,
   "metadata": {
    "ExecuteTime": {
     "end_time": "2020-06-08T04:46:17.405518Z",
     "start_time": "2020-06-08T04:46:17.396273Z"
    }
   },
   "outputs": [
    {
     "name": "stdout",
     "output_type": "stream",
     "text": [
      "the max and min are:  7 4\n"
     ]
    }
   ],
   "source": [
    "A = [4, 7, 5]\n",
    "print('the max and min are: ', max(A), min(A))"
   ]
  },
  {
   "cell_type": "code",
   "execution_count": 22,
   "metadata": {
    "ExecuteTime": {
     "end_time": "2020-11-18T03:50:15.482059Z",
     "start_time": "2020-11-18T03:50:15.473640Z"
    }
   },
   "outputs": [
    {
     "name": "stdout",
     "output_type": "stream",
     "text": [
      "[4, 7, -3, 5]\n"
     ]
    }
   ],
   "source": [
    "A = [4, 7, 5]\n",
    "A.insert(2, -3) \n",
    "print(A)"
   ]
  },
  {
   "cell_type": "code",
   "execution_count": 14,
   "metadata": {
    "ExecuteTime": {
     "end_time": "2020-06-08T04:44:52.621224Z",
     "start_time": "2020-06-08T04:44:52.611948Z"
    }
   },
   "outputs": [
    {
     "name": "stdout",
     "output_type": "stream",
     "text": [
      "[4, 5]\n"
     ]
    }
   ],
   "source": [
    "A.pop(1) # will pop 7 that is located at index 1\n",
    "print(A)"
   ]
  },
  {
   "cell_type": "code",
   "execution_count": 15,
   "metadata": {
    "ExecuteTime": {
     "end_time": "2020-06-08T04:44:23.107338Z",
     "start_time": "2020-06-08T04:44:23.093906Z"
    }
   },
   "outputs": [
    {
     "name": "stdout",
     "output_type": "stream",
     "text": [
      "[4]\n"
     ]
    }
   ],
   "source": [
    "A.pop()\n",
    "print(A)"
   ]
  },
  {
   "cell_type": "code",
   "execution_count": 18,
   "metadata": {},
   "outputs": [
    {
     "data": {
      "text/plain": [
       "[4, 7, 5]"
      ]
     },
     "execution_count": 18,
     "metadata": {},
     "output_type": "execute_result"
    }
   ],
   "source": [
    "A"
   ]
  },
  {
   "cell_type": "code",
   "execution_count": 20,
   "metadata": {},
   "outputs": [
    {
     "name": "stdout",
     "output_type": "stream",
     "text": [
      "[7, 5]\n"
     ]
    }
   ],
   "source": [
    "A.remove(4) # will remove -3 from the list A\n",
    "print(A)"
   ]
  },
  {
   "cell_type": "code",
   "execution_count": 24,
   "metadata": {},
   "outputs": [
    {
     "data": {
      "text/plain": [
       "[4, 7]"
      ]
     },
     "execution_count": 24,
     "metadata": {},
     "output_type": "execute_result"
    }
   ],
   "source": [
    "del A[2]\n",
    "A"
   ]
  },
  {
   "cell_type": "code",
   "execution_count": 48,
   "metadata": {
    "ExecuteTime": {
     "end_time": "2020-06-08T04:44:55.244961Z",
     "start_time": "2020-06-08T04:44:55.238007Z"
    },
    "scrolled": true
   },
   "outputs": [
    {
     "name": "stdout",
     "output_type": "stream",
     "text": [
      "[]\n"
     ]
    }
   ],
   "source": [
    "# The clear() method empties the list\n",
    "list1 = [\"apple\", \"banana\", \"cherry\"]\n",
    "list1.clear()\n",
    "print(list1)"
   ]
  },
  {
   "cell_type": "code",
   "execution_count": 52,
   "metadata": {},
   "outputs": [
    {
     "ename": "NameError",
     "evalue": "name 'x1' is not defined",
     "output_type": "error",
     "traceback": [
      "\u001b[0;31m---------------------------------------------------------------------------\u001b[0m",
      "\u001b[0;31mNameError\u001b[0m                                 Traceback (most recent call last)",
      "\u001b[0;32m<ipython-input-52-165ba489f8de>\u001b[0m in \u001b[0;36m<module>\u001b[0;34m\u001b[0m\n\u001b[1;32m      1\u001b[0m \u001b[0mx1\u001b[0m \u001b[0;34m=\u001b[0m \u001b[0;34m[\u001b[0m\u001b[0;34m\"apple\"\u001b[0m\u001b[0;34m,\u001b[0m \u001b[0;34m\"banana\"\u001b[0m\u001b[0;34m,\u001b[0m \u001b[0;34m\"cherry\"\u001b[0m\u001b[0;34m]\u001b[0m\u001b[0;34m\u001b[0m\u001b[0;34m\u001b[0m\u001b[0m\n\u001b[1;32m      2\u001b[0m \u001b[0;32mdel\u001b[0m \u001b[0mx1\u001b[0m\u001b[0;34m\u001b[0m\u001b[0;34m\u001b[0m\u001b[0m\n\u001b[0;32m----> 3\u001b[0;31m \u001b[0mprint\u001b[0m\u001b[0;34m(\u001b[0m\u001b[0mx1\u001b[0m\u001b[0;34m)\u001b[0m\u001b[0;34m\u001b[0m\u001b[0;34m\u001b[0m\u001b[0m\n\u001b[0m",
      "\u001b[0;31mNameError\u001b[0m: name 'x1' is not defined"
     ]
    }
   ],
   "source": [
    "x1 = [\"apple\", \"banana\", \"cherry\"]\n",
    "del x1\n",
    "print(x1)"
   ]
  },
  {
   "cell_type": "markdown",
   "metadata": {},
   "source": [
    "#### Join two lists\n",
    "\n",
    "There are sveral ways to join, Concatenating or combining two or more lists"
   ]
  },
  {
   "cell_type": "code",
   "execution_count": 31,
   "metadata": {
    "ExecuteTime": {
     "end_time": "2020-11-18T03:51:37.708315Z",
     "start_time": "2020-11-18T03:51:37.702410Z"
    }
   },
   "outputs": [
    {
     "name": "stdout",
     "output_type": "stream",
     "text": [
      "['a', 'b', 'c', 1, 2, 3]\n"
     ]
    }
   ],
   "source": [
    "list1 = [\"a\", \"b\" , \"c\"]\n",
    "list2 = [1, 2, 3]\n",
    "\n",
    "list3 = list1 + list2\n",
    "print(list3)"
   ]
  },
  {
   "cell_type": "code",
   "execution_count": 32,
   "metadata": {
    "ExecuteTime": {
     "end_time": "2020-06-08T04:46:28.339498Z",
     "start_time": "2020-06-08T04:46:28.326103Z"
    }
   },
   "outputs": [
    {
     "data": {
      "text/plain": [
       "[4, 7]"
      ]
     },
     "execution_count": 32,
     "metadata": {},
     "output_type": "execute_result"
    }
   ],
   "source": [
    "A"
   ]
  },
  {
   "cell_type": "code",
   "execution_count": 33,
   "metadata": {
    "ExecuteTime": {
     "end_time": "2020-11-18T03:51:52.181279Z",
     "start_time": "2020-11-18T03:51:52.175407Z"
    }
   },
   "outputs": [
    {
     "name": "stdout",
     "output_type": "stream",
     "text": [
      "[4, 7, 3.14]\n"
     ]
    }
   ],
   "source": [
    "A.append(3.14) # 3.14 will get appended to A\n",
    "print(A)"
   ]
  },
  {
   "cell_type": "code",
   "execution_count": 54,
   "metadata": {
    "ExecuteTime": {
     "end_time": "2020-11-18T03:52:15.728347Z",
     "start_time": "2020-11-18T03:52:15.721078Z"
    }
   },
   "outputs": [
    {
     "name": "stdout",
     "output_type": "stream",
     "text": [
      "[4, 7, 5, [-6, -7]]\n"
     ]
    }
   ],
   "source": [
    "A = [4, 7, 5]\n",
    "A.append([-6, -7]) # list [-6, -7] will be appended to A\n",
    "print(A)"
   ]
  },
  {
   "cell_type": "code",
   "execution_count": null,
   "metadata": {
    "ExecuteTime": {
     "end_time": "2020-06-08T04:50:09.064671Z",
     "start_time": "2020-06-08T04:50:09.057881Z"
    }
   },
   "outputs": [],
   "source": [
    "print((A[3]))"
   ]
  },
  {
   "cell_type": "code",
   "execution_count": 53,
   "metadata": {
    "ExecuteTime": {
     "end_time": "2020-11-18T03:52:21.067154Z",
     "start_time": "2020-11-18T03:52:21.056062Z"
    }
   },
   "outputs": [
    {
     "name": "stdout",
     "output_type": "stream",
     "text": [
      "[4, 7, 5, -6, -7]\n",
      "-6\n"
     ]
    }
   ],
   "source": [
    "A = [4, 7, 5]\n",
    "A.extend([-6,-7]) # values -9 and -8 will be appended to A\n",
    "print(A)\n",
    "print(A[3])"
   ]
  },
  {
   "cell_type": "code",
   "execution_count": 55,
   "metadata": {
    "ExecuteTime": {
     "end_time": "2020-06-08T04:51:16.707677Z",
     "start_time": "2020-06-08T04:51:16.696927Z"
    },
    "scrolled": true
   },
   "outputs": [
    {
     "name": "stdout",
     "output_type": "stream",
     "text": [
      "[4, 3.14, [-6, -7], -9, -8, 4, 7]\n"
     ]
    }
   ],
   "source": [
    "A = [4, 3.14, [-6, -7], -9, -8]\n",
    "A.extend([4,7])\n",
    "print(A)"
   ]
  },
  {
   "cell_type": "code",
   "execution_count": 38,
   "metadata": {},
   "outputs": [
    {
     "name": "stdout",
     "output_type": "stream",
     "text": [
      "[4, 3.14, [-6, -7], -9, -8, [4, 7]]\n"
     ]
    }
   ],
   "source": [
    "A = [4, 3.14, [-6, -7], -9, -8]\n",
    "A.append([4,7])\n",
    "print(A)"
   ]
  },
  {
   "cell_type": "code",
   "execution_count": 37,
   "metadata": {
    "ExecuteTime": {
     "end_time": "2020-06-05T01:52:42.186699Z",
     "start_time": "2020-06-05T01:52:42.165997Z"
    }
   },
   "outputs": [
    {
     "name": "stdout",
     "output_type": "stream",
     "text": [
      "[4, 3.14, [-6, -7], -9, -8, 91, 92]\n"
     ]
    }
   ],
   "source": [
    "A = [4, 3.14, [-6, -7], -9, -8]\n",
    "A.extend((91,92))\n",
    "print(A)"
   ]
  },
  {
   "cell_type": "code",
   "execution_count": null,
   "metadata": {
    "ExecuteTime": {
     "end_time": "2020-06-08T04:51:30.684998Z",
     "start_time": "2020-06-08T04:51:30.674771Z"
    }
   },
   "outputs": [],
   "source": [
    "print(4 in A)"
   ]
  },
  {
   "cell_type": "code",
   "execution_count": null,
   "metadata": {
    "ExecuteTime": {
     "end_time": "2020-11-18T03:52:40.386347Z",
     "start_time": "2020-11-18T03:52:40.375258Z"
    }
   },
   "outputs": [],
   "source": [
    "## Sorting: can sort a list in-place (withoput creatin a new object) \n",
    "# by calling its osrt function\n",
    "A = [1, 5, 4, 7, 3]\n",
    "A.sort()\n",
    "A"
   ]
  },
  {
   "cell_type": "code",
   "execution_count": 39,
   "metadata": {
    "ExecuteTime": {
     "end_time": "2020-11-18T03:53:21.768256Z",
     "start_time": "2020-11-18T03:53:21.761684Z"
    }
   },
   "outputs": [
    {
     "name": "stdout",
     "output_type": "stream",
     "text": [
      "[[2, 9], [5, 7]]\n"
     ]
    }
   ],
   "source": [
    "lista = [[5, 7], [2, 9]]\n",
    "lista.sort()\n",
    "print(lista)"
   ]
  },
  {
   "cell_type": "code",
   "execution_count": 40,
   "metadata": {
    "ExecuteTime": {
     "end_time": "2020-11-18T03:53:25.738029Z",
     "start_time": "2020-11-18T03:53:25.732897Z"
    }
   },
   "outputs": [
    {
     "name": "stdout",
     "output_type": "stream",
     "text": [
      "[[5, 4], [5, 7]]\n"
     ]
    }
   ],
   "source": [
    "listb = [[5, 7], [5,4]]\n",
    "listb.sort()\n",
    "print(listb)"
   ]
  },
  {
   "cell_type": "markdown",
   "metadata": {},
   "source": [
    "sort has a few options that will occasionally come in handy. One is the ability to pass a secondary sort key—that is, a function that produces a value to use to sort the objects. For example, we could sort a collection of strings by their lengths:"
   ]
  },
  {
   "cell_type": "code",
   "execution_count": 42,
   "metadata": {
    "ExecuteTime": {
     "end_time": "2020-06-08T04:54:00.396195Z",
     "start_time": "2020-06-08T04:54:00.378071Z"
    }
   },
   "outputs": [
    {
     "data": {
      "text/plain": [
       "['mo', 'six', 'john', 'jenny', 'richard']"
      ]
     },
     "execution_count": 42,
     "metadata": {},
     "output_type": "execute_result"
    }
   ],
   "source": [
    "b = ['john', 'jenny', 'mo', 'richard', 'six']\n",
    "#b.sort()\n",
    "b.sort(key=len)\n",
    "b"
   ]
  },
  {
   "cell_type": "code",
   "execution_count": null,
   "metadata": {},
   "outputs": [],
   "source": [
    "# Concatenating and combining lists\n",
    "\n",
    "list1 = [-10, -9]\n",
    "list2 = [9, 10]\n",
    "list3 = list1 + list2\n",
    "print(list3)"
   ]
  },
  {
   "cell_type": "markdown",
   "metadata": {},
   "source": [
    "#### Copy a List\n",
    "one cannot copy a list simply by typing list2 = list1, because: list2 will only be a reference to list1, and changes made in list1 will automatically also be made in list2.\n",
    "\n",
    "There are ways to make a copy, one way is to use the built-in List method copy(). Let us consider an example"
   ]
  },
  {
   "cell_type": "code",
   "execution_count": 43,
   "metadata": {
    "ExecuteTime": {
     "end_time": "2020-06-08T04:54:33.300664Z",
     "start_time": "2020-06-08T04:54:33.294497Z"
    }
   },
   "outputs": [
    {
     "name": "stdout",
     "output_type": "stream",
     "text": [
      "['apple', 'banana', 'cherry', 'strawberry']\n"
     ]
    }
   ],
   "source": [
    "list1 = [\"apple\", \"banana\", \"cherry\", \"strawberry\"]\n",
    "list2 = list1.copy()\n",
    "print(list2)"
   ]
  },
  {
   "cell_type": "code",
   "execution_count": 44,
   "metadata": {
    "ExecuteTime": {
     "end_time": "2020-06-08T04:54:34.727930Z",
     "start_time": "2020-06-08T04:54:34.718205Z"
    }
   },
   "outputs": [
    {
     "data": {
      "text/plain": [
       "['apple', 'banana', 'orange', 'strawberry']"
      ]
     },
     "execution_count": 44,
     "metadata": {},
     "output_type": "execute_result"
    }
   ],
   "source": [
    "list1[2] = \"orange\"\n",
    "list1"
   ]
  },
  {
   "cell_type": "code",
   "execution_count": 45,
   "metadata": {
    "ExecuteTime": {
     "end_time": "2020-06-08T04:54:39.389742Z",
     "start_time": "2020-06-08T04:54:39.380269Z"
    }
   },
   "outputs": [
    {
     "data": {
      "text/plain": [
       "['apple', 'banana', 'cherry', 'strawberry']"
      ]
     },
     "execution_count": 45,
     "metadata": {},
     "output_type": "execute_result"
    }
   ],
   "source": [
    "list2"
   ]
  },
  {
   "cell_type": "code",
   "execution_count": 46,
   "metadata": {},
   "outputs": [
    {
     "name": "stdout",
     "output_type": "stream",
     "text": [
      "['apple', 'banana', 'cherry', 'strawberry']\n"
     ]
    }
   ],
   "source": [
    "list1 = [\"apple\", \"banana\", \"cherry\", \"strawberry\"]\n",
    "list2 = list(list1)\n",
    "print(list2)"
   ]
  },
  {
   "cell_type": "markdown",
   "metadata": {},
   "source": [
    "#### zip\n",
    "zip “pairs” up the elements of a number of lists, tuples, or other sequences to create a list of tuples:\n"
   ]
  },
  {
   "cell_type": "code",
   "execution_count": 48,
   "metadata": {
    "ExecuteTime": {
     "end_time": "2020-11-18T03:55:13.243190Z",
     "start_time": "2020-11-18T03:55:13.234533Z"
    }
   },
   "outputs": [
    {
     "name": "stdout",
     "output_type": "stream",
     "text": [
      "[('foo', 'one'), ('bar', 'two')]\n"
     ]
    }
   ],
   "source": [
    "x1 = ['foo', 'bar', 'baz']\n",
    "x2 = ['one', 'two']\n",
    "x1x2 = zip(x1, x2)\n",
    "print(list(x1x2))\n",
    "#print(tuple(x1x2))"
   ]
  },
  {
   "cell_type": "markdown",
   "metadata": {},
   "source": [
    "A very common use of zip is simultaneously iterating over multiple sequences, possi‐\n",
    "bly also combined with enumerate:"
   ]
  },
  {
   "cell_type": "code",
   "execution_count": null,
   "metadata": {
    "ExecuteTime": {
     "end_time": "2020-11-18T03:55:29.647110Z",
     "start_time": "2020-11-18T03:55:29.636872Z"
    }
   },
   "outputs": [],
   "source": [
    "for i, (a, b) in enumerate(zip(x1, x2)):\n",
    "    print('{0}: {1}, {2}'.format(i, a, b))"
   ]
  },
  {
   "cell_type": "markdown",
   "metadata": {},
   "source": [
    "#### The list() Constructor\n",
    "It is also possible to use the list() constructor to make a new list."
   ]
  },
  {
   "cell_type": "code",
   "execution_count": 2,
   "metadata": {
    "ExecuteTime": {
     "end_time": "2020-11-19T02:02:19.406082Z",
     "start_time": "2020-11-19T02:02:19.399356Z"
    }
   },
   "outputs": [
    {
     "name": "stdout",
     "output_type": "stream",
     "text": [
      "['apple', 'banana', 'cherry', 'strawberry']\n"
     ]
    }
   ],
   "source": [
    "list1 = list((\"apple\", \"banana\", \"cherry\", \"strawberry\")) # note the double round-brackets\n",
    "print(list1)"
   ]
  },
  {
   "cell_type": "markdown",
   "metadata": {},
   "source": [
    "### List comprehension\n",
    "\n",
    "In Python, list comprehension provide an efficient and elegant way to create lists from a list or other iterable object. It is faster comparable to looping through each element in the list. It also provides a very succinct syntax making the code more readable. it can also prevent modifying the existing list in the process of creating a new list and hence makes the code \"functional\". \n",
    "\n",
    "List comprehension uses a square bracket with an expression followed by for loop with an optional if statement\n",
    "lst2 = [x for a in iterable if statement]\n",
    "\n",
    "\n"
   ]
  },
  {
   "cell_type": "code",
   "execution_count": 3,
   "metadata": {
    "ExecuteTime": {
     "end_time": "2020-11-19T02:05:09.944681Z",
     "start_time": "2020-11-19T02:05:09.938486Z"
    }
   },
   "outputs": [
    {
     "name": "stdout",
     "output_type": "stream",
     "text": [
      "[81, 4, 25]\n"
     ]
    }
   ],
   "source": [
    "# square every element in a list and make another list\n",
    "list1 = [-9, 2, 5]     # output [ 81 4 25]\n",
    "list2 = []\n",
    "for x in list1:\n",
    "    list2.append(x*x)\n",
    "print(list2)"
   ]
  },
  {
   "cell_type": "code",
   "execution_count": 4,
   "metadata": {
    "ExecuteTime": {
     "end_time": "2020-11-19T02:05:36.368640Z",
     "start_time": "2020-11-19T02:05:36.362320Z"
    }
   },
   "outputs": [
    {
     "name": "stdout",
     "output_type": "stream",
     "text": [
      "[81, 4, 25]\n"
     ]
    }
   ],
   "source": [
    "list1 = [-9, 2, 5]\n",
    "list2 = [x*x for x in list1]\n",
    "print(list2)"
   ]
  },
  {
   "cell_type": "markdown",
   "metadata": {},
   "source": [
    "A list comprehension can optionally contain more for or if statements. An optional if statement can filter out items for the new list. Here are some examples."
   ]
  },
  {
   "cell_type": "code",
   "execution_count": 5,
   "metadata": {
    "ExecuteTime": {
     "end_time": "2020-11-19T02:08:03.885544Z",
     "start_time": "2020-11-19T02:08:03.878559Z"
    }
   },
   "outputs": [
    {
     "name": "stdout",
     "output_type": "stream",
     "text": [
      "[15, 18]\n"
     ]
    }
   ],
   "source": [
    "# list comprehension to filter elements from the input list. \n",
    "list1 = [10, 15, 18, 20]\n",
    "list2 = [a for a in list1 if a %3 == 0]\n",
    "print(list2)"
   ]
  },
  {
   "cell_type": "code",
   "execution_count": 56,
   "metadata": {
    "ExecuteTime": {
     "end_time": "2020-11-19T02:09:24.077590Z",
     "start_time": "2020-11-19T02:09:24.070422Z"
    }
   },
   "outputs": [
    {
     "name": "stdout",
     "output_type": "stream",
     "text": [
      "[10, 18, 20]\n"
     ]
    }
   ],
   "source": [
    "list1 = [10, 15, 18, 20]\n",
    "list3 = [a for a in list1 if a %2 == 0]\n",
    "print(list3)"
   ]
  },
  {
   "cell_type": "code",
   "execution_count": 68,
   "metadata": {
    "ExecuteTime": {
     "end_time": "2020-11-19T02:10:14.045417Z",
     "start_time": "2020-11-19T02:10:14.040133Z"
    }
   },
   "outputs": [],
   "source": [
    "# Nested list\n",
    "\n",
    "x=[[1,2],[6,7]]\n"
   ]
  },
  {
   "cell_type": "code",
   "execution_count": 66,
   "metadata": {},
   "outputs": [
    {
     "data": {
      "text/plain": [
       "4"
      ]
     },
     "execution_count": 66,
     "metadata": {},
     "output_type": "execute_result"
    }
   ],
   "source": [
    "x =[1,2,3,[5,6]]\n",
    "len(x)\n"
   ]
  },
  {
   "cell_type": "code",
   "execution_count": 58,
   "metadata": {
    "ExecuteTime": {
     "end_time": "2020-11-19T02:10:21.938441Z",
     "start_time": "2020-11-19T02:10:21.916688Z"
    }
   },
   "outputs": [
    {
     "data": {
      "text/plain": [
       "2"
      ]
     },
     "execution_count": 58,
     "metadata": {},
     "output_type": "execute_result"
    }
   ],
   "source": [
    "len(x)"
   ]
  },
  {
   "cell_type": "code",
   "execution_count": null,
   "metadata": {},
   "outputs": [],
   "source": [
    "type(x)"
   ]
  },
  {
   "cell_type": "code",
   "execution_count": 10,
   "metadata": {
    "ExecuteTime": {
     "end_time": "2020-11-19T02:11:37.072237Z",
     "start_time": "2020-11-19T02:11:37.064800Z"
    }
   },
   "outputs": [
    {
     "data": {
      "text/plain": [
       "list"
      ]
     },
     "execution_count": 10,
     "metadata": {},
     "output_type": "execute_result"
    }
   ],
   "source": [
    "type(x[0])"
   ]
  },
  {
   "cell_type": "code",
   "execution_count": 69,
   "metadata": {
    "ExecuteTime": {
     "end_time": "2020-11-19T02:12:29.661803Z",
     "start_time": "2020-11-19T02:12:29.654487Z"
    }
   },
   "outputs": [
    {
     "data": {
      "text/plain": [
       "1"
      ]
     },
     "execution_count": 69,
     "metadata": {},
     "output_type": "execute_result"
    }
   ],
   "source": [
    "# Access 1\n",
    "x[0][0]"
   ]
  },
  {
   "cell_type": "code",
   "execution_count": 71,
   "metadata": {
    "ExecuteTime": {
     "end_time": "2020-11-19T02:12:55.471506Z",
     "start_time": "2020-11-19T02:12:55.463904Z"
    }
   },
   "outputs": [
    {
     "data": {
      "text/plain": [
       "False"
      ]
     },
     "execution_count": 71,
     "metadata": {},
     "output_type": "execute_result"
    }
   ],
   "source": [
    "'''\n",
    "Practice Problem\n",
    "\n",
    "Given a list check if all the values are True\n",
    "['','','1']\n",
    "'''\n",
    "\n",
    "all(['','','1'])"
   ]
  },
  {
   "cell_type": "code",
   "execution_count": 60,
   "metadata": {
    "ExecuteTime": {
     "end_time": "2020-11-19T02:14:39.641770Z",
     "start_time": "2020-11-19T02:14:39.632073Z"
    }
   },
   "outputs": [
    {
     "data": {
      "text/plain": [
       "True"
      ]
     },
     "execution_count": 60,
     "metadata": {},
     "output_type": "execute_result"
    }
   ],
   "source": [
    "'''\n",
    "Practice Problem\n",
    "\n",
    "Given a list check if any of the  the values are True\n",
    "['','','1']\n",
    "'''\n",
    "any(['','','1'])"
   ]
  },
  {
   "cell_type": "code",
   "execution_count": 73,
   "metadata": {
    "ExecuteTime": {
     "end_time": "2020-11-19T02:17:13.215490Z",
     "start_time": "2020-11-19T02:17:13.207160Z"
    }
   },
   "outputs": [
    {
     "name": "stdout",
     "output_type": "stream",
     "text": [
      "[[[1, 2], [3, 4], 5], [6, 7]]\n",
      "2\n"
     ]
    }
   ],
   "source": [
    "'''\n",
    "Practice exercise\n",
    "\n",
    "extract 3 and 5\n",
    "'''\n",
    "a=[[[1,2],[3,4],5],[6,7]]\n",
    "\n",
    "print(a)\n",
    "\n",
    "print(len(a))"
   ]
  },
  {
   "cell_type": "code",
   "execution_count": 74,
   "metadata": {
    "ExecuteTime": {
     "end_time": "2020-11-19T02:19:47.995929Z",
     "start_time": "2020-11-19T02:19:47.986611Z"
    }
   },
   "outputs": [
    {
     "name": "stdout",
     "output_type": "stream",
     "text": [
      "[[1, 2], [3, 4], 5]\n",
      "\n",
      "\n",
      "[3, 4]\n"
     ]
    }
   ],
   "source": [
    "print(a[0])\n",
    "print(\"\\n\")\n",
    "print(a[0][1])"
   ]
  },
  {
   "cell_type": "code",
   "execution_count": 20,
   "metadata": {
    "ExecuteTime": {
     "end_time": "2020-11-19T02:19:52.072593Z",
     "start_time": "2020-11-19T02:19:52.065476Z"
    }
   },
   "outputs": [
    {
     "name": "stdout",
     "output_type": "stream",
     "text": [
      "3\n"
     ]
    }
   ],
   "source": [
    "print(a[0][1][0])\n"
   ]
  },
  {
   "cell_type": "markdown",
   "metadata": {},
   "source": [
    "#### How to Convert a list to string\n",
    "\n",
    "use str.join()"
   ]
  },
  {
   "cell_type": "code",
   "execution_count": 75,
   "metadata": {
    "ExecuteTime": {
     "end_time": "2020-11-19T02:20:25.066190Z",
     "start_time": "2020-11-19T02:20:25.061427Z"
    }
   },
   "outputs": [],
   "source": [
    "listOfwords = [\"This\" , \"is\", \"a\", \"python\", \"for\", \"data analysis\", \"course\"]"
   ]
  },
  {
   "cell_type": "code",
   "execution_count": 76,
   "metadata": {
    "ExecuteTime": {
     "end_time": "2020-11-19T02:21:30.462641Z",
     "start_time": "2020-11-19T02:21:30.450483Z"
    }
   },
   "outputs": [
    {
     "name": "stdout",
     "output_type": "stream",
     "text": [
      "This is a python for data analysis course\n"
     ]
    }
   ],
   "source": [
    "'''\n",
    "Convert list of string to a string with whitespace as seperator\n",
    "'''\n",
    "# Join all the strings in list\n",
    "list_str = ' '.join(listOfwords)\n",
    "print(list_str)"
   ]
  },
  {
   "cell_type": "code",
   "execution_count": 23,
   "metadata": {
    "ExecuteTime": {
     "end_time": "2020-11-19T02:21:58.907079Z",
     "start_time": "2020-11-19T02:21:58.901451Z"
    }
   },
   "outputs": [
    {
     "name": "stdout",
     "output_type": "stream",
     "text": [
      "This,is,a,python,for,data analysis,course\n"
     ]
    }
   ],
   "source": [
    "# Let us try another separator, ','\n",
    "\n",
    "# Join all the strings in list\n",
    "list_str = ','.join(listOfwords)\n",
    "print(list_str)"
   ]
  },
  {
   "cell_type": "code",
   "execution_count": 53,
   "metadata": {
    "ExecuteTime": {
     "end_time": "2020-11-19T02:22:14.572294Z",
     "start_time": "2020-11-19T02:22:14.565481Z"
    }
   },
   "outputs": [
    {
     "name": "stdout",
     "output_type": "stream",
     "text": [
      "This_is_a_python_for_data analysis_course_404_20\n"
     ]
    }
   ],
   "source": [
    "# list comprhension and mix list \n",
    "listOfwords = [\"This\" , \"is\", \"a\", \"python\", \"for\", \"data analysis\", \"course\", 404, 20]\n",
    "list_str_mix = '_'.join([str(elem) for elem in listOfwords ])\n",
    "print(list_str_mix)"
   ]
  },
  {
   "cell_type": "markdown",
   "metadata": {},
   "source": [
    "In this notebook on Python Lists, we investigated various facts related to list. we looked at how to declare and access a list. That included slicing lists in python. Then we looked at how to delete and reassign elements or an entire list. Next, we learned about multidimensional lists and comprehension. We saw how to iterate on python lists, concatenate them, and also the operations that you can perform on them. Lastly, we looked at some built-in functions and methods that you can call on lists. "
   ]
  },
  {
   "cell_type": "markdown",
   "metadata": {},
   "source": [
    "### Tuple\n",
    "\n",
    "Tuple is another sequence. unlike lists, tuples are immutable. So the elements of a tuple cannot be modified after they have been created. \n",
    "\n",
    "\n"
   ]
  },
  {
   "cell_type": "markdown",
   "metadata": {},
   "source": [
    "#### Syntax: \n",
    "A tuple starts with an open parenthesis, ( and ends with a closed parenthesis ). Elements in a tuple are separated by comma.\n",
    "\n",
    "**Note:** there is a comma at the end also. It is customary to put a comma after the last element. This will be especially useful when we have only one element in a tuple. Why? In the following example, we follow the tuple syntax and created a tuple with only one element. When we printed the type, notice the type is 'str' and not tuple. \n",
    "\n",
    "By adding a comma at the end, we are indicating to the Python interpreter that we want the object to be treated as a tuple with one element. However it is optional when there is more than one element. Still it is customary to add comma at the end to all tuples. "
   ]
  },
  {
   "cell_type": "code",
   "execution_count": 54,
   "metadata": {
    "ExecuteTime": {
     "end_time": "2020-11-19T02:24:47.332338Z",
     "start_time": "2020-11-19T02:24:47.322319Z"
    }
   },
   "outputs": [
    {
     "name": "stdout",
     "output_type": "stream",
     "text": [
      "(1, 2, 3)\n"
     ]
    },
    {
     "data": {
      "text/plain": [
       "tuple"
      ]
     },
     "execution_count": 54,
     "metadata": {},
     "output_type": "execute_result"
    }
   ],
   "source": [
    "tuple1 = (1, 2, 3,)\n",
    "print(tuple1)\n",
    "type(tuple1)"
   ]
  },
  {
   "cell_type": "code",
   "execution_count": null,
   "metadata": {},
   "outputs": [],
   "source": []
  },
  {
   "cell_type": "code",
   "execution_count": 55,
   "metadata": {
    "ExecuteTime": {
     "end_time": "2020-11-19T02:25:46.889907Z",
     "start_time": "2020-11-19T02:25:46.882730Z"
    }
   },
   "outputs": [
    {
     "name": "stdout",
     "output_type": "stream",
     "text": [
      "one <class 'str'>\n"
     ]
    }
   ],
   "source": [
    "tuple1 = ('one')\n",
    "print(tuple1, type(tuple1))"
   ]
  },
  {
   "cell_type": "markdown",
   "metadata": {},
   "source": [
    "For writing tuple for a single value, you need to include a comma, even though there is a single value. Also at the end you need to write semicolon as shown below."
   ]
  },
  {
   "cell_type": "code",
   "execution_count": 56,
   "metadata": {},
   "outputs": [
    {
     "name": "stdout",
     "output_type": "stream",
     "text": [
      "('one',) <class 'tuple'>\n"
     ]
    }
   ],
   "source": [
    "tuple1 = ('one',)\n",
    "print(tuple1, type(tuple1))"
   ]
  },
  {
   "cell_type": "markdown",
   "metadata": {},
   "source": [
    "To create an empty tuple, you need to write as two parentheses containing nothing:\n",
    "\n",
    "tup = ()"
   ]
  },
  {
   "cell_type": "markdown",
   "metadata": {},
   "source": [
    "You can convert any sequence or iterator to a tuple by invoking tuple:"
   ]
  },
  {
   "cell_type": "code",
   "execution_count": 29,
   "metadata": {
    "ExecuteTime": {
     "end_time": "2020-11-19T02:26:36.304206Z",
     "start_time": "2020-11-19T02:26:36.296834Z"
    }
   },
   "outputs": [
    {
     "name": "stdout",
     "output_type": "stream",
     "text": [
      "<class 'tuple'>\n"
     ]
    }
   ],
   "source": [
    "x = [1,2,3]\n",
    "x1 = tuple(x)\n",
    "print(type(x1))"
   ]
  },
  {
   "cell_type": "markdown",
   "metadata": {},
   "source": [
    "#### The tuple() Constructor\n",
    "It is also possible to use the tuple() constructor to make a tuple."
   ]
  },
  {
   "cell_type": "code",
   "execution_count": 30,
   "metadata": {
    "ExecuteTime": {
     "end_time": "2020-11-19T02:27:35.017288Z",
     "start_time": "2020-11-19T02:27:35.010996Z"
    }
   },
   "outputs": [
    {
     "data": {
      "text/plain": [
       "(1, 2, 3)"
      ]
     },
     "execution_count": 30,
     "metadata": {},
     "output_type": "execute_result"
    }
   ],
   "source": [
    "x = tuple([1,2,3])\n",
    "x"
   ]
  },
  {
   "cell_type": "markdown",
   "metadata": {},
   "source": [
    "### Aceesing/Slicing of Tuple\n",
    "Elements of tuple can be accessed with square brackets and integer known as index. Index starts with zero. "
   ]
  },
  {
   "cell_type": "code",
   "execution_count": 31,
   "metadata": {
    "ExecuteTime": {
     "end_time": "2020-11-19T02:28:23.088847Z",
     "start_time": "2020-11-19T02:28:23.081224Z"
    }
   },
   "outputs": [
    {
     "data": {
      "text/plain": [
       "2"
      ]
     },
     "execution_count": 31,
     "metadata": {},
     "output_type": "execute_result"
    }
   ],
   "source": [
    "x[1]"
   ]
  },
  {
   "cell_type": "markdown",
   "metadata": {},
   "source": [
    "#### Change Tuple Values\n",
    "\n",
    "Since tuples are immutable, we cannot alter elements in a tuple after the tuple \n",
    "is defined. \n"
   ]
  },
  {
   "cell_type": "code",
   "execution_count": 77,
   "metadata": {
    "ExecuteTime": {
     "end_time": "2020-11-19T02:28:34.449487Z",
     "start_time": "2020-11-19T02:28:34.442377Z"
    }
   },
   "outputs": [
    {
     "name": "stdout",
     "output_type": "stream",
     "text": [
      "13\n",
      "19\n"
     ]
    }
   ],
   "source": [
    "tuple2 = (13, 19, 25,) \n",
    "print(tuple2[0]) # accessing the first element in tuple2\n",
    "print(tuple2[1]) # accessing the second element in tuple2"
   ]
  },
  {
   "cell_type": "code",
   "execution_count": 78,
   "metadata": {
    "ExecuteTime": {
     "end_time": "2020-11-19T02:28:56.613494Z",
     "start_time": "2020-11-19T02:28:56.036061Z"
    }
   },
   "outputs": [
    {
     "ename": "TypeError",
     "evalue": "'tuple' object does not support item assignment",
     "output_type": "error",
     "traceback": [
      "\u001b[0;31m---------------------------------------------------------------------------\u001b[0m",
      "\u001b[0;31mTypeError\u001b[0m                                 Traceback (most recent call last)",
      "\u001b[0;32m<ipython-input-78-010b3b2983fe>\u001b[0m in \u001b[0;36m<module>\u001b[0;34m\u001b[0m\n\u001b[0;32m----> 1\u001b[0;31m \u001b[0mtuple2\u001b[0m\u001b[0;34m[\u001b[0m\u001b[0;36m1\u001b[0m\u001b[0;34m]\u001b[0m \u001b[0;34m=\u001b[0m \u001b[0;36m29\u001b[0m\u001b[0;34m\u001b[0m\u001b[0;34m\u001b[0m\u001b[0m\n\u001b[0m",
      "\u001b[0;31mTypeError\u001b[0m: 'tuple' object does not support item assignment"
     ]
    }
   ],
   "source": [
    "tuple2[1] = 29"
   ]
  },
  {
   "cell_type": "markdown",
   "metadata": {},
   "source": [
    "#### Add Items\n",
    "Once a tuple is created, you cannot add items to it. Tuples are unchangeable.\n",
    "\n",
    "Example"
   ]
  },
  {
   "cell_type": "markdown",
   "metadata": {},
   "source": [
    "But there is a workaround. You can convert the tuple into a list, change the list, and convert the list back into a tuple."
   ]
  },
  {
   "cell_type": "code",
   "execution_count": 34,
   "metadata": {
    "ExecuteTime": {
     "end_time": "2020-11-19T02:29:52.012119Z",
     "start_time": "2020-11-19T02:29:51.998638Z"
    }
   },
   "outputs": [
    {
     "ename": "TypeError",
     "evalue": "'type' object does not support item assignment",
     "output_type": "error",
     "traceback": [
      "\u001b[0;31m---------------------------------------------------------------------------\u001b[0m",
      "\u001b[0;31mTypeError\u001b[0m                                 Traceback (most recent call last)",
      "\u001b[0;32m<ipython-input-34-0d7a4db40062>\u001b[0m in \u001b[0;36m<module>\u001b[0;34m\u001b[0m\n\u001b[0;32m----> 1\u001b[0;31m \u001b[0mtuple\u001b[0m\u001b[0;34m[\u001b[0m\u001b[0;36m3\u001b[0m\u001b[0;34m]\u001b[0m \u001b[0;34m=\u001b[0m \u001b[0;36m30\u001b[0m\u001b[0;34m\u001b[0m\u001b[0;34m\u001b[0m\u001b[0m\n\u001b[0m",
      "\u001b[0;31mTypeError\u001b[0m: 'type' object does not support item assignment"
     ]
    }
   ],
   "source": [
    "tuple[3] = 30"
   ]
  },
  {
   "cell_type": "markdown",
   "metadata": {},
   "source": [
    "#### Remove Items\n",
    "Note: You cannot remove items in a tuple.\n",
    "\n",
    " Tuples are unchangeable, so you cannot remove items from it, but you can delete the tuple completely:\n",
    "\n",
    "Example"
   ]
  },
  {
   "cell_type": "code",
   "execution_count": 36,
   "metadata": {
    "ExecuteTime": {
     "end_time": "2020-11-19T02:30:22.341547Z",
     "start_time": "2020-11-19T02:30:22.323298Z"
    }
   },
   "outputs": [
    {
     "ename": "NameError",
     "evalue": "name 'tuple1' is not defined",
     "output_type": "error",
     "traceback": [
      "\u001b[0;31m---------------------------------------------------------------------------\u001b[0m",
      "\u001b[0;31mNameError\u001b[0m                                 Traceback (most recent call last)",
      "\u001b[0;32m<ipython-input-36-27b297d18e44>\u001b[0m in \u001b[0;36m<module>\u001b[0;34m\u001b[0m\n\u001b[1;32m      1\u001b[0m \u001b[0mtuple1\u001b[0m \u001b[0;34m=\u001b[0m \u001b[0;34m(\u001b[0m\u001b[0;36m1\u001b[0m\u001b[0;34m,\u001b[0m\u001b[0;36m2\u001b[0m\u001b[0;34m,\u001b[0m\u001b[0;36m3\u001b[0m\u001b[0;34m,\u001b[0m\u001b[0;36m4\u001b[0m\u001b[0;34m)\u001b[0m\u001b[0;34m\u001b[0m\u001b[0;34m\u001b[0m\u001b[0m\n\u001b[1;32m      2\u001b[0m \u001b[0;32mdel\u001b[0m \u001b[0mtuple1\u001b[0m\u001b[0;34m\u001b[0m\u001b[0;34m\u001b[0m\u001b[0m\n\u001b[0;32m----> 3\u001b[0;31m \u001b[0mprint\u001b[0m\u001b[0;34m(\u001b[0m\u001b[0mtuple1\u001b[0m\u001b[0;34m)\u001b[0m \u001b[0;31m#this will raise an error because the tuple no longer exists\u001b[0m\u001b[0;34m\u001b[0m\u001b[0;34m\u001b[0m\u001b[0m\n\u001b[0m",
      "\u001b[0;31mNameError\u001b[0m: name 'tuple1' is not defined"
     ]
    }
   ],
   "source": [
    "tuple1 = (1,2,3,4)\n",
    "del tuple1\n",
    "print(tuple1) #this will raise an error because the tuple no longer exists"
   ]
  },
  {
   "cell_type": "code",
   "execution_count": 37,
   "metadata": {
    "ExecuteTime": {
     "end_time": "2020-11-19T02:31:23.673343Z",
     "start_time": "2020-11-19T02:31:23.665620Z"
    }
   },
   "outputs": [
    {
     "name": "stdout",
     "output_type": "stream",
     "text": [
      "(10, 60, 30, 40, 50)\n"
     ]
    }
   ],
   "source": [
    "x = (10,20,30,40,50)\n",
    "y = list(x)\n",
    "y[1] = 60\n",
    "x = tuple(y)\n",
    "print(x)"
   ]
  },
  {
   "cell_type": "markdown",
   "metadata": {},
   "source": [
    "#### Negative Indexing\n",
    "\n",
    "Negative indexing means beginning from the end, -1 refers to the last item, -2 refers to the second last item etc."
   ]
  },
  {
   "cell_type": "code",
   "execution_count": 38,
   "metadata": {
    "ExecuteTime": {
     "end_time": "2020-11-19T02:32:20.011034Z",
     "start_time": "2020-11-19T02:32:20.001363Z"
    }
   },
   "outputs": [
    {
     "data": {
      "text/plain": [
       "50"
      ]
     },
     "execution_count": 38,
     "metadata": {},
     "output_type": "execute_result"
    }
   ],
   "source": [
    "x[-1]"
   ]
  },
  {
   "cell_type": "markdown",
   "metadata": {},
   "source": [
    "#### Find the index of an element in tuple using index()\n",
    "\n",
    "Sometimes just checking if an element exists in tuple is not sufficient, we want to find it’s position of first occurrence in tuple. Tuple provides a member function index() i.e.\n",
    "\n",
    "tuple.index(x)\n",
    "\n",
    "It returns the index for first occurrence of x in the tuple"
   ]
  },
  {
   "cell_type": "code",
   "execution_count": 40,
   "metadata": {
    "ExecuteTime": {
     "end_time": "2020-11-19T02:33:28.967457Z",
     "start_time": "2020-11-19T02:33:28.959217Z"
    }
   },
   "outputs": [
    {
     "name": "stdout",
     "output_type": "stream",
     "text": [
      "Element 12 Found at :  3\n"
     ]
    }
   ],
   "source": [
    "tuple1 = (12 , 34, 45, 22, 33 , 67, 34, 56 )\n",
    "\n",
    "indx = tuple1.index(22)\n",
    "print(\"Element 12 Found at : \" , indx)"
   ]
  },
  {
   "cell_type": "markdown",
   "metadata": {},
   "source": [
    "#### Tuple : Append , Insert , Modify & delete elements in Tuple\n",
    "\n",
    "tuples are immutable i.e. once created we can not change its contents.  But sometimes we want to modify the existing tuple, in that case we need to create a new tuple with updated elements only from the existing tuple."
   ]
  },
  {
   "cell_type": "code",
   "execution_count": 41,
   "metadata": {
    "ExecuteTime": {
     "end_time": "2020-11-19T02:33:59.287242Z",
     "start_time": "2020-11-19T02:33:59.273730Z"
    }
   },
   "outputs": [
    {
     "data": {
      "text/plain": [
       "(121, 314, 245, 232, 334, 191)"
      ]
     },
     "execution_count": 41,
     "metadata": {},
     "output_type": "execute_result"
    }
   ],
   "source": [
    "# Append an element in Tuple at end\n",
    "\n",
    "# Create a tuple\n",
    "tupleObj = (121, 314, 245, 232, 334 )\n",
    "\n",
    "'''Now to append an element in this tuple, we need to create a copy of\n",
    "existing tuple and then add new element to it using + operator i.e.\n",
    "'''\n",
    "# Append 19 at the end of tuple\n",
    "tupleObj = tupleObj + (191 ,)\n",
    "tupleObj"
   ]
  },
  {
   "cell_type": "markdown",
   "metadata": {},
   "source": [
    "### Insert an element at specific position in tuple\n",
    "\n",
    "As indexing starts from 0 in tuple, so to insert an element at index n in this tuple, we will create two sliced copies of existing tuple from (0 to n) and (n to end) i.e."
   ]
  },
  {
   "cell_type": "code",
   "execution_count": null,
   "metadata": {
    "ExecuteTime": {
     "end_time": "2020-06-08T05:16:43.378327Z",
     "start_time": "2020-06-08T05:16:43.366958Z"
    }
   },
   "outputs": [],
   "source": [
    "tupleObj"
   ]
  },
  {
   "cell_type": "code",
   "execution_count": null,
   "metadata": {
    "ExecuteTime": {
     "end_time": "2020-06-08T05:19:08.412802Z",
     "start_time": "2020-06-08T05:19:08.395870Z"
    }
   },
   "outputs": [],
   "source": [
    "(121,314,191,245,232,334,191)\n",
    "tupleObj[2:]"
   ]
  },
  {
   "cell_type": "code",
   "execution_count": 42,
   "metadata": {
    "ExecuteTime": {
     "end_time": "2020-11-19T02:35:41.766181Z",
     "start_time": "2020-11-19T02:35:41.756174Z"
    }
   },
   "outputs": [
    {
     "data": {
      "text/plain": [
       "(121, 314, 191, 245, 232, 334, 191)"
      ]
     },
     "execution_count": 42,
     "metadata": {},
     "output_type": "execute_result"
    }
   ],
   "source": [
    "#### Insert an element at specific position in tuple\n",
    "\n",
    "'''As indexing starts from 0 in tuple, so to insert an element at index n in \n",
    "this tuple, we will create two sliced copies of existing tuple from (0 to n) and \n",
    "(n to end)\n",
    "'''\n",
    "n = 2\n",
    "# Insert 19 in tuple at index 2\n",
    "tupleObj = tupleObj[ : n ] + (191 ,) + tupleObj[n : ]\n",
    "tupleObj"
   ]
  },
  {
   "cell_type": "markdown",
   "metadata": {},
   "source": [
    "#### Range of Indexes\n",
    "One can specify a range of indexes by specifying where to start and where to end the range.\n",
    "\n",
    "When specifying a range, the return value will be a new tuple with the specified items.\n",
    "\n",
    "**NOTE** The search wil start at start index and end at stop index (not included)"
   ]
  },
  {
   "cell_type": "code",
   "execution_count": null,
   "metadata": {},
   "outputs": [],
   "source": [
    "# Example return teh second, third and fourth item\n",
    "\n",
    "tuple1 = (10, 20, 30, 40, 50, 60, 70)\n",
    "print(tuple1[1:4])"
   ]
  },
  {
   "cell_type": "markdown",
   "metadata": {},
   "source": [
    "#### Range of Negative Indexes\n",
    "Specify negative indexes if you want to start the search from the end of the tuple:"
   ]
  },
  {
   "cell_type": "code",
   "execution_count": 43,
   "metadata": {
    "ExecuteTime": {
     "end_time": "2020-11-19T02:35:55.617822Z",
     "start_time": "2020-11-19T02:35:55.604767Z"
    }
   },
   "outputs": [
    {
     "name": "stdout",
     "output_type": "stream",
     "text": [
      "(40, 50, 60)\n"
     ]
    }
   ],
   "source": [
    "tuple1 = (10, 20, 30, 40, 50, 60, 70)\n",
    "print(tuple1[-4:-1])"
   ]
  },
  {
   "cell_type": "markdown",
   "metadata": {},
   "source": [
    "#### Loop Through a Tuple\n",
    "You can loop through the tuple items by using a for loop."
   ]
  },
  {
   "cell_type": "code",
   "execution_count": 44,
   "metadata": {
    "ExecuteTime": {
     "end_time": "2020-11-19T02:36:30.010801Z",
     "start_time": "2020-11-19T02:36:30.003756Z"
    }
   },
   "outputs": [
    {
     "name": "stdout",
     "output_type": "stream",
     "text": [
      "10\n",
      "20\n",
      "30\n",
      "40\n"
     ]
    }
   ],
   "source": [
    "x = (10,20,30,40)\n",
    "for i in x:\n",
    "  print(i)"
   ]
  },
  {
   "cell_type": "code",
   "execution_count": 45,
   "metadata": {
    "ExecuteTime": {
     "end_time": "2020-11-19T02:36:35.181385Z",
     "start_time": "2020-11-19T02:36:35.173039Z"
    }
   },
   "outputs": [
    {
     "name": "stdout",
     "output_type": "stream",
     "text": [
      "10,20,30,40,"
     ]
    }
   ],
   "source": [
    "\"\"\"\n",
    "Practice problem \n",
    "\"\"\"\n",
    "x = (10,20,30,40)\n",
    "for i in x:\n",
    "  print(i, end = \",\")"
   ]
  },
  {
   "cell_type": "code",
   "execution_count": null,
   "metadata": {},
   "outputs": [],
   "source": [
    "'''\n",
    "Check if 20 is present in the tuple\n",
    "\n",
    "'''\n",
    "\n",
    "if 10 in x:\n",
    "    print(\"Yes, 10 is in x\")"
   ]
  },
  {
   "cell_type": "code",
   "execution_count": null,
   "metadata": {},
   "outputs": [],
   "source": []
  },
  {
   "cell_type": "code",
   "execution_count": null,
   "metadata": {},
   "outputs": [],
   "source": []
  },
  {
   "cell_type": "markdown",
   "metadata": {},
   "source": [
    "### Packing and Unpacking\n",
    "In packing, we place value into a new tuple while in unpacking we extract those values back into variables."
   ]
  },
  {
   "cell_type": "code",
   "execution_count": null,
   "metadata": {
    "ExecuteTime": {
     "end_time": "2020-06-08T05:22:42.884760Z",
     "start_time": "2020-06-08T05:22:42.861603Z"
    }
   },
   "outputs": [],
   "source": [
    "x = (\"UCSC\", 20, \"Education\")    # tuple packing\n",
    "(company, emp, profile) = x    # tuple unpacking\n",
    "print(company)\n",
    "print(emp)\n",
    "print(profile)\n"
   ]
  },
  {
   "cell_type": "code",
   "execution_count": null,
   "metadata": {},
   "outputs": [],
   "source": [
    "# Even sequences with nested tuples can be unpacked:\n",
    "tup=4,5,(6,7)\n",
    "a,b,(c,d)=tup\n",
    "d\n",
    " "
   ]
  },
  {
   "cell_type": "code",
   "execution_count": null,
   "metadata": {},
   "outputs": [],
   "source": [
    "# Swap \n",
    "a,b=1,2\n",
    "a"
   ]
  },
  {
   "cell_type": "code",
   "execution_count": null,
   "metadata": {},
   "outputs": [],
   "source": [
    "b,a = a,b\n",
    "a"
   ]
  },
  {
   "cell_type": "markdown",
   "metadata": {},
   "source": [
    "A common use of variable unpacking is iterating over sequences of tuples or lists:"
   ]
  },
  {
   "cell_type": "code",
   "execution_count": null,
   "metadata": {},
   "outputs": [],
   "source": [
    "seq=[(1,2,3),(4,5,6),(7,8,9)]"
   ]
  },
  {
   "cell_type": "code",
   "execution_count": null,
   "metadata": {},
   "outputs": [],
   "source": [
    "for a,b,c in seq:\n",
    "    print('a={0}, b={1}, c={2}'.format(a, b, c))"
   ]
  },
  {
   "cell_type": "markdown",
   "metadata": {},
   "source": [
    "### Comparing tuples\n",
    "A comparison operator in Python can work with tuples.\n",
    "\n",
    "The comparison starts with a first element of each tuple. If they do not compare to =,< or > then it proceed to the second element and so on.\n",
    "\n",
    "It starts with comparing the first element from each of the tuples"
   ]
  },
  {
   "cell_type": "code",
   "execution_count": 47,
   "metadata": {
    "ExecuteTime": {
     "end_time": "2020-11-19T02:37:40.263165Z",
     "start_time": "2020-11-19T02:37:40.256756Z"
    }
   },
   "outputs": [
    {
     "name": "stdout",
     "output_type": "stream",
     "text": [
      "a is bigger\n"
     ]
    }
   ],
   "source": [
    "# Case 1\n",
    "\n",
    "a=(5,3)\n",
    "b=(1,4)\n",
    "if (a>b):print(\"a is bigger\")\n",
    "else: print(\"b is bigger\")"
   ]
  },
  {
   "cell_type": "markdown",
   "metadata": {},
   "source": [
    "Comparison starts with a first element of each tuple. In this case 5>1, so the output a is bigger"
   ]
  },
  {
   "cell_type": "code",
   "execution_count": null,
   "metadata": {
    "ExecuteTime": {
     "end_time": "2020-06-08T05:22:51.476858Z",
     "start_time": "2020-06-08T05:22:51.465851Z"
    }
   },
   "outputs": [],
   "source": [
    "# Case 2\n",
    "a=(5,6)\n",
    "b=(5,4)\n",
    "if (a>b):print(\"a is bigger\")\n",
    "else: print (\"b is bigger\")"
   ]
  },
  {
   "cell_type": "markdown",
   "metadata": {},
   "source": [
    "Comparison starts with a first element of each tuple. In this case 5>5 which is inconclusive. So it proceeds to the next element. 6>4, so the output a is bigger"
   ]
  },
  {
   "cell_type": "code",
   "execution_count": null,
   "metadata": {
    "ExecuteTime": {
     "end_time": "2020-06-08T05:23:00.704582Z",
     "start_time": "2020-06-08T05:23:00.696870Z"
    }
   },
   "outputs": [],
   "source": [
    "# Case 3\n",
    "a=(5,6)\n",
    "b=(6,4)\n",
    "if (a>b):print(\"a is bigger\")\n",
    "else: print(\"b is bigger\")"
   ]
  },
  {
   "cell_type": "markdown",
   "metadata": {},
   "source": [
    "Comparison starts with a first element of each tuple. In this case 5>6 which is false. So it goes into the else block and prints \"b is bigger."
   ]
  },
  {
   "cell_type": "markdown",
   "metadata": {},
   "source": [
    "### Deleting Tuples\n",
    "Tuples are immutable and cannot be deleted. You cannot delete or remove items from a tuple. But deleting tuple entirely is possible by using the keyword\n",
    "\n",
    "del"
   ]
  },
  {
   "cell_type": "markdown",
   "metadata": {},
   "source": [
    "### Built-in functions with Tuple\n",
    "To perform different task, tuple allows you to use many built-in functions like all(), any(), enumerate(), max(), min(), sorted(), len(), tuple(), etc."
   ]
  },
  {
   "cell_type": "code",
   "execution_count": null,
   "metadata": {},
   "outputs": [],
   "source": [
    "tuple2 = (1,2,3,4,5,7)"
   ]
  },
  {
   "cell_type": "code",
   "execution_count": null,
   "metadata": {},
   "outputs": [],
   "source": [
    "for t in tuple2:\n",
    "    print(t)"
   ]
  },
  {
   "cell_type": "code",
   "execution_count": null,
   "metadata": {},
   "outputs": [],
   "source": [
    "''' quite a few of list methods and functions can be used for tuple also. '''\n",
    "\n",
    "print(len(tuple2))"
   ]
  },
  {
   "cell_type": "code",
   "execution_count": null,
   "metadata": {},
   "outputs": [],
   "source": [
    "print(min(tuple2))\n",
    "print(max(tuple2))"
   ]
  },
  {
   "cell_type": "code",
   "execution_count": null,
   "metadata": {},
   "outputs": [],
   "source": [
    "t1 = ('the good', 'the bad', 'the ugly',)\n",
    "t2 = ('Clint Eastwood',)\n",
    "t3 = (t1, t2)\n",
    "print(t3)"
   ]
  },
  {
   "cell_type": "code",
   "execution_count": 48,
   "metadata": {
    "ExecuteTime": {
     "end_time": "2020-11-19T02:38:55.700582Z",
     "start_time": "2020-11-19T02:38:55.693507Z"
    }
   },
   "outputs": [
    {
     "name": "stdout",
     "output_type": "stream",
     "text": [
      "('the good', 'the bad', 'the ugly', 'Clint Eastwood')\n"
     ]
    }
   ],
   "source": [
    "t1 = ('the good', 'the bad', 'the ugly')\n",
    "t2 = ('Clint Eastwood',)\n",
    "t5 = t1 + t2\n",
    "print(t5)"
   ]
  },
  {
   "cell_type": "code",
   "execution_count": 49,
   "metadata": {
    "ExecuteTime": {
     "end_time": "2020-11-19T02:39:00.806907Z",
     "start_time": "2020-11-19T02:39:00.800657Z"
    }
   },
   "outputs": [
    {
     "name": "stdout",
     "output_type": "stream",
     "text": [
      "('Good morning', 'Good morning', 'Good morning')\n"
     ]
    }
   ],
   "source": [
    "t6 = ('Good morning',)\n",
    "print(t6*3)"
   ]
  },
  {
   "cell_type": "code",
   "execution_count": null,
   "metadata": {},
   "outputs": [],
   "source": [
    "print('there' in t1)"
   ]
  },
  {
   "cell_type": "code",
   "execution_count": 50,
   "metadata": {
    "ExecuteTime": {
     "end_time": "2020-11-19T02:39:29.123975Z",
     "start_time": "2020-11-19T02:39:29.116044Z"
    }
   },
   "outputs": [
    {
     "name": "stdout",
     "output_type": "stream",
     "text": [
      "['the good', 'the bad', 'the ugly', 'Clint Eastwood'] <class 'list'>\n"
     ]
    }
   ],
   "source": [
    "tuple_to_list = list(t5)\n",
    "print(tuple_to_list, type(tuple_to_list))"
   ]
  },
  {
   "cell_type": "code",
   "execution_count": null,
   "metadata": {},
   "outputs": [],
   "source": [
    "list_ratings = ['bad', 'okay', 'excellent']\n",
    "list_to_tuple = tuple(list_ratings)\n",
    "print(list_to_tuple, type(list_to_tuple))"
   ]
  },
  {
   "cell_type": "code",
   "execution_count": null,
   "metadata": {},
   "outputs": [],
   "source": [
    "t1 = (3, 4, 67)\n",
    "print(id(t1))\n",
    "t1 = 6\n",
    "t2 = (1, 2, 423)\n",
    "print(id(t2))"
   ]
  },
  {
   "cell_type": "markdown",
   "metadata": {},
   "source": [
    "### Concatenate \n",
    " You can concatenate tuples using the + operator to produce longer tuples "
   ]
  },
  {
   "cell_type": "code",
   "execution_count": 51,
   "metadata": {
    "ExecuteTime": {
     "end_time": "2020-11-19T02:40:12.449677Z",
     "start_time": "2020-11-19T02:40:12.443067Z"
    }
   },
   "outputs": [
    {
     "data": {
      "text/plain": [
       "(1, 2, 3, 4)"
      ]
     },
     "execution_count": 51,
     "metadata": {},
     "output_type": "execute_result"
    }
   ],
   "source": [
    "(1,2,3) + (4,)"
   ]
  },
  {
   "cell_type": "code",
   "execution_count": 53,
   "metadata": {
    "ExecuteTime": {
     "end_time": "2020-11-19T02:40:44.586312Z",
     "start_time": "2020-11-19T02:40:44.579451Z"
    }
   },
   "outputs": [
    {
     "data": {
      "text/plain": [
       "(1, 2, 3, '4')"
      ]
     },
     "execution_count": 53,
     "metadata": {},
     "output_type": "execute_result"
    }
   ],
   "source": [
    "# Can you find the problem \n",
    "(1,2,3) + (\"4\")"
   ]
  },
  {
   "cell_type": "markdown",
   "metadata": {},
   "source": [
    "Multiplying a tuple by an integer, as with lists, has the effect of concatenating together that many copies of the tuple:"
   ]
  },
  {
   "cell_type": "code",
   "execution_count": 54,
   "metadata": {
    "ExecuteTime": {
     "end_time": "2020-11-19T02:41:06.316659Z",
     "start_time": "2020-11-19T02:41:06.307571Z"
    }
   },
   "outputs": [
    {
     "data": {
      "text/plain": [
       "(1, 2, 3, 1, 2, 3, 1, 2, 3, 1, 2, 3)"
      ]
     },
     "execution_count": 54,
     "metadata": {},
     "output_type": "execute_result"
    }
   ],
   "source": [
    "(1,2,3) * 4"
   ]
  },
  {
   "cell_type": "markdown",
   "metadata": {},
   "source": [
    "#### Advantages of Tuple over List\n",
    "Since tuples are quite similar to lists, both of them are used in similar situations as well.\n",
    "However, there are certain advantages of implementing a tuple over a list. Below listed are some of the main advantages:\n",
    "\n",
    "- We generally use tuple for heterogeneous (different) datatypes and list for homogeneous (similar) datatypes.\n",
    "\n",
    "- Since tuples are immutable, iterating through tuple is faster than with list. So there is a slight performance boost.\n",
    "\n",
    "- Tuples that contain immutable elements can be used as a key for a dictionary. With lists, this is not possible.\n",
    "\n",
    "- If you have data that doesn't change, implementing it as tuple will guarantee that it remains write-protected.\n",
    "\n",
    "- There is another Python data type that you will discuss shortly called a dictionary, which requires as one of its components a value that is of an immutable type. A tuple can be used for this purpose, whereas a list can’t be."
   ]
  },
  {
   "cell_type": "code",
   "execution_count": null,
   "metadata": {},
   "outputs": [],
   "source": []
  }
 ],
 "metadata": {
  "kernelspec": {
   "display_name": "Python 3",
   "language": "python",
   "name": "python3"
  },
  "language_info": {
   "codemirror_mode": {
    "name": "ipython",
    "version": 3
   },
   "file_extension": ".py",
   "mimetype": "text/x-python",
   "name": "python",
   "nbconvert_exporter": "python",
   "pygments_lexer": "ipython3",
   "version": "3.8.8"
  },
  "varInspector": {
   "cols": {
    "lenName": 16,
    "lenType": 16,
    "lenVar": 40
   },
   "kernels_config": {
    "python": {
     "delete_cmd_postfix": "",
     "delete_cmd_prefix": "del ",
     "library": "var_list.py",
     "varRefreshCmd": "print(var_dic_list())"
    },
    "r": {
     "delete_cmd_postfix": ") ",
     "delete_cmd_prefix": "rm(",
     "library": "var_list.r",
     "varRefreshCmd": "cat(var_dic_list()) "
    }
   },
   "types_to_exclude": [
    "module",
    "function",
    "builtin_function_or_method",
    "instance",
    "_Feature"
   ],
   "window_display": false
  },
  "widgets": {
   "state": {},
   "version": "1.1.2"
  }
 },
 "nbformat": 4,
 "nbformat_minor": 2
}
