{
 "cells": [
  {
   "cell_type": "markdown",
   "metadata": {},
   "source": [
    "### Data Structures\n",
    " \n",
    " In the last class we have discussed about the basic characteristics of lists and tuples,, In this notebook we will continue our journey thorugh data structures in python and we will discuss other types including **Dictionaries**, **Set** and **String**\n",
    "\n",
    "By the end of this notebook, you should have good understanding of when a dictionary or set are the appropriate data structures to use, and how to do so.\n",
    "\n",
    "\n",
    "- **Dictionary** is a sequence of key and value pairs. Dictionary is mutable as new key-values can be added and existing key-values can be modified. In a dictionary, the keys have to mutable. \n",
    "\n",
    "- **Set** is an unordered sequence of unique elements. Sets are mutable but its elements are immutable. \n",
    "\n",
    "- **String** is an ordered sequence of characters. Strings are immutable. \n",
    "\n",
    "\n",
    "Dictionaries and lists share the following characteristics:\n",
    "\n",
    "- Both are mutable.\n",
    "\n",
    "- Both are dynamic. They can grow and shrink as needed.\n",
    "\n",
    "- Both can be nested. A list can contain another list. A dictionary can contain another dictionary. A dictionary can also contain a list, and vice versa.\n",
    "\n",
    "\n",
    "Dictionaries differ from lists primarily in how elements are accessed:\n",
    "\n",
    "- List elements are accessed by their position in the list, via indexing.\n",
    "\n",
    "- Dictionary elements are accessed via keys.\n"
   ]
  },
  {
   "cell_type": "markdown",
   "metadata": {},
   "source": [
    "### Dictionary\n",
    "\n",
    "Dictionary is likely the most important built-in Python data structure. A more common name for it is *hash map* or *associative array*. Dictionary is a key-value pair. These are mutable and they start with curly braces and end with curly braces. The keys and values are separated by a : (colon). \n",
    "\n",
    "As a dictionary, keeps the elements in key-value mapping format and internally uses hashing for it; therefore, we can get a value from the dictionary by its key very quickly. In best cases, its complexity is O(1), whereas, in the worst case, its complexity can be O(n)."
   ]
  },
  {
   "cell_type": "markdown",
   "metadata": {},
   "source": [
    "#### syntax\n",
    "\n",
    "dict1 = {\n",
    "    key1:val1, \n",
    "    key2:val2\n",
    "    }\n",
    "\n",
    "keys have to be unique and should be immutable type such as integer, string, tuple etc. The values can be any Python object. \n",
    "\n",
    "**Note** – Dictionary keys are case sensitive, same name but different cases of Key will be treated distinctly.\n",
    "\n",
    "The dictionary in Python 3.5 and below do not maintain the order of the entries while dictionary in Python 3.6 and above maintain the order.   \n",
    "\n",
    "\n",
    "Elements in a dictionary are generally accessed either by looping through all key-value pairs or by accessing a single value given in key. In both cases, the order is not critical and hence the unordered dictionary prior to Python 3.6 is not a big concern for a typical programming case.  \n",
    "\n",
    "#### Restrictions on Dictionary Keys\n",
    "Although any type of value can be used as a dictionary key in Python. However, there are a couple restrictions that dictionary keys must abide by.\n",
    "\n",
    "First, a given key can appear in a dictionary only once. Duplicate keys are not allowed. A dictionary maps each key to a corresponding value, so it doesn’t make sense to map a particular key more than once.\n",
    "\n",
    "when you assign a value to an already existing dictionary key, it does not add the key a second time, but replaces the existing value\n",
    "\n",
    "Similarly, if you specify a key a second time during the initial creation of a dictionary, the second occurrence will override the first\n",
    "\n",
    "Secondly, a dictionary key must be of a type that is immutable. You have already seen examples where several of the immutable types you are familiar with—integer, float, string, and Boolean—have served as dictionary keys.\n",
    "\n",
    "A tuple can also be a dictionary key, because tuples are immutable\n",
    "\n",
    "However, neither a list nor another dictionary can serve as a dictionary key, because lists and dictionaries are mutable\n",
    "\n",
    "#### Restrictions on Dictionary Values\n",
    "By contrast, there are no restrictions on dictionary values. Literally none at all. A dictionary value can be any type of object Python supports, including mutable types like lists and dictionaries, and user-defined objects,There is also no restriction against a particular value appearing in a dictionary multiple times"
   ]
  },
  {
   "cell_type": "markdown",
   "metadata": {},
   "source": [
    "#### Dictionary Methods\n",
    "\n",
    "| Method |   Description   |\n",
    "|:---|:---|\n",
    "|copy()\t| They copy() method returns a shallow copy of the dictionary.|\n",
    "|clear()|\tThe clear() method removes all items from the dictionary.|\n",
    "|pop()\t |Removes and returns an element from a dictionary having the given key.|\n",
    "|popitem()|\tRemoves the arbitrary key-value pair from the dictionary and returns it as tuple.|\n",
    "|get() |\tIt is a conventional method to access a value for a key.)\n",
    "|dictionary_name.values() |\treturns a list of all the values available in a given dictionary.|\n",
    "|str() |\tProduces a printable string representation of a dictionary.|\n",
    "|update()\t|Adds dictionary dict2’s key-values pairs to dict|\n",
    "|setdefault()|\tSet dict[key]=default if key is not already in dict|\n",
    "|keys()|\tReturns list of dictionary dict’s keys|\n",
    "|items()|\tReturns a list of dict’s (key, value) tuple pairs|\n",
    "|has_key()|\tReturns true if key in dictionary dict, false otherwise|\n",
    "|fromkeys()|\tCreate a new dictionary with keys from seq and values set to value.|\n",
    "|type()\t|Returns the type of the passed variable.|\n",
    "|cmp()\t|Compares elements of both dict.|"
   ]
  },
  {
   "cell_type": "code",
   "execution_count": 2,
   "metadata": {
    "ExecuteTime": {
     "end_time": "2020-11-19T02:45:39.766054Z",
     "start_time": "2020-11-19T02:45:39.749170Z"
    }
   },
   "outputs": [
    {
     "data": {
      "text/plain": [
       "dict"
      ]
     },
     "execution_count": 2,
     "metadata": {},
     "output_type": "execute_result"
    }
   ],
   "source": [
    "empty_dict = {}\n",
    "type(empty_dict)"
   ]
  },
  {
   "cell_type": "code",
   "execution_count": 3,
   "metadata": {
    "ExecuteTime": {
     "end_time": "2020-11-19T02:45:56.167509Z",
     "start_time": "2020-11-19T02:45:56.161569Z"
    }
   },
   "outputs": [
    {
     "name": "stdout",
     "output_type": "stream",
     "text": [
      "{'b': 'ice', 'c': 'steam', 'a': 'water'}\n"
     ]
    }
   ],
   "source": [
    "x = {'b': 'ice', 'c': 'steam', 'a': 'water'}\n",
    "print(x)"
   ]
  },
  {
   "cell_type": "markdown",
   "metadata": {},
   "source": [
    "Another way to define a dictionary using dict() constructor. Note that the keys 'a' and 'b'  are  not supplied as string but as a variable name to this function. "
   ]
  },
  {
   "cell_type": "code",
   "execution_count": 3,
   "metadata": {
    "ExecuteTime": {
     "end_time": "2020-11-19T02:46:35.879322Z",
     "start_time": "2020-11-19T02:46:35.872998Z"
    }
   },
   "outputs": [],
   "source": [
    "fruit = dict(a='mango', b='pear')"
   ]
  },
  {
   "cell_type": "code",
   "execution_count": 4,
   "metadata": {
    "ExecuteTime": {
     "end_time": "2020-11-19T02:46:39.013049Z",
     "start_time": "2020-11-19T02:46:39.006065Z"
    }
   },
   "outputs": [
    {
     "data": {
      "text/plain": [
       "dict"
      ]
     },
     "execution_count": 4,
     "metadata": {},
     "output_type": "execute_result"
    }
   ],
   "source": [
    "type(fruit)"
   ]
  },
  {
   "cell_type": "markdown",
   "metadata": {},
   "source": [
    "Once you’ve defined a dictionary, you can display its contents, the same as you can do for a list. "
   ]
  },
  {
   "cell_type": "code",
   "execution_count": 5,
   "metadata": {
    "ExecuteTime": {
     "end_time": "2020-11-19T02:46:59.627076Z",
     "start_time": "2020-11-19T02:46:59.617892Z"
    }
   },
   "outputs": [
    {
     "data": {
      "text/plain": [
       "{'a': 'mango', 'b': 'pear'}"
      ]
     },
     "execution_count": 5,
     "metadata": {},
     "output_type": "execute_result"
    }
   ],
   "source": [
    "fruit"
   ]
  },
  {
   "cell_type": "code",
   "execution_count": null,
   "metadata": {
    "ExecuteTime": {
     "end_time": "2020-06-11T05:13:40.055209Z",
     "start_time": "2020-06-11T05:13:40.039063Z"
    }
   },
   "outputs": [],
   "source": [
    "%history"
   ]
  },
  {
   "cell_type": "markdown",
   "metadata": {},
   "source": [
    "#### Accessing Items\n",
    "You can access the items of a dictionary by referring to its key name, inside square brackets:"
   ]
  },
  {
   "cell_type": "code",
   "execution_count": 6,
   "metadata": {
    "ExecuteTime": {
     "end_time": "2020-11-19T02:47:40.264051Z",
     "start_time": "2020-11-19T02:47:40.254943Z"
    }
   },
   "outputs": [
    {
     "data": {
      "text/plain": [
       "'mango'"
      ]
     },
     "execution_count": 6,
     "metadata": {},
     "output_type": "execute_result"
    }
   ],
   "source": [
    "#You can access, insert, or set elements using the same syntax as \n",
    "#for accessing elements of a list or tuple:\n",
    "fruit['a']"
   ]
  },
  {
   "cell_type": "markdown",
   "metadata": {},
   "source": [
    "There is also a method called *get()* that will get the same result\n"
   ]
  },
  {
   "cell_type": "code",
   "execution_count": 8,
   "metadata": {
    "ExecuteTime": {
     "end_time": "2020-11-19T02:47:59.675659Z",
     "start_time": "2020-11-19T02:47:59.668519Z"
    }
   },
   "outputs": [
    {
     "data": {
      "text/plain": [
       "'mango'"
      ]
     },
     "execution_count": 8,
     "metadata": {},
     "output_type": "execute_result"
    }
   ],
   "source": [
    "x = fruit.get('a')\n",
    "x"
   ]
  },
  {
   "cell_type": "markdown",
   "metadata": {},
   "source": [
    "If you refer to a key that is not in the dictionary, Python raises an exception"
   ]
  },
  {
   "cell_type": "code",
   "execution_count": 9,
   "metadata": {
    "ExecuteTime": {
     "end_time": "2020-11-19T02:48:30.994387Z",
     "start_time": "2020-11-19T02:48:30.671136Z"
    }
   },
   "outputs": [
    {
     "ename": "KeyError",
     "evalue": "'e'",
     "output_type": "error",
     "traceback": [
      "\u001b[0;31m---------------------------------------------------------------------------\u001b[0m",
      "\u001b[0;31mKeyError\u001b[0m                                  Traceback (most recent call last)",
      "\u001b[0;32m<ipython-input-9-54281c4acb73>\u001b[0m in \u001b[0;36m<module>\u001b[0;34m\u001b[0m\n\u001b[0;32m----> 1\u001b[0;31m \u001b[0mfruit\u001b[0m\u001b[0;34m[\u001b[0m\u001b[0;34m'e'\u001b[0m\u001b[0;34m]\u001b[0m\u001b[0;34m\u001b[0m\u001b[0;34m\u001b[0m\u001b[0m\n\u001b[0m",
      "\u001b[0;31mKeyError\u001b[0m: 'e'"
     ]
    }
   ],
   "source": [
    "fruit['e']"
   ]
  },
  {
   "cell_type": "code",
   "execution_count": 10,
   "metadata": {
    "ExecuteTime": {
     "end_time": "2020-11-19T02:49:12.276085Z",
     "start_time": "2020-11-19T02:49:12.268402Z"
    }
   },
   "outputs": [
    {
     "data": {
      "text/plain": [
       "dict_keys(['a', 'b'])"
      ]
     },
     "execution_count": 10,
     "metadata": {},
     "output_type": "execute_result"
    }
   ],
   "source": [
    "# get all the keys\n",
    "\n",
    "fruit.keys()"
   ]
  },
  {
   "cell_type": "code",
   "execution_count": 11,
   "metadata": {
    "ExecuteTime": {
     "end_time": "2020-11-19T02:49:41.645448Z",
     "start_time": "2020-11-19T02:49:41.638776Z"
    }
   },
   "outputs": [
    {
     "data": {
      "text/plain": [
       "dict_values(['mango', 'pear'])"
      ]
     },
     "execution_count": 11,
     "metadata": {},
     "output_type": "execute_result"
    }
   ],
   "source": [
    "# Get all the values\n",
    "fruit.values()"
   ]
  },
  {
   "cell_type": "markdown",
   "metadata": {},
   "source": [
    "#### Change Values\n",
    "You can change the value of a specific item by referring to its key name:"
   ]
  },
  {
   "cell_type": "code",
   "execution_count": 12,
   "metadata": {
    "ExecuteTime": {
     "end_time": "2020-11-19T03:01:23.307354Z",
     "start_time": "2020-11-19T03:01:23.295262Z"
    }
   },
   "outputs": [
    {
     "data": {
      "text/plain": [
       "dict_values(['mango', 'pear', 'banana', 'pear'])"
      ]
     },
     "execution_count": 12,
     "metadata": {},
     "output_type": "execute_result"
    }
   ],
   "source": [
    "fruit = dict(a='mango', b='pear', c = 'banana', d = 'pear')\n",
    "fruit.values()"
   ]
  },
  {
   "cell_type": "code",
   "execution_count": 13,
   "metadata": {
    "ExecuteTime": {
     "end_time": "2020-11-19T03:01:41.213914Z",
     "start_time": "2020-11-19T03:01:41.208328Z"
    }
   },
   "outputs": [],
   "source": [
    "fruit['d'] = 'orange'"
   ]
  },
  {
   "cell_type": "code",
   "execution_count": 14,
   "metadata": {
    "ExecuteTime": {
     "end_time": "2020-11-19T03:01:43.976983Z",
     "start_time": "2020-11-19T03:01:43.969895Z"
    }
   },
   "outputs": [
    {
     "data": {
      "text/plain": [
       "{'a': 'mango', 'b': 'pear', 'c': 'banana', 'd': 'orange'}"
      ]
     },
     "execution_count": 14,
     "metadata": {},
     "output_type": "execute_result"
    }
   ],
   "source": [
    "fruit"
   ]
  },
  {
   "cell_type": "markdown",
   "metadata": {},
   "source": [
    "#### Loop Through a Dictionary\n",
    "You can loop through a dictionary by using a for loop.\n",
    "\n",
    "When looping through a dictionary, the return value are the keys of the dictionary, but there are methods to return the values as well."
   ]
  },
  {
   "cell_type": "code",
   "execution_count": 15,
   "metadata": {
    "ExecuteTime": {
     "end_time": "2020-11-19T03:02:05.057171Z",
     "start_time": "2020-11-19T03:02:05.048794Z"
    }
   },
   "outputs": [
    {
     "name": "stdout",
     "output_type": "stream",
     "text": [
      "a\n",
      "b\n",
      "c\n",
      "d\n"
     ]
    }
   ],
   "source": [
    "for i in fruit:\n",
    "    print(i)"
   ]
  },
  {
   "cell_type": "code",
   "execution_count": 19,
   "metadata": {
    "ExecuteTime": {
     "end_time": "2020-11-19T03:07:22.327948Z",
     "start_time": "2020-11-19T03:07:22.318565Z"
    }
   },
   "outputs": [
    {
     "name": "stdout",
     "output_type": "stream",
     "text": [
      "a\n",
      "b\n",
      "c\n",
      "d\n"
     ]
    }
   ],
   "source": [
    "for i in fruit.keys():\n",
    "    print(i)"
   ]
  },
  {
   "cell_type": "code",
   "execution_count": 16,
   "metadata": {
    "ExecuteTime": {
     "end_time": "2020-11-19T03:03:33.866367Z",
     "start_time": "2020-11-19T03:03:33.856558Z"
    }
   },
   "outputs": [
    {
     "name": "stdout",
     "output_type": "stream",
     "text": [
      "mango\n",
      "pear\n",
      "banana\n",
      "orange\n"
     ]
    }
   ],
   "source": [
    "# Print the values\n",
    "for i in fruit:\n",
    "    print(fruit[i])\n"
   ]
  },
  {
   "cell_type": "code",
   "execution_count": null,
   "metadata": {
    "ExecuteTime": {
     "end_time": "2020-06-11T05:20:46.342103Z",
     "start_time": "2020-06-11T05:20:46.324349Z"
    }
   },
   "outputs": [],
   "source": [
    "# Another way to extract the values useing value() method\n",
    "\n",
    "for i in fruit.values():\n",
    "    print(i)"
   ]
  },
  {
   "cell_type": "code",
   "execution_count": null,
   "metadata": {
    "ExecuteTime": {
     "end_time": "2020-06-11T05:21:33.021006Z",
     "start_time": "2020-06-11T05:21:33.014142Z"
    }
   },
   "outputs": [],
   "source": [
    "# Loop through both keys and values, by using the items() function\n",
    "\n",
    "for i,j in fruit.items():\n",
    "    print(j)\n"
   ]
  },
  {
   "cell_type": "markdown",
   "metadata": {},
   "source": [
    "#### Check if Key Exists\n",
    "To determine if a specified key is present in a dictionary use the *in* keyword:"
   ]
  },
  {
   "cell_type": "code",
   "execution_count": 9,
   "metadata": {
    "ExecuteTime": {
     "end_time": "2020-11-19T03:09:00.982030Z",
     "start_time": "2020-11-19T03:09:00.976189Z"
    }
   },
   "outputs": [],
   "source": [
    "if \"e\" in fruit:\n",
    "    print(\"yes, 'e' is one of the keys\")\n",
    "    "
   ]
  },
  {
   "cell_type": "markdown",
   "metadata": {},
   "source": [
    "#### Dictionary Length\n",
    "To determine how many items (key-value pairs) a dictionary has, use the *len()* method."
   ]
  },
  {
   "cell_type": "code",
   "execution_count": 22,
   "metadata": {
    "ExecuteTime": {
     "end_time": "2020-11-19T03:11:22.641191Z",
     "start_time": "2020-11-19T03:11:22.635836Z"
    },
    "scrolled": true
   },
   "outputs": [
    {
     "name": "stdout",
     "output_type": "stream",
     "text": [
      "4\n"
     ]
    }
   ],
   "source": [
    "print(len(fruit))"
   ]
  },
  {
   "cell_type": "markdown",
   "metadata": {},
   "source": [
    "#### Adding Items\n",
    "Adding an item to the dictionary is done by using a new index key and assigning a value to it:"
   ]
  },
  {
   "cell_type": "code",
   "execution_count": 28,
   "metadata": {
    "ExecuteTime": {
     "end_time": "2020-11-19T03:13:52.028892Z",
     "start_time": "2020-11-19T03:13:52.023247Z"
    }
   },
   "outputs": [
    {
     "name": "stdout",
     "output_type": "stream",
     "text": [
      "{'San Francisco': 72, 'New York': 51}\n"
     ]
    }
   ],
   "source": [
    "city_temp = {'San Francisco': 72, 'New York': 51}\n",
    "print(city_temp)"
   ]
  },
  {
   "cell_type": "code",
   "execution_count": 24,
   "metadata": {
    "ExecuteTime": {
     "end_time": "2020-11-19T03:11:54.307074Z",
     "start_time": "2020-11-19T03:11:54.297210Z"
    }
   },
   "outputs": [
    {
     "name": "stdout",
     "output_type": "stream",
     "text": [
      "{'San Francisco': 72, 'New York': 51, 'Austin': 80}\n"
     ]
    }
   ],
   "source": [
    "city_temp['Austin'] = 80\n",
    "print(city_temp)"
   ]
  },
  {
   "cell_type": "code",
   "execution_count": 25,
   "metadata": {
    "ExecuteTime": {
     "end_time": "2020-11-19T03:12:31.598953Z",
     "start_time": "2020-11-19T03:12:31.591891Z"
    }
   },
   "outputs": [
    {
     "data": {
      "text/plain": [
       "{'San Francisco': 72, 'New York': 51, 'Austin': 80}"
      ]
     },
     "execution_count": 25,
     "metadata": {},
     "output_type": "execute_result"
    }
   ],
   "source": [
    "city_temp.update({'Austin':80})\n",
    "city_temp"
   ]
  },
  {
   "cell_type": "markdown",
   "metadata": {},
   "source": [
    "#### Removing the item\n",
    "You can delete values either using the del keyword or the pop method (which simultaneously returns the value and deletes the key):\n"
   ]
  },
  {
   "cell_type": "code",
   "execution_count": 26,
   "metadata": {
    "ExecuteTime": {
     "end_time": "2020-11-19T03:12:49.167184Z",
     "start_time": "2020-11-19T03:12:49.159436Z"
    }
   },
   "outputs": [
    {
     "data": {
      "text/plain": [
       "{'San Francisco': 72, 'New York': 51}"
      ]
     },
     "execution_count": 26,
     "metadata": {},
     "output_type": "execute_result"
    }
   ],
   "source": [
    "del city_temp['Austin']\n",
    "city_temp"
   ]
  },
  {
   "cell_type": "code",
   "execution_count": 29,
   "metadata": {
    "ExecuteTime": {
     "end_time": "2020-11-19T03:14:08.837764Z",
     "start_time": "2020-11-19T03:14:08.825422Z"
    }
   },
   "outputs": [
    {
     "data": {
      "text/plain": [
       "72"
      ]
     },
     "execution_count": 29,
     "metadata": {},
     "output_type": "execute_result"
    }
   ],
   "source": [
    "city_temp['San Francisco']"
   ]
  },
  {
   "cell_type": "code",
   "execution_count": 27,
   "metadata": {
    "ExecuteTime": {
     "end_time": "2020-11-19T03:13:08.265943Z",
     "start_time": "2020-11-19T03:13:08.259270Z"
    }
   },
   "outputs": [
    {
     "data": {
      "text/plain": [
       "72"
      ]
     },
     "execution_count": 27,
     "metadata": {},
     "output_type": "execute_result"
    }
   ],
   "source": [
    "city_temp1 = city_temp.pop('San Francisco')\n",
    "city_temp1"
   ]
  },
  {
   "cell_type": "markdown",
   "metadata": {},
   "source": [
    "The *popitem()* removes the last inserted items."
   ]
  },
  {
   "cell_type": "code",
   "execution_count": 30,
   "metadata": {
    "ExecuteTime": {
     "end_time": "2020-11-19T03:14:44.093220Z",
     "start_time": "2020-11-19T03:14:44.085941Z"
    }
   },
   "outputs": [
    {
     "name": "stdout",
     "output_type": "stream",
     "text": [
      "{'San Francisco': 72}\n"
     ]
    }
   ],
   "source": [
    "city_temp.popitem()\n",
    "print(city_temp)"
   ]
  },
  {
   "cell_type": "markdown",
   "metadata": {},
   "source": [
    "The *del* keyword can also delete the dcitionary completely\n"
   ]
  },
  {
   "cell_type": "code",
   "execution_count": 31,
   "metadata": {
    "ExecuteTime": {
     "end_time": "2020-11-19T03:15:04.292548Z",
     "start_time": "2020-11-19T03:15:04.080561Z"
    }
   },
   "outputs": [
    {
     "ename": "NameError",
     "evalue": "name 'city_temp' is not defined",
     "output_type": "error",
     "traceback": [
      "\u001b[0;31m---------------------------------------------------------------------------\u001b[0m",
      "\u001b[0;31mNameError\u001b[0m                                 Traceback (most recent call last)",
      "\u001b[0;32m<ipython-input-31-4036941b8ec8>\u001b[0m in \u001b[0;36m<module>\u001b[0;34m\u001b[0m\n\u001b[1;32m      1\u001b[0m \u001b[0;32mdel\u001b[0m \u001b[0mcity_temp\u001b[0m\u001b[0;34m\u001b[0m\u001b[0;34m\u001b[0m\u001b[0m\n\u001b[0;32m----> 2\u001b[0;31m \u001b[0mprint\u001b[0m\u001b[0;34m(\u001b[0m\u001b[0mcity_temp\u001b[0m\u001b[0;34m)\u001b[0m   \u001b[0;31m# this will cause an error because \"city_temp\" no longer exists.\u001b[0m\u001b[0;34m\u001b[0m\u001b[0;34m\u001b[0m\u001b[0m\n\u001b[0m",
      "\u001b[0;31mNameError\u001b[0m: name 'city_temp' is not defined"
     ]
    }
   ],
   "source": [
    "del city_temp\n",
    "print(city_temp)   # this will cause an error because \"city_temp\" no longer exists."
   ]
  },
  {
   "cell_type": "markdown",
   "metadata": {},
   "source": [
    "The *clear()* method empties the dictionary "
   ]
  },
  {
   "cell_type": "code",
   "execution_count": 32,
   "metadata": {
    "ExecuteTime": {
     "end_time": "2020-11-19T03:15:46.136566Z",
     "start_time": "2020-11-19T03:15:46.125490Z"
    }
   },
   "outputs": [
    {
     "name": "stdout",
     "output_type": "stream",
     "text": [
      "{}\n"
     ]
    }
   ],
   "source": [
    "city_temp = {'San Francisco': 72, 'New York': 51}\n",
    "city_temp.clear()\n",
    "print(city_temp)"
   ]
  },
  {
   "cell_type": "code",
   "execution_count": 33,
   "metadata": {
    "ExecuteTime": {
     "end_time": "2020-11-19T03:16:37.555548Z",
     "start_time": "2020-11-19T03:16:37.545940Z"
    }
   },
   "outputs": [
    {
     "name": "stdout",
     "output_type": "stream",
     "text": [
      "Keys: dict_keys(['user', 'text', 'retweet_count', 'hashtags'])\n",
      "\n",
      "\n"
     ]
    }
   ],
   "source": [
    "'''Use dictionaries as a simple way to represent structured data:'''\n",
    "tweet = {\n",
    "\"user\" : \"joelgrus\",\n",
    "\"text\" : \"Data Science is Awesome\",\n",
    "\"retweet_count\" : 100,\n",
    "\"hashtags\" : [\"#data\", \"#science\", \"#datascience\", \"#awesome\", \"#yolo\"]\n",
    "}\n",
    "\n",
    "'''Besides looking for specific keys we can look at all of them:'''\n",
    "\n",
    "tweet_keys =tweet.keys()       # list of keys\n",
    "\n",
    "\n",
    "\n",
    "print(\"Keys:\", tweet_keys)\n",
    "\n",
    "print(\"\\n\")\n",
    "\n"
   ]
  },
  {
   "cell_type": "code",
   "execution_count": 34,
   "metadata": {
    "ExecuteTime": {
     "end_time": "2020-11-19T03:17:08.698748Z",
     "start_time": "2020-11-19T03:17:08.690310Z"
    }
   },
   "outputs": [
    {
     "data": {
      "text/plain": [
       "{'user': 'joelgrus',\n",
       " 'text': 'Data Science is Awesome',\n",
       " 'retweet_count': 100,\n",
       " 'hashtags': ['#data', '#science', '#datascience', '#awesome', '#yolo']}"
      ]
     },
     "execution_count": 34,
     "metadata": {},
     "output_type": "execute_result"
    }
   ],
   "source": [
    "tweet"
   ]
  },
  {
   "cell_type": "code",
   "execution_count": 36,
   "metadata": {
    "ExecuteTime": {
     "end_time": "2020-11-19T03:17:51.583410Z",
     "start_time": "2020-11-19T03:17:51.576794Z"
    }
   },
   "outputs": [
    {
     "name": "stdout",
     "output_type": "stream",
     "text": [
      "values: dict_values(['joelgrus', 'Data Science is Awesome', 100, ['#data', '#science', '#datascience', '#awesome', '#yolo']])\n"
     ]
    }
   ],
   "source": [
    "tweet_values = tweet.values()  # list of values\n",
    "print(\"values:\", tweet_values)\n"
   ]
  },
  {
   "cell_type": "code",
   "execution_count": 37,
   "metadata": {
    "ExecuteTime": {
     "end_time": "2020-11-19T03:17:54.345601Z",
     "start_time": "2020-11-19T03:17:54.335952Z"
    }
   },
   "outputs": [
    {
     "name": "stdout",
     "output_type": "stream",
     "text": [
      "Keys and Values: dict_items([('user', 'joelgrus'), ('text', 'Data Science is Awesome'), ('retweet_count', 100), ('hashtags', ['#data', '#science', '#datascience', '#awesome', '#yolo'])])\n"
     ]
    }
   ],
   "source": [
    "tweet_items = tweet.items()    # list of (key, value) tuples\n",
    "\n",
    "print(\"Keys and Values:\", tweet_items)\n"
   ]
  },
  {
   "cell_type": "markdown",
   "metadata": {},
   "source": [
    "#### Nested Dictionaries\n",
    "A dictionary can also contain many dictionaries, this is called nested dictionaries."
   ]
  },
  {
   "cell_type": "code",
   "execution_count": 38,
   "metadata": {
    "ExecuteTime": {
     "end_time": "2020-11-19T03:18:57.069279Z",
     "start_time": "2020-11-19T03:18:57.058809Z"
    }
   },
   "outputs": [
    {
     "data": {
      "text/plain": [
       "{'employee1': {'Firstname': 'John', 'Salary': 100000},\n",
       " 'employee2': {'Firstname': 'Ron', 'Salary': 150000},\n",
       " 'employee3': {'Firstname': 'Jammy', 'Salary': 90000}}"
      ]
     },
     "execution_count": 38,
     "metadata": {},
     "output_type": "execute_result"
    }
   ],
   "source": [
    "Employees = {\n",
    "  \"employee1\" : {\n",
    "    \"Firstname\" : \"John\",\n",
    "    \"Salary\" : 100000\n",
    "  },\n",
    "  \"employee2\" : {\n",
    "    \"Firstname\" : \"Ron\",\n",
    "    \"Salary\" : 150000\n",
    "  },\n",
    "  \"employee3\" : {\n",
    "    \"Firstname\" : \"Jammy\",\n",
    "    \"Salary\" : 90000\n",
    "  }\n",
    "}\n",
    "\n",
    "Employees"
   ]
  },
  {
   "cell_type": "code",
   "execution_count": 39,
   "metadata": {
    "ExecuteTime": {
     "end_time": "2020-11-19T03:19:35.837836Z",
     "start_time": "2020-11-19T03:19:35.829527Z"
    }
   },
   "outputs": [
    {
     "data": {
      "text/plain": [
       "3"
      ]
     },
     "execution_count": 39,
     "metadata": {},
     "output_type": "execute_result"
    }
   ],
   "source": [
    "len(Employees)"
   ]
  },
  {
   "cell_type": "code",
   "execution_count": 40,
   "metadata": {
    "ExecuteTime": {
     "end_time": "2020-11-19T03:19:56.438757Z",
     "start_time": "2020-11-19T03:19:56.430155Z"
    }
   },
   "outputs": [
    {
     "data": {
      "text/plain": [
       "dict_keys(['employee1', 'employee2', 'employee3'])"
      ]
     },
     "execution_count": 40,
     "metadata": {},
     "output_type": "execute_result"
    }
   ],
   "source": [
    "Employees.keys()"
   ]
  },
  {
   "cell_type": "code",
   "execution_count": 41,
   "metadata": {
    "ExecuteTime": {
     "end_time": "2020-11-19T03:20:22.259948Z",
     "start_time": "2020-11-19T03:20:22.252439Z"
    }
   },
   "outputs": [
    {
     "data": {
      "text/plain": [
       "dict"
      ]
     },
     "execution_count": 41,
     "metadata": {},
     "output_type": "execute_result"
    }
   ],
   "source": [
    "type(Employees['employee1'])"
   ]
  },
  {
   "cell_type": "code",
   "execution_count": 42,
   "metadata": {
    "ExecuteTime": {
     "end_time": "2020-11-19T03:23:10.748336Z",
     "start_time": "2020-11-19T03:23:10.740767Z"
    }
   },
   "outputs": [
    {
     "data": {
      "text/plain": [
       "'John'"
      ]
     },
     "execution_count": 42,
     "metadata": {},
     "output_type": "execute_result"
    }
   ],
   "source": [
    "Employees['employee1']['Firstname']"
   ]
  },
  {
   "cell_type": "markdown",
   "metadata": {},
   "source": [
    "#### Dictionary comprehension\n",
    "Dictionary comprehension is similar in idea to list comprehension. It is fast and efficient way to create a dictionary from any iterable object. Dictionary comprehension uses curly brackets with an expression followed by for-loop with optional if statements.\n",
    "\n",
    "dict2 = {x:x*x fro a in list1 if statement}\n",
    " \n",
    "Dictionary comprehension provides the ability to filter elements that satisfy certain requiremnet. "
   ]
  },
  {
   "cell_type": "code",
   "execution_count": 43,
   "metadata": {
    "ExecuteTime": {
     "end_time": "2020-11-19T03:24:43.297240Z",
     "start_time": "2020-11-19T03:24:43.282455Z"
    }
   },
   "outputs": [
    {
     "name": "stdout",
     "output_type": "stream",
     "text": [
      "{-9: -729, 10: 1000, 14: 2744}\n"
     ]
    }
   ],
   "source": [
    "list1 = [-9, 10, 14]\n",
    "cubed = {x: x**3 for x in list1}\n",
    "print(cubed)"
   ]
  },
  {
   "cell_type": "code",
   "execution_count": 44,
   "metadata": {
    "ExecuteTime": {
     "end_time": "2020-11-19T03:25:19.854136Z",
     "start_time": "2020-11-19T03:25:19.846070Z"
    }
   },
   "outputs": [
    {
     "data": {
      "text/plain": [
       "dict"
      ]
     },
     "execution_count": 44,
     "metadata": {},
     "output_type": "execute_result"
    }
   ],
   "source": [
    "type(cubed)"
   ]
  },
  {
   "cell_type": "code",
   "execution_count": 45,
   "metadata": {
    "ExecuteTime": {
     "end_time": "2020-11-19T03:25:38.273641Z",
     "start_time": "2020-11-19T03:25:38.261367Z"
    }
   },
   "outputs": [
    {
     "data": {
      "text/plain": [
       "dict_keys([-9, 10, 14])"
      ]
     },
     "execution_count": 45,
     "metadata": {},
     "output_type": "execute_result"
    }
   ],
   "source": [
    "cubed.keys()"
   ]
  },
  {
   "cell_type": "code",
   "execution_count": 46,
   "metadata": {
    "ExecuteTime": {
     "end_time": "2020-11-19T03:27:56.456159Z",
     "start_time": "2020-11-19T03:27:56.449718Z"
    }
   },
   "outputs": [
    {
     "name": "stdout",
     "output_type": "stream",
     "text": [
      "{0: 0, 1: 1, 2: 8, 3: 27, 4: 64, 5: 125, 6: 216, 7: 343, 8: 512, 9: 729}\n"
     ]
    }
   ],
   "source": [
    "rangeiter = range(10)\n",
    "cubed = {x: x**3 for x in rangeiter}\n",
    "print(cubed)"
   ]
  },
  {
   "cell_type": "code",
   "execution_count": 47,
   "metadata": {
    "ExecuteTime": {
     "end_time": "2020-11-19T03:30:25.122845Z",
     "start_time": "2020-11-19T03:30:25.113014Z"
    }
   },
   "outputs": [
    {
     "name": "stdout",
     "output_type": "stream",
     "text": [
      "{1: 1, 3: 27, 5: 125, 7: 343, 9: 729}\n"
     ]
    }
   ],
   "source": [
    "rangeiter = range(10)\n",
    "cubed = {x: x**3 for x in rangeiter if x%2==1}\n",
    "print(cubed)"
   ]
  },
  {
   "cell_type": "markdown",
   "metadata": {},
   "source": [
    "We have covered the basic properties of the Python dictionary and learned how to access and manipulate dictionary data."
   ]
  },
  {
   "cell_type": "markdown",
   "metadata": {},
   "source": [
    "### Sets\n",
    "\n",
    "A set is an unordered collection of unique items. Set has the following characteristics:\n",
    "\n",
    "1. Set is a collection and hence can contain one or more elements and hence it is like a list\n",
    "\n",
    "2. A set in unordered. hence, the order in which the elements are added to the set will not be maintained. Since the order is not maintained, operations that require maintenance of order such as indexing (setx[0]), which are possible in list are not allowed in set. The correct usage of set does not require order of items anyway.\n",
    "\n",
    "3. it contains unique items. the correct usage of set doe not require duplicate items.\n",
    "\n",
    "The set() function can be used to convert a list or a tuple to a set. "
   ]
  },
  {
   "cell_type": "markdown",
   "metadata": {},
   "source": [
    "### Methods\n",
    "\n",
    "The following methods can be used both on sets.  If the inputs are sets, then the output will be a set.\n",
    "\n",
    "\n",
    "| Method |   Action   | Descprition |\n",
    "|:---|:---|:---|\n",
    "|subset()|x.subset(y)| Checks whether every element in x is in y.Return True or False.|\n",
    "|superset()|x.superset(y)| Checks whether every element in y is in x.Return True or False.|\n",
    "|union()|x.union(y)| Returns a new set with elements from x and y|\n",
    "|intersection()|x.intersection(y)|Returns a new set with elements that are common to x and y|\n",
    "|intersection_update()|x.intersection_update(y)|Removes the items in this set that are not present in other, specified set(s)|\n",
    "|difference()|x.difference(y)| returns a new set with elements in x that are not in y|\n",
    "|clear()|x.clear()| will clear all elements from x|\n",
    "|update()|x.update(y)| updates x by adding elements from y|\n",
    "|remove()|x.remove(x1)| will remove x1 from x. If x1 is not in x, a KeyError exception will be raised.|\n",
    "|discard()|x.discard(y)| will remove y from x if it is present. If y is not present, the discard method does not throw any error|\n",
    "|add()|x.add(n)| will add n to x|\n",
    "|difference()|x.difference(y)|Returns a set containing the difference between two or more sets|\n",
    "|difference_update()|x.difference_update(y)|Removes the items in this set that are also included in another, specified set|\n"
   ]
  },
  {
   "cell_type": "code",
   "execution_count": 48,
   "metadata": {
    "ExecuteTime": {
     "end_time": "2020-11-19T03:34:12.057762Z",
     "start_time": "2020-11-19T03:34:12.051487Z"
    }
   },
   "outputs": [
    {
     "name": "stdout",
     "output_type": "stream",
     "text": [
      "<class 'set'>\n"
     ]
    }
   ],
   "source": [
    "B = set()\n",
    "print(type(B))"
   ]
  },
  {
   "cell_type": "code",
   "execution_count": 49,
   "metadata": {
    "ExecuteTime": {
     "end_time": "2020-11-19T03:34:17.628108Z",
     "start_time": "2020-11-19T03:34:17.621207Z"
    }
   },
   "outputs": [
    {
     "data": {
      "text/plain": [
       "set"
      ]
     },
     "execution_count": 49,
     "metadata": {},
     "output_type": "execute_result"
    }
   ],
   "source": [
    "s2 = {'CPython', 'Python', 'Julia', 'R'}\n",
    "type(s2)"
   ]
  },
  {
   "cell_type": "code",
   "execution_count": 51,
   "metadata": {
    "ExecuteTime": {
     "end_time": "2020-11-19T03:35:15.965128Z",
     "start_time": "2020-11-19T03:35:15.959167Z"
    }
   },
   "outputs": [
    {
     "name": "stdout",
     "output_type": "stream",
     "text": [
      "{'R', 'CPython', 'Julia', 'Python'}\n"
     ]
    }
   ],
   "source": [
    "print(s2)"
   ]
  },
  {
   "cell_type": "markdown",
   "metadata": {},
   "source": [
    "#### Access Items\n",
    "You cannot access items in a set by referring to an index, since sets are unordered the items has no index.\n",
    "\n",
    "But you can loop through the set items using a for loop, or ask if a specified value is present in a set, by using the in keyword."
   ]
  },
  {
   "cell_type": "code",
   "execution_count": 50,
   "metadata": {
    "ExecuteTime": {
     "end_time": "2020-11-19T03:35:00.044675Z",
     "start_time": "2020-11-19T03:35:00.035799Z"
    }
   },
   "outputs": [
    {
     "name": "stdout",
     "output_type": "stream",
     "text": [
      "R\n",
      "CPython\n",
      "Julia\n",
      "Python\n"
     ]
    }
   ],
   "source": [
    "for i in s2:\n",
    "    print(i)"
   ]
  },
  {
   "cell_type": "markdown",
   "metadata": {},
   "source": [
    "#### Change Items\n",
    "Once a set is created, you cannot change its items, but you can add new items."
   ]
  },
  {
   "cell_type": "markdown",
   "metadata": {},
   "source": [
    "#### Add Items\n",
    "To add one item to a set use the add() method.\n",
    "\n",
    "To add more than one item to a set use the update() method."
   ]
  },
  {
   "cell_type": "code",
   "execution_count": 52,
   "metadata": {
    "ExecuteTime": {
     "end_time": "2020-11-19T03:35:49.961889Z",
     "start_time": "2020-11-19T03:35:49.953658Z"
    }
   },
   "outputs": [
    {
     "data": {
      "text/plain": [
       "{'C++', 'CPython', 'Julia', 'Python', 'R'}"
      ]
     },
     "execution_count": 52,
     "metadata": {},
     "output_type": "execute_result"
    }
   ],
   "source": [
    "s2.add(\"C++\")\n",
    "s2"
   ]
  },
  {
   "cell_type": "markdown",
   "metadata": {},
   "source": [
    "Add multiple items to a set, using the update() method:"
   ]
  },
  {
   "cell_type": "code",
   "execution_count": 53,
   "metadata": {
    "ExecuteTime": {
     "end_time": "2020-11-19T03:36:09.299865Z",
     "start_time": "2020-11-19T03:36:09.290638Z"
    }
   },
   "outputs": [
    {
     "data": {
      "text/plain": [
       "{'C#', 'C++', 'CPython', 'Julia', 'PHP', 'Perl', 'Python', 'R'}"
      ]
     },
     "execution_count": 53,
     "metadata": {},
     "output_type": "execute_result"
    }
   ],
   "source": [
    "s2.update([\"C#\", \"Perl\", \"PHP\"])\n",
    "s2"
   ]
  },
  {
   "cell_type": "markdown",
   "metadata": {},
   "source": [
    "#### Remove Item\n",
    "To remove an item in a set, use the *remove()*, or the *discard()* method."
   ]
  },
  {
   "cell_type": "code",
   "execution_count": 54,
   "metadata": {
    "ExecuteTime": {
     "end_time": "2020-11-19T03:36:39.360009Z",
     "start_time": "2020-11-19T03:36:39.349997Z"
    }
   },
   "outputs": [
    {
     "data": {
      "text/plain": [
       "{'C#', 'CPython', 'Julia', 'PHP', 'Perl', 'Python', 'R'}"
      ]
     },
     "execution_count": 54,
     "metadata": {},
     "output_type": "execute_result"
    }
   ],
   "source": [
    "s2.remove(\"C++\")\n",
    "s2"
   ]
  },
  {
   "cell_type": "code",
   "execution_count": 55,
   "metadata": {
    "ExecuteTime": {
     "end_time": "2020-11-19T03:36:44.877635Z",
     "start_time": "2020-11-19T03:36:44.869837Z"
    }
   },
   "outputs": [
    {
     "data": {
      "text/plain": [
       "{'C#', 'CPython', 'Julia', 'PHP', 'Perl', 'Python'}"
      ]
     },
     "execution_count": 55,
     "metadata": {},
     "output_type": "execute_result"
    }
   ],
   "source": [
    "s2.discard(\"R\")\n",
    "s2"
   ]
  },
  {
   "cell_type": "code",
   "execution_count": 57,
   "metadata": {
    "ExecuteTime": {
     "end_time": "2020-11-19T03:38:07.860966Z",
     "start_time": "2020-11-19T03:38:07.846164Z"
    }
   },
   "outputs": [
    {
     "name": "stdout",
     "output_type": "stream",
     "text": [
      "['grapes', 'apple', 'grapes', 'oranges'] <class 'list'>\n",
      "{'grapes', 'oranges', 'apple'} <class 'set'>\n"
     ]
    }
   ],
   "source": [
    "fruits = ['grapes','apple','grapes','oranges'] # A list\n",
    "fruits_set = set(fruits)\n",
    "# set command returns only unique items\n",
    "print(fruits, type(fruits))\n",
    "print(fruits_set, type(fruits_set))"
   ]
  },
  {
   "cell_type": "code",
   "execution_count": 58,
   "metadata": {
    "ExecuteTime": {
     "end_time": "2020-11-19T03:38:18.847424Z",
     "start_time": "2020-11-19T03:38:18.840031Z"
    }
   },
   "outputs": [
    {
     "name": "stdout",
     "output_type": "stream",
     "text": [
      "grapes\n",
      "oranges\n",
      "apple\n"
     ]
    }
   ],
   "source": [
    "for item in fruits_set:\n",
    "    print(item)"
   ]
  },
  {
   "cell_type": "code",
   "execution_count": 59,
   "metadata": {
    "ExecuteTime": {
     "end_time": "2020-11-19T03:42:35.797524Z",
     "start_time": "2020-11-19T03:42:35.788736Z"
    }
   },
   "outputs": [
    {
     "name": "stdout",
     "output_type": "stream",
     "text": [
      "['grapes', 'oranges', 'apple'] <class 'list'>\n",
      "('grapes', 'oranges', 'apple') <class 'tuple'>\n"
     ]
    }
   ],
   "source": [
    "set_to_list = list(fruits_set)\n",
    "print(set_to_list, type(set_to_list))\n",
    "\n",
    "set_to_tuple = tuple(fruits_set)\n",
    "print(set_to_tuple, type(set_to_tuple))"
   ]
  },
  {
   "cell_type": "code",
   "execution_count": 60,
   "metadata": {
    "ExecuteTime": {
     "end_time": "2020-11-19T03:42:51.306576Z",
     "start_time": "2020-11-19T03:42:51.300833Z"
    }
   },
   "outputs": [
    {
     "name": "stdout",
     "output_type": "stream",
     "text": [
      "3\n"
     ]
    }
   ],
   "source": [
    "print(len(fruits_set))"
   ]
  },
  {
   "cell_type": "code",
   "execution_count": 61,
   "metadata": {
    "ExecuteTime": {
     "end_time": "2020-11-19T03:42:52.421097Z",
     "start_time": "2020-11-19T03:42:52.414914Z"
    }
   },
   "outputs": [
    {
     "name": "stdout",
     "output_type": "stream",
     "text": [
      "False\n"
     ]
    }
   ],
   "source": [
    "print('avocado' in fruits_set)"
   ]
  },
  {
   "cell_type": "code",
   "execution_count": 62,
   "metadata": {
    "ExecuteTime": {
     "end_time": "2020-11-19T03:42:53.865289Z",
     "start_time": "2020-11-19T03:42:53.857743Z"
    }
   },
   "outputs": [
    {
     "name": "stdout",
     "output_type": "stream",
     "text": [
      "True\n"
     ]
    }
   ],
   "source": [
    "print('grapes' in fruits_set)"
   ]
  },
  {
   "cell_type": "code",
   "execution_count": 65,
   "metadata": {
    "ExecuteTime": {
     "end_time": "2020-11-19T03:45:19.078991Z",
     "start_time": "2020-11-19T03:45:19.073540Z"
    }
   },
   "outputs": [
    {
     "name": "stdout",
     "output_type": "stream",
     "text": [
      "True\n"
     ]
    }
   ],
   "source": [
    "set1 = {4, 5, 7}\n",
    "set2 = {5, 7}\n",
    "print(set2.issubset(set1))"
   ]
  },
  {
   "cell_type": "code",
   "execution_count": 64,
   "metadata": {
    "ExecuteTime": {
     "end_time": "2020-11-19T03:44:51.449129Z",
     "start_time": "2020-11-19T03:44:51.440793Z"
    }
   },
   "outputs": [
    {
     "name": "stdout",
     "output_type": "stream",
     "text": [
      "True\n"
     ]
    }
   ],
   "source": [
    "print(set1.issuperset(set2))"
   ]
  },
  {
   "cell_type": "code",
   "execution_count": 66,
   "metadata": {
    "ExecuteTime": {
     "end_time": "2020-11-19T03:45:24.750703Z",
     "start_time": "2020-11-19T03:45:24.745081Z"
    }
   },
   "outputs": [
    {
     "name": "stdout",
     "output_type": "stream",
     "text": [
      "{4}\n"
     ]
    }
   ],
   "source": [
    "print(set1.difference(set2))"
   ]
  },
  {
   "cell_type": "code",
   "execution_count": 67,
   "metadata": {
    "ExecuteTime": {
     "end_time": "2020-11-19T03:47:04.241064Z",
     "start_time": "2020-11-19T03:47:04.234680Z"
    }
   },
   "outputs": [
    {
     "data": {
      "text/plain": [
       "{4, 5, 7}"
      ]
     },
     "execution_count": 67,
     "metadata": {},
     "output_type": "execute_result"
    }
   ],
   "source": [
    "set1.union(set2)"
   ]
  },
  {
   "cell_type": "code",
   "execution_count": 68,
   "metadata": {
    "ExecuteTime": {
     "end_time": "2020-11-19T03:47:55.929446Z",
     "start_time": "2020-11-19T03:47:55.920596Z"
    }
   },
   "outputs": [
    {
     "data": {
      "text/plain": [
       "{5, 7}"
      ]
     },
     "execution_count": 68,
     "metadata": {},
     "output_type": "execute_result"
    }
   ],
   "source": [
    "set1.intersection(set2)"
   ]
  },
  {
   "cell_type": "code",
   "execution_count": 69,
   "metadata": {
    "ExecuteTime": {
     "end_time": "2020-11-19T03:48:14.410368Z",
     "start_time": "2020-11-19T03:48:14.402572Z"
    }
   },
   "outputs": [
    {
     "name": "stdout",
     "output_type": "stream",
     "text": [
      "{2, 3, 4, 5, 6, 7}\n"
     ]
    }
   ],
   "source": [
    "s1 = {3, 5, 7}\n",
    "s2 = {2, 4, 6}\n",
    "s1.update(s2)\n",
    "print(s1)"
   ]
  },
  {
   "cell_type": "code",
   "execution_count": null,
   "metadata": {},
   "outputs": [],
   "source": []
  },
  {
   "cell_type": "code",
   "execution_count": 70,
   "metadata": {
    "ExecuteTime": {
     "end_time": "2020-11-19T03:48:30.268117Z",
     "start_time": "2020-11-19T03:48:30.256526Z"
    }
   },
   "outputs": [
    {
     "name": "stdout",
     "output_type": "stream",
     "text": [
      "{2, 'sg', 4, 6, 'nm', 'pg'}\n"
     ]
    }
   ],
   "source": [
    "s3 = {\"pg\", \"sg\", \"nm\"}\n",
    "s4 = {2, 4, 6}\n",
    "s3.update(s4)\n",
    "print(s3)"
   ]
  },
  {
   "cell_type": "code",
   "execution_count": 71,
   "metadata": {
    "ExecuteTime": {
     "end_time": "2020-11-19T03:48:39.320043Z",
     "start_time": "2020-11-19T03:48:39.314831Z"
    }
   },
   "outputs": [
    {
     "name": "stdout",
     "output_type": "stream",
     "text": [
      "set()\n"
     ]
    }
   ],
   "source": [
    "s1.clear()\n",
    "print(s1)"
   ]
  },
  {
   "cell_type": "markdown",
   "metadata": {},
   "source": [
    "### Set comprehension\n",
    "\n",
    "Set comprehension like list comprehension provides a convenient syntax fro creating a set from a collection of items. Set comprehension also uses curly brackets with an expression followed by for-loop with optional if statements.  \n",
    "\n",
    "Syntax is\n",
    "set1 = {a foe a in list1}\n"
   ]
  },
  {
   "cell_type": "code",
   "execution_count": null,
   "metadata": {},
   "outputs": [],
   "source": [
    "s4 = {i**2 for i in range(5)}      \n",
    "print(s4)"
   ]
  },
  {
   "cell_type": "code",
   "execution_count": 72,
   "metadata": {
    "ExecuteTime": {
     "end_time": "2020-11-19T03:49:39.217050Z",
     "start_time": "2020-11-19T03:49:39.209735Z"
    }
   },
   "outputs": [
    {
     "name": "stdout",
     "output_type": "stream",
     "text": [
      "{1, 9}\n"
     ]
    }
   ],
   "source": [
    "s4 = {i**2 for i in range(5) if i%2==1}      \n",
    "print(s4)"
   ]
  },
  {
   "cell_type": "markdown",
   "metadata": {},
   "source": [
    "#### Control Flow\n",
    "Python has several built-in keywords for conditional logic, loops, and other standard control flow concepts found in other programming languages."
   ]
  },
  {
   "cell_type": "markdown",
   "metadata": {},
   "source": [
    "#### if, elif, and else\n",
    "The if statement is one of the most well-known control flow statement types. It checks a condition that, if True, evaluates the code in the block that follows:"
   ]
  },
  {
   "cell_type": "code",
   "execution_count": 73,
   "metadata": {
    "ExecuteTime": {
     "end_time": "2020-11-19T03:53:25.699869Z",
     "start_time": "2020-11-19T03:53:25.694060Z"
    }
   },
   "outputs": [],
   "source": [
    "x = 10\n",
    "if x<0:\n",
    "    print(\"It is negative\")"
   ]
  },
  {
   "cell_type": "code",
   "execution_count": null,
   "metadata": {
    "ExecuteTime": {
     "end_time": "2020-06-11T06:04:02.334644Z",
     "start_time": "2020-06-11T06:04:02.318599Z"
    }
   },
   "outputs": [],
   "source": [
    "x = 10\n",
    "if x<0:\n",
    "    print(\"It is negative\")\n",
    "else:\n",
    "    print (\" Number is positive\")"
   ]
  },
  {
   "cell_type": "markdown",
   "metadata": {},
   "source": [
    "An if statement can be optionally followed by one or more elif blocks and a catch- all else block if all of the conditions are False"
   ]
  },
  {
   "cell_type": "code",
   "execution_count": null,
   "metadata": {
    "ExecuteTime": {
     "end_time": "2020-06-11T06:05:36.618953Z",
     "start_time": "2020-06-11T06:05:36.604517Z"
    }
   },
   "outputs": [],
   "source": [
    "x = 10\n",
    "if x<0:\n",
    "    print(\"It's negative\")\n",
    "elif x==0:\n",
    "    print('Equal to zero')\n",
    "elif 0<x<5:\n",
    "    print('Positive but smaller than 5')\n",
    "else:\n",
    "    print('Positive and larger than or equal to 5')"
   ]
  },
  {
   "cell_type": "markdown",
   "metadata": {},
   "source": [
    "#### for loops\n",
    "for loops are for iterating over a collection (like a list or tuple) or an iterater. The standard syntax for a for loop is:\n"
   ]
  },
  {
   "cell_type": "code",
   "execution_count": null,
   "metadata": {},
   "outputs": [],
   "source": [
    "for value in collection:\n",
    "# do something with value"
   ]
  },
  {
   "cell_type": "code",
   "execution_count": null,
   "metadata": {
    "ExecuteTime": {
     "end_time": "2020-06-11T06:06:37.798150Z",
     "start_time": "2020-06-11T06:06:37.771451Z"
    }
   },
   "outputs": [],
   "source": [
    "seq1 = [1, 2, 4, 5] \n",
    "total = 0\n",
    "for value in seq1:\n",
    "    #total += value\n",
    "    total+=seq1[i]\n",
    "\n",
    "print(total)"
   ]
  },
  {
   "cell_type": "code",
   "execution_count": null,
   "metadata": {
    "ExecuteTime": {
     "end_time": "2020-06-11T06:11:01.032583Z",
     "start_time": "2020-06-11T06:11:01.009273Z"
    }
   },
   "outputs": [],
   "source": [
    "seq1 = [1, 2, 4,5] \n",
    "total = 0\n",
    "\n",
    "for i in range(len(seq1)):\n",
    "    #total += value\n",
    "    total+=seq1[i]\n",
    "\n",
    "print(total)"
   ]
  },
  {
   "cell_type": "code",
   "execution_count": null,
   "metadata": {
    "ExecuteTime": {
     "end_time": "2020-06-11T06:33:41.166423Z",
     "start_time": "2020-06-11T06:33:41.138805Z"
    }
   },
   "outputs": [],
   "source": []
  },
  {
   "cell_type": "markdown",
   "metadata": {},
   "source": [
    "#### while loops\n",
    "A while loop specifies a condition and a block of code that is to be executed until the condition evaluates to False"
   ]
  },
  {
   "cell_type": "code",
   "execution_count": null,
   "metadata": {},
   "outputs": [],
   "source": [
    "x=256 \n",
    "total = 0 \n",
    "while x>0:\n",
    "    total += x \n",
    "    x=x//2\n",
    "    \n",
    "print(total)"
   ]
  },
  {
   "cell_type": "code",
   "execution_count": null,
   "metadata": {},
   "outputs": [],
   "source": []
  },
  {
   "cell_type": "markdown",
   "metadata": {},
   "source": [
    "#### Ternary expressions\n",
    "A ternary expression in Python allows you to combine an if-else block that pro‐ duces a value into a single line or expression. The syntax for this in Python is:\n",
    "\n",
    "value = true-expr if condition else false-expr\n",
    "\n",
    "Here, true-expr and false-expr can be any Python expressions. It has the identical effect as the more verbose:\n",
    "\n",
    "if condition:\n",
    "    value = true-expr\n",
    "else:\n",
    "    value = false-expr"
   ]
  },
  {
   "cell_type": "code",
   "execution_count": null,
   "metadata": {
    "format": "column"
   },
   "outputs": [],
   "source": [
    "x=5\n",
    "'Non-negative' if x >= 0 else 'Negative'"
   ]
  },
  {
   "cell_type": "code",
   "execution_count": null,
   "metadata": {},
   "outputs": [],
   "source": []
  }
 ],
 "metadata": {
  "kernelspec": {
   "display_name": "Python 3",
   "language": "python",
   "name": "python3"
  },
  "language_info": {
   "codemirror_mode": {
    "name": "ipython",
    "version": 3
   },
   "file_extension": ".py",
   "mimetype": "text/x-python",
   "name": "python",
   "nbconvert_exporter": "python",
   "pygments_lexer": "ipython3",
   "version": "3.8.8"
  },
  "varInspector": {
   "cols": {
    "lenName": 16,
    "lenType": 16,
    "lenVar": 40
   },
   "kernels_config": {
    "python": {
     "delete_cmd_postfix": "",
     "delete_cmd_prefix": "del ",
     "library": "var_list.py",
     "varRefreshCmd": "print(var_dic_list())"
    },
    "r": {
     "delete_cmd_postfix": ") ",
     "delete_cmd_prefix": "rm(",
     "library": "var_list.r",
     "varRefreshCmd": "cat(var_dic_list()) "
    }
   },
   "types_to_exclude": [
    "module",
    "function",
    "builtin_function_or_method",
    "instance",
    "_Feature"
   ],
   "window_display": false
  },
  "widgets": {
   "state": {},
   "version": "1.1.2"
  }
 },
 "nbformat": 4,
 "nbformat_minor": 2
}
