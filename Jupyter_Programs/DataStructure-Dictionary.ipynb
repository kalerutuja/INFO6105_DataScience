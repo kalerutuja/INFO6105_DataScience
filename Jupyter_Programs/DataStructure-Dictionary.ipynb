{
 "cells": [
  {
   "cell_type": "code",
   "execution_count": 2,
   "id": "85025f10",
   "metadata": {},
   "outputs": [],
   "source": [
    "Name = dict(a='Rutuja', b='Kale')"
   ]
  },
  {
   "cell_type": "code",
   "execution_count": 3,
   "id": "86512ae8",
   "metadata": {},
   "outputs": [
    {
     "data": {
      "text/plain": [
       "dict"
      ]
     },
     "execution_count": 3,
     "metadata": {},
     "output_type": "execute_result"
    }
   ],
   "source": [
    "type(Name)"
   ]
  },
  {
   "cell_type": "code",
   "execution_count": 4,
   "id": "1c665632",
   "metadata": {},
   "outputs": [
    {
     "data": {
      "text/plain": [
       "{'a': 'Rutuja', 'b': 'Kale'}"
      ]
     },
     "execution_count": 4,
     "metadata": {},
     "output_type": "execute_result"
    }
   ],
   "source": [
    "Name"
   ]
  },
  {
   "cell_type": "code",
   "execution_count": 6,
   "id": "8335af04",
   "metadata": {},
   "outputs": [
    {
     "data": {
      "text/plain": [
       "'Rutuja'"
      ]
     },
     "execution_count": 6,
     "metadata": {},
     "output_type": "execute_result"
    }
   ],
   "source": [
    "x = Name.get('a')\n",
    "x"
   ]
  },
  {
   "cell_type": "code",
   "execution_count": 7,
   "id": "9f0a1a9e",
   "metadata": {},
   "outputs": [
    {
     "name": "stdout",
     "output_type": "stream",
     "text": [
      "Rutuja\n",
      "Kale\n"
     ]
    }
   ],
   "source": [
    "for i in Name.values():\n",
    "    print(i)"
   ]
  },
  {
   "cell_type": "code",
   "execution_count": 9,
   "id": "87b05a1d",
   "metadata": {},
   "outputs": [],
   "source": [
    "if \"e\" in Name:\n",
    "    print(\"yes, 'e' is one of the keys\")"
   ]
  },
  {
   "cell_type": "code",
   "execution_count": 17,
   "id": "664127bb",
   "metadata": {},
   "outputs": [
    {
     "data": {
      "text/plain": [
       "{'a': 'Rahul', 'b': 'Kale', 'Rutuja': 20}"
      ]
     },
     "execution_count": 17,
     "metadata": {},
     "output_type": "execute_result"
    }
   ],
   "source": [
    "Name.update({'a': 'Rahul'})\n",
    "Name"
   ]
  },
  {
   "cell_type": "code",
   "execution_count": 19,
   "id": "293ee5f3",
   "metadata": {},
   "outputs": [
    {
     "data": {
      "text/plain": [
       "20"
      ]
     },
     "execution_count": 19,
     "metadata": {},
     "output_type": "execute_result"
    }
   ],
   "source": [
    "Name"
   ]
  },
  {
   "cell_type": "code",
   "execution_count": null,
   "id": "af9a3cfb",
   "metadata": {},
   "outputs": [],
   "source": []
  }
 ],
 "metadata": {
  "kernelspec": {
   "display_name": "Python 3",
   "language": "python",
   "name": "python3"
  },
  "language_info": {
   "codemirror_mode": {
    "name": "ipython",
    "version": 3
   },
   "file_extension": ".py",
   "mimetype": "text/x-python",
   "name": "python",
   "nbconvert_exporter": "python",
   "pygments_lexer": "ipython3",
   "version": "3.8.8"
  }
 },
 "nbformat": 4,
 "nbformat_minor": 5
}
