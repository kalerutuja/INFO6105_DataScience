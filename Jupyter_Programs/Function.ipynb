{
 "cells": [
  {
   "cell_type": "markdown",
   "metadata": {},
   "source": [
    "###Python Function \n",
    "\n",
    "we will cover, how to write functions, how to call them, and more in Python!\n",
    "\n",
    "Functions are an essential part of any programming language: you might have already encountered and used some of the many fantastic functions that are built-in in the Python language or that come with its library ecosystem. However, you'll constantly need to write your own functions to solve problems that your data poses to you\n",
    "\n",
    "Functions provide a mechanism to reuse code. So, if you have a code that is repeated more than once in your program, then it is better to place that code in a function. Subsequently calls can be made to the function in order to use it. The idea is to put some commonly or repeatedly done task together and make a function, so that instead of writing the same code again and again for different inputs, we can call the function. They are known in most programming languages, sometimes also called *subroutines* or *procedures*. A function is a piece of code written to carry out a specified task. When the task is carried out, the function can or can not return one or more values.\n",
    "\n",
    "Additionally, functions provide an abstraction, so that the users of the function do not have to concern themselves with the details of the function. For example, a user of *mean* function does not have to concern themselves with the implementation of the *mean* function.\n",
    "\n",
    "Functions make testing of blocks of code easy which are otherwise difficult if they are amidst a larger code block. \n",
    "\n",
    "There are three types of functions in Python:\n",
    "\n",
    "- **Built-in functions**, such as **help()** to ask for help, **mean()**to get the mean value, **print()** to print an object to the terminal,… You can find an overview with more of these functions  <a href=\"https://docs.python.org/3/library/functions.html\">here</a>\n",
    "\n",
    "\n",
    "- **User-Defined Functions (UDFs)**, which are functions that users create; And\n",
    "\n",
    "\n",
    "- **Anonymous functions**, which are also called **lambda** functions because they are not declared with the standard **def** keyword.\n",
    "\n"
   ]
  },
  {
   "cell_type": "markdown",
   "metadata": {},
   "source": [
    "#### How To Define A Function: User-Defined Functions (UDFs)\n",
    "\n",
    "\n",
    "You can define functions to provide the required functionality. Here are simple four rules to define a function in Python.\n",
    "\n",
    "1. Use the keyword **def** to declare the function and follow this with the function name.\n",
    "\n",
    "\n",
    "2. Add parameters to the function: they should be within the parentheses of the function. End your line with a colon.\n",
    "\n",
    "\n",
    "3. Add statements that the functions should execute. Statements are indented. There are no parenthesis or curly brackets.\n",
    "\n",
    "\n",
    "4. End your function with a return statement if the function should output something. Without the return statement, your function will return an object **None**. return statement exits a function.  "
   ]
  },
  {
   "cell_type": "code",
   "execution_count": 3,
   "metadata": {},
   "outputs": [
    {
     "ename": "SyntaxError",
     "evalue": "invalid syntax (<ipython-input-3-f588ae65d655>, line 4)",
     "output_type": "error",
     "traceback": [
      "\u001b[0;36m  File \u001b[0;32m\"<ipython-input-3-f588ae65d655>\"\u001b[0;36m, line \u001b[0;32m4\u001b[0m\n\u001b[0;31m    body of the function\u001b[0m\n\u001b[0m          ^\u001b[0m\n\u001b[0;31mSyntaxError\u001b[0m\u001b[0;31m:\u001b[0m invalid syntax\n"
     ]
    }
   ],
   "source": [
    "#### Syntax\n",
    "def functionname( parameters ):\n",
    "   \"function_docstring\"\n",
    "   body of the function\n",
    "   return [expression]"
   ]
  },
  {
   "cell_type": "markdown",
   "metadata": {},
   "source": [
    "#### Example"
   ]
  },
  {
   "cell_type": "code",
   "execution_count": 4,
   "metadata": {},
   "outputs": [],
   "source": [
    "# Define a function `sum_two_number()`\n",
    "def sum_two_numbers(a,b):\n",
    "  return (a + b)"
   ]
  },
  {
   "cell_type": "markdown",
   "metadata": {},
   "source": [
    "#### Calling a Function\n",
    "Defining a function only gives it a name, specifies the parameters that are to be included in the function and structures the blocks of code.\n",
    "\n",
    "Once the basic structure of a function is finalized, you can execute it by calling it from another function or directly from the Python prompt. Following is the example to call *sum_two_numbers()* function"
   ]
  },
  {
   "cell_type": "code",
   "execution_count": 5,
   "metadata": {},
   "outputs": [
    {
     "data": {
      "text/plain": [
       "5"
      ]
     },
     "execution_count": 5,
     "metadata": {},
     "output_type": "execute_result"
    }
   ],
   "source": [
    "sum_two_numbers(2,3)"
   ]
  },
  {
   "cell_type": "code",
   "execution_count": 6,
   "metadata": {},
   "outputs": [],
   "source": [
    "# Define a function `sum_two_number()`\n",
    "def sum_two_numbers1(a,b):\n",
    "  print(a + b)"
   ]
  },
  {
   "cell_type": "code",
   "execution_count": 7,
   "metadata": {},
   "outputs": [],
   "source": [
    "# Define a function `sum_two_number()`\n",
    "def sum_two_numbers2(a,b):\n",
    "    x = (a + b)\n",
    "    return"
   ]
  },
  {
   "cell_type": "markdown",
   "metadata": {},
   "source": [
    "#### The return Statement\n",
    "\n",
    "If you just want to print the value you don't need to use *return* it. "
   ]
  },
  {
   "cell_type": "markdown",
   "metadata": {},
   "source": [
    "However, if you want to continue to work with the result of your function and try out some operations on it, you will need to use the return statement to actually return a value. The statement return [expression] exits a function, optionally passing back an expression to the caller.\n",
    "\n",
    "A return statement with no arguments is the same as return None."
   ]
  },
  {
   "cell_type": "code",
   "execution_count": 8,
   "metadata": {},
   "outputs": [
    {
     "data": {
      "text/plain": [
       "30"
      ]
     },
     "execution_count": 8,
     "metadata": {},
     "output_type": "execute_result"
    }
   ],
   "source": [
    "sum_two_numbers(3,2)*6"
   ]
  },
  {
   "cell_type": "code",
   "execution_count": 9,
   "metadata": {},
   "outputs": [
    {
     "name": "stdout",
     "output_type": "stream",
     "text": [
      "5\n"
     ]
    },
    {
     "ename": "TypeError",
     "evalue": "unsupported operand type(s) for *: 'NoneType' and 'int'",
     "output_type": "error",
     "traceback": [
      "\u001b[0;31m---------------------------------------------------------------------------\u001b[0m",
      "\u001b[0;31mTypeError\u001b[0m                                 Traceback (most recent call last)",
      "\u001b[0;32m<ipython-input-9-6baec681cc6a>\u001b[0m in \u001b[0;36m<module>\u001b[0;34m\u001b[0m\n\u001b[0;32m----> 1\u001b[0;31m \u001b[0msum_two_numbers1\u001b[0m\u001b[0;34m(\u001b[0m\u001b[0;36m3\u001b[0m\u001b[0;34m,\u001b[0m\u001b[0;36m2\u001b[0m\u001b[0;34m)\u001b[0m\u001b[0;34m*\u001b[0m\u001b[0;36m6\u001b[0m   \u001b[0;31m# Do you Notice something here\u001b[0m\u001b[0;34m\u001b[0m\u001b[0;34m\u001b[0m\u001b[0m\n\u001b[0m",
      "\u001b[0;31mTypeError\u001b[0m: unsupported operand type(s) for *: 'NoneType' and 'int'"
     ]
    }
   ],
   "source": [
    "sum_two_numbers1(3,2)*6   # Do you Notice something here"
   ]
  },
  {
   "cell_type": "code",
   "execution_count": null,
   "metadata": {},
   "outputs": [],
   "source": [
    "sum_two_numbers2(3,2)"
   ]
  },
  {
   "cell_type": "markdown",
   "metadata": {},
   "source": [
    "The second function gives you an error because you can't perform any operations with a None. You'll get a **TypeError** that says that you can't do the multiplication operation for **NoneType**"
   ]
  },
  {
   "cell_type": "markdown",
   "metadata": {},
   "source": [
    "Another thing that is worth mentioning when you’re working with the return statement is the fact that you can use it to return multiple values. To do this, you make use of tuples."
   ]
  },
  {
   "cell_type": "code",
   "execution_count": null,
   "metadata": {},
   "outputs": [],
   "source": [
    "def sum_two_numbers(a,b):\n",
    "    sum = a+b\n",
    "    #return (sum, a, b,)\n",
    "    return (b,sum, a,)\n",
    "    # return sum, a, b"
   ]
  },
  {
   "cell_type": "code",
   "execution_count": null,
   "metadata": {},
   "outputs": [],
   "source": [
    "sum, x, y = sum_two_numbers(2,3)\n",
    "print(\"sum:\",sum);print(\"x:\", x)"
   ]
  },
  {
   "cell_type": "markdown",
   "metadata": {},
   "source": [
    "#### How To Add Docstrings To A Python Function\n",
    "Another essential aspect of writing functions in Python: docstrings. Docstrings describe what your function does, such as the computations it performs or its return values. These descriptions serve as documentation for your function so that anyone who reads your function’s docstring understands what your function does, without having to trace through all the code in the function definition.\n",
    "\n",
    "Function docstrings are placed in the immediate line after the function header and are placed in between triple quotation marks.\n",
    "\n",
    "If you would like to study docstrings in more detail, chekc out some Github repositories of Python libraries such as <a href=\"https://github.com/scikit-learn/scikit-learn/tree/master/sklearn\">scikit-learn </a>\n",
    "or <a href=\"https://github.com/pandasdev/pandas/tree/master/pandas\">pandas</a>, where you'll find lot of examples! \n",
    "  "
   ]
  },
  {
   "cell_type": "code",
   "execution_count": null,
   "metadata": {},
   "outputs": [],
   "source": [
    "# Define a function `sum_two_number()`\n",
    "def sum_two_numbers(a,b): \n",
    "    \"\"\" returns the addition of two numbers \"\"\"\n",
    "    return (a + b)"
   ]
  },
  {
   "cell_type": "markdown",
   "metadata": {},
   "source": [
    "#### Function Arguments in Python\n",
    "\n",
    "Arguments are the things which are given to any function call, while the function code refers to the arguments by their parameter names. There are four types of arguments that Python UDFs can take:\n",
    "\n",
    "- Default arguments\n",
    "\n",
    "\n",
    "- Required arguments\n",
    "\n",
    "\n",
    "- Keyword arguments\n",
    "\n",
    "\n",
    "- Variable number of arguments\n"
   ]
  },
  {
   "cell_type": "markdown",
   "metadata": {},
   "source": [
    "#### Default Arguments\n",
    "Default arguments are those that take a default value if no argument value is passed during the function call. You can assign this default value by with the assignment operator =, just like in the following example:\n"
   ]
  },
  {
   "cell_type": "code",
   "execution_count": null,
   "metadata": {},
   "outputs": [],
   "source": [
    "# Define a function `sum_two_number()`\n",
    "def sum_two_numbers(a,b =4): \n",
    "    \"\"\" returns the addition of two numbers \"\"\"\n",
    "    return (a + b)\n"
   ]
  },
  {
   "cell_type": "code",
   "execution_count": null,
   "metadata": {},
   "outputs": [],
   "source": [
    "# call with only a parameter\n",
    "x = sum_two_numbers(a =1)\n",
    "print(x)"
   ]
  },
  {
   "cell_type": "code",
   "execution_count": null,
   "metadata": {},
   "outputs": [],
   "source": [
    "# # call with only a parameter\n",
    "x1 = sum_two_numbers(a =1, b =7)\n",
    "print(x1)"
   ]
  },
  {
   "cell_type": "markdown",
   "metadata": {},
   "source": [
    "#### Required Arguments\n",
    "These arguments need to be passed during the function call and in precisely the right order, just like in the following example:"
   ]
  },
  {
   "cell_type": "code",
   "execution_count": null,
   "metadata": {},
   "outputs": [],
   "source": [
    "# Define a function `sum_two_number()` with required arguments\n",
    "def sum_two_numbers(a,b): \n",
    "    return (a + b)"
   ]
  },
  {
   "cell_type": "markdown",
   "metadata": {},
   "source": [
    "You need arguments that map to the a as well as the b parameters to call the function without getting any errors. If you switch around a and b, the result won’t be different, but it might be if you change the function to perform some calculations where order matters as in the following example\n"
   ]
  },
  {
   "cell_type": "code",
   "execution_count": null,
   "metadata": {},
   "outputs": [],
   "source": [
    "def sum_two_numbers(a,b): \n",
    "    return (a + (b*2))"
   ]
  },
  {
   "cell_type": "markdown",
   "metadata": {},
   "source": [
    "#### Keyword Arguments\n",
    "Previously we discussed arguments supplied to a function based on its position a.k.a. positional arguments. For a function with many arguments, it may be cumbersome to match the position of the arguments with the correct value. To overcome this, Python provides keyword-based arguments, where at function call, the argument is specified by providing the variable name and then passing the value.\n",
    "\n",
    "The advantage is that we do not have to worry about the order in which we supply the arguments and their values. Also, the label ensures code readability. This requires extra keystrokes for typing the name of the variables but the code readability is sometimes worth the trouble, especially for functions with large number of inputs or complex natured inputs.\n",
    "\n",
    "Let's take the example from above to make this a bit more clear:"
   ]
  },
  {
   "cell_type": "code",
   "execution_count": null,
   "metadata": {},
   "outputs": [],
   "source": [
    "def sum_two_numbers(a,b): \n",
    "    return (a + (b*2))\n",
    "\n",
    "# call function with keyword arguments\n",
    "#sum_two_numbers( a= 2, b = 3)\n",
    "sum_two_numbers(3,2)"
   ]
  },
  {
   "cell_type": "code",
   "execution_count": null,
   "metadata": {},
   "outputs": [],
   "source": [
    "sum_two_numbers(b = 3, a =2)"
   ]
  },
  {
   "cell_type": "markdown",
   "metadata": {},
   "source": [
    "**Note:** that by using the keyword arguments, you can also switch around the order of the parameters and still get the same result when you execute your function:"
   ]
  },
  {
   "cell_type": "markdown",
   "metadata": {},
   "source": [
    "Positional arguments and keyword-based arguments can be combined in the same function call. The rule in such cases is that keyword-based arguments would come to the right of all the positional arguments. "
   ]
  },
  {
   "cell_type": "code",
   "execution_count": null,
   "metadata": {},
   "outputs": [],
   "source": [
    "print(sum_two_numbers(b=5, a=-4))"
   ]
  },
  {
   "cell_type": "code",
   "execution_count": null,
   "metadata": {},
   "outputs": [],
   "source": [
    "print(sum_two_numbers(10, b=5)) # if you assign a value for a keyword argument \n",
    "# then other arguments to its right should also be assigned values."
   ]
  },
  {
   "cell_type": "code",
   "execution_count": null,
   "metadata": {},
   "outputs": [],
   "source": [
    "print(sum_two_numbers(a=10, 5)) # This will generate a Syntax error"
   ]
  },
  {
   "cell_type": "markdown",
   "metadata": {},
   "source": [
    "#### Variable Number of Arguments\n",
    "You may need to process a function for more arguments than you specified while defining the function. These arguments are called variable-length arguments and are not named in the function definition, unlike required and default arguments.But we need to make sure that parameter *args should always be after formal arguments.\n",
    "\n",
    "Syntax for a function with non-keyword variable arguments is this \n"
   ]
  },
  {
   "cell_type": "code",
   "execution_count": null,
   "metadata": {},
   "outputs": [],
   "source": [
    "def functionname([formal_args,] *var_args_tuple ):\n",
    "    function_suite\n",
    "    return [expression]\n"
   ]
  },
  {
   "cell_type": "code",
   "execution_count": null,
   "metadata": {},
   "outputs": [],
   "source": [
    "import numpy as np\n",
    "def mean_of_numbers(*args): \n",
    "    return np.mean(args)\n",
    "\n",
    "print(mean_of_numbers(1,2))\n",
    "\n",
    "print(mean_of_numbers(1,2,3,4))\n"
   ]
  },
  {
   "cell_type": "markdown",
   "metadata": {},
   "source": [
    "You see that the above function makes use of the built-in Python mean() function from numpy to get mean of all the arguments that get passed to function. If you would like to avoid this and build the function entirely yourself, you can use this alternative:"
   ]
  },
  {
   "cell_type": "code",
   "execution_count": 11,
   "metadata": {},
   "outputs": [],
   "source": [
    "# Define `plus()` function to accept a variable number of arguments\n",
    "def mean_of_numbers(*args):\n",
    "  total = 0\n",
    "  for i in args:\n",
    "    total += i\n",
    "  return total/len(args)"
   ]
  },
  {
   "cell_type": "code",
   "execution_count": 12,
   "metadata": {},
   "outputs": [
    {
     "name": "stdout",
     "output_type": "stream",
     "text": [
      "2.0\n",
      "2.5\n"
     ]
    }
   ],
   "source": [
    "print(mean_of_numbers(1,2,3))\n",
    "print(mean_of_numbers(1,2,3,4))"
   ]
  },
  {
   "cell_type": "markdown",
   "metadata": {},
   "source": [
    "#### Anonymous Functions in Python\n",
    "These functions are called anonymous because they are not declared in the standard manner by using the def keyword. \n",
    "Anonymous functions are also called **lambda** functions in Python because instead of declaring them with the standard **def** keyword, you use the **lambda** keyword. You can use the lambda keyword to create small anonymous functions.\n",
    "\n",
    "- Lambda forms can take any number of arguments but return just one value in the form of an expression. They cannot contain commands or multiple expressions.\n",
    "\n",
    "\n",
    "- An anonymous function cannot be a direct call to print because lambda requires an expression\n",
    "\n",
    "\n",
    "- Lambda functions have their own local namespace and cannot access variables other than those in their parameter list and those in the global namespace.\n",
    "\n",
    "\n",
    "- Although it appears that lambda's are a one-line version of a function, they are not equivalent to inline statements in C or C++, whose purpose is by passing function stack allocation during invocation for performance reasons.\n",
    "\n"
   ]
  },
  {
   "cell_type": "markdown",
   "metadata": {},
   "source": [
    "#### Syntax\n",
    "The syntax of lambda functions contains only a single statement, which is as follows −"
   ]
  },
  {
   "cell_type": "code",
   "execution_count": 13,
   "metadata": {},
   "outputs": [
    {
     "ename": "SyntaxError",
     "evalue": "invalid syntax (<ipython-input-13-5a3d73dfc622>, line 1)",
     "output_type": "error",
     "traceback": [
      "\u001b[0;36m  File \u001b[0;32m\"<ipython-input-13-5a3d73dfc622>\"\u001b[0;36m, line \u001b[0;32m1\u001b[0m\n\u001b[0;31m    lambda [arg1 [,arg2,.....argn]]:expression\u001b[0m\n\u001b[0m           ^\u001b[0m\n\u001b[0;31mSyntaxError\u001b[0m\u001b[0;31m:\u001b[0m invalid syntax\n"
     ]
    }
   ],
   "source": [
    "lambda [arg1 [,arg2,.....argn]]:expression"
   ]
  },
  {
   "cell_type": "code",
   "execution_count": null,
   "metadata": {},
   "outputs": [],
   "source": [
    "double = lambda x:x*2\n",
    "\n",
    "double(6)"
   ]
  },
  {
   "cell_type": "markdown",
   "metadata": {},
   "source": [
    "**lambda x: x*2** is the anonymous or lambda function. x is the argument, and x*2 is the expression or instruction that gets evaluated and returned. What’s special about this function is that it has no name.  If you had to write the above function in a UDF, the result would be the following:"
   ]
  },
  {
   "cell_type": "code",
   "execution_count": null,
   "metadata": {},
   "outputs": [],
   "source": [
    "def double(x):\n",
    "    retrun(x*2)"
   ]
  },
  {
   "cell_type": "code",
   "execution_count": 14,
   "metadata": {},
   "outputs": [
    {
     "name": "stdout",
     "output_type": "stream",
     "text": [
      "using lambda funtion: 20\n",
      "using UDF: 20\n"
     ]
    }
   ],
   "source": [
    "# `mult()` lambda function\n",
    "mult = lambda x, y: x * y;\n",
    "\n",
    "# Call the `mult()` anonymous function\n",
    "print(\"using lambda funtion:\",mult(4,5))\n",
    "\n",
    "# \"Translate\" to a UDF\n",
    "def mult1(x, y):\n",
    "  return(x*y)\n",
    "\n",
    "print(\"using UDF:\",mult1(4,5))"
   ]
  },
  {
   "cell_type": "markdown",
   "metadata": {},
   "source": [
    "You use anonymous functions when you require a nameless function for a short period of time, and that is created at runtime. Specific contexts in which this would be relevant is when you’re working with **filter(), map()** and **reduce()**:"
   ]
  },
  {
   "cell_type": "markdown",
   "metadata": {},
   "source": [
    "### Filter, map and reduce\n",
    "\n",
    "In this section, we will discuss a new technique for mutating lists and other iterable objects using filter, map and reduce. \n",
    "\n",
    "A **filter** operation works like a water filter. It retains only the needed elements and removes all others. The programmer has to define the criteria for elements that are desirable using a regular or lambda function. Filter needs a function that returns True or False. Each element in the iterable (list, iterator etc.) is passed to the function. If the function returns a True, then that element is placed in the output iterable object. If the function returns a False, then the element is not placed in the output iterable object. The imporatnt things to remember are:\n",
    "\n",
    "1. Filter needs a function that returns a boolean\n",
    "\n",
    "\n",
    "2. If the input iterable object has n-items, then the output will have n or fewer than n-items"
   ]
  },
  {
   "cell_type": "code",
   "execution_count": 15,
   "metadata": {},
   "outputs": [
    {
     "name": "stdout",
     "output_type": "stream",
     "text": [
      "range(2, 10) <filter object at 0x109d22390>\n",
      "3\n",
      "5\n",
      "7\n",
      "9\n"
     ]
    }
   ],
   "source": [
    "def is_odd_only(x): \n",
    "    return x % 2 != 0\n",
    "\n",
    "allnums = range(2,10)\n",
    "oddnums = filter(is_odd_only, allnums) \n",
    "print(allnums, oddnums)\n",
    "for nums in oddnums:\n",
    "    print(nums)"
   ]
  },
  {
   "cell_type": "code",
   "execution_count": 16,
   "metadata": {},
   "outputs": [
    {
     "name": "stdout",
     "output_type": "stream",
     "text": [
      "3\n",
      "5\n",
      "7\n",
      "9\n"
     ]
    }
   ],
   "source": [
    "# The above function can be replaced with a lambda function\n",
    "allnums = range(2,10)\n",
    "oddnums = filter(lambda x:x%2!=0, allnums) \n",
    "for nums in oddnums:\n",
    "    print(nums)"
   ]
  },
  {
   "cell_type": "markdown",
   "metadata": {},
   "source": [
    "### map\n",
    "\n",
    "The map operation takes an iterable object and creates another iterable object. For every element in the input iterable object, there will be corresponding element in the output iterable object.\n",
    "\n",
    "The programmer has to define the criteria for element mapping using a Python function. This function may return any Python data type. Each element in the iterable (list, iterable etc.) is passed to the function. The value returned by the function is stored in the output iterable object. \n",
    "\n",
    "The important things to remember are:\n",
    "\n",
    "1. map needs a function that returns any Python data type.\n",
    "\n",
    "\n",
    "2. If the input iterable object has n-items, then the output will have n-items  "
   ]
  },
  {
   "cell_type": "code",
   "execution_count": 17,
   "metadata": {},
   "outputs": [
    {
     "name": "stdout",
     "output_type": "stream",
     "text": [
      "1\n",
      "4\n",
      "9\n",
      "16\n"
     ]
    }
   ],
   "source": [
    "def squared(x): \n",
    "    return x*x\n",
    "\n",
    "squares = map(squared, range(1, 5))\n",
    "for items in squares:\n",
    "    print(items)"
   ]
  },
  {
   "cell_type": "code",
   "execution_count": 18,
   "metadata": {},
   "outputs": [
    {
     "name": "stdout",
     "output_type": "stream",
     "text": [
      "1\n",
      "4\n",
      "9\n",
      "16\n"
     ]
    }
   ],
   "source": [
    "squares = map(lambda x:x*x, range(1, 5))\n",
    "for items in squares:\n",
    "    print(items)"
   ]
  },
  {
   "cell_type": "code",
   "execution_count": 19,
   "metadata": {},
   "outputs": [
    {
     "name": "stdout",
     "output_type": "stream",
     "text": [
      "12\n",
      "15\n",
      "18\n"
     ]
    }
   ],
   "source": [
    "# Teh map function can also take more than one input iterable object. \n",
    "\n",
    "mla = [1, 2, 3]\n",
    "mlb = [4, 5, 6]\n",
    "mlc = [7, 8, 9]\n",
    "def add(mla1, mlb1, mlc1):\n",
    "    return mla1+mlb1+mlc1\n",
    "sum_map = map(add, mla, mlb, mlc)\n",
    "for s in sum_map:\n",
    "    print(s)"
   ]
  },
  {
   "cell_type": "markdown",
   "metadata": {},
   "source": [
    "### reduce\n",
    "\n",
    "A **reduce** operation takes an iterable object and reduces it to one value. The programmer has to define the criteria for the reduction using a Python function. Each element in the iterable (list, iterable etc.) is passed to the function. The important things to remember are:\n",
    "\n",
    "1. Reduce takes a function and an iterable\n",
    "\n",
    "\n",
    "2. Regardless of number of items in the iterable, the result will be only on eitem.\n",
    "\n"
   ]
  },
  {
   "cell_type": "code",
   "execution_count": 20,
   "metadata": {},
   "outputs": [
    {
     "name": "stdout",
     "output_type": "stream",
     "text": [
      "19\n"
     ]
    }
   ],
   "source": [
    "from functools import reduce\n",
    "\n",
    "listnum = [1, 3, 6, 9]\n",
    "print(reduce(lambda x, y: x+y, listnum))"
   ]
  },
  {
   "cell_type": "markdown",
   "metadata": {},
   "source": [
    "### None as default values for functions\n",
    "\n",
    "we discussed passing default arguments to functions. We also discussed the call-by-object and call-by-object-reference. In this section, we will combine the two concepts and understand why in some cases, it is preferable to use **None** as the default argument.\n"
   ]
  },
  {
   "cell_type": "code",
   "execution_count": 21,
   "metadata": {},
   "outputs": [
    {
     "name": "stdout",
     "output_type": "stream",
     "text": [
      "0\n",
      "20\n"
     ]
    }
   ],
   "source": [
    "def process_int(someint = 0):\n",
    "    return someint*10  \n",
    "print(process_int())\n",
    "print(process_int(2))"
   ]
  },
  {
   "cell_type": "code",
   "execution_count": 22,
   "metadata": {},
   "outputs": [
    {
     "name": "stdout",
     "output_type": "stream",
     "text": [
      "[4]\n",
      "[4, 4]\n",
      "[1, 2, 3, 4]\n"
     ]
    }
   ],
   "source": [
    "def appendval_empty(alist = []):\n",
    "    alist.append(4)\n",
    "    return(alist)\n",
    "\n",
    "print(appendval_empty())\n",
    "print(appendval_empty())\n",
    "print(appendval_empty([1, 2, 3]))"
   ]
  },
  {
   "cell_type": "code",
   "execution_count": 23,
   "metadata": {},
   "outputs": [
    {
     "name": "stdout",
     "output_type": "stream",
     "text": [
      "[4]\n",
      "[4]\n",
      "[1, 2, 3, 4]\n"
     ]
    }
   ],
   "source": [
    "def appendval_none(alist = None):\n",
    "    if alist is None:\n",
    "        alist = []\n",
    "    alist.append(4)\n",
    "    return(alist)\n",
    "print(appendval_none())\n",
    "print(appendval_none())\n",
    "print(appendval_none([1, 2, 3]))"
   ]
  },
  {
   "cell_type": "markdown",
   "metadata": {},
   "source": [
    "### Nested functions and closures\n",
    "\n",
    "A function defined inside another function is called a nested function. In such cases, the scope of the inner function is limited to the outer function. "
   ]
  },
  {
   "cell_type": "code",
   "execution_count": 24,
   "metadata": {},
   "outputs": [
    {
     "name": "stdout",
     "output_type": "stream",
     "text": [
      "25\n"
     ]
    }
   ],
   "source": [
    "def outer(x):\n",
    "    def squared(y):\n",
    "        return y**2\n",
    "    return squared(x)\n",
    "sq = outer(5) \n",
    "print(sq)"
   ]
  },
  {
   "cell_type": "code",
   "execution_count": 25,
   "metadata": {},
   "outputs": [
    {
     "name": "stdout",
     "output_type": "stream",
     "text": [
      "15\n"
     ]
    }
   ],
   "source": [
    "def outer(x):\n",
    "    def multiple(y):\n",
    "        # Notice that the x whose scope is in the outer function \n",
    "        # is accessible in the multiple function\n",
    "        return x*y \n",
    "    return multiple(3) # The input value to the multiple function call is hardcoded\n",
    "    \n",
    "o = outer(5)\n",
    "print(o)"
   ]
  },
  {
   "cell_type": "code",
   "execution_count": 26,
   "metadata": {},
   "outputs": [
    {
     "name": "stdout",
     "output_type": "stream",
     "text": [
      "<function outer.<locals>.multiple at 0x109d30830>\n",
      "15\n"
     ]
    }
   ],
   "source": [
    "def outer(x):\n",
    "    def multiple(y):\n",
    "        # Notice that the x whose scope is in the outer function \n",
    "        # is accessible in the inner function\n",
    "        return x*y \n",
    "    return multiple # The code changed to return inner function object\n",
    "    \n",
    "o = outer(5)\n",
    "print(o) \n",
    "print(o(3))"
   ]
  },
  {
   "cell_type": "code",
   "execution_count": null,
   "metadata": {},
   "outputs": [],
   "source": []
  },
  {
   "cell_type": "markdown",
   "metadata": {},
   "source": [
    "All parameters (arguments) in the Python language are passed by reference. It means if you change what a parameter refers to within a function, the change also reflects back in the calling function. For example - "
   ]
  },
  {
   "cell_type": "code",
   "execution_count": 27,
   "metadata": {},
   "outputs": [
    {
     "name": "stdout",
     "output_type": "stream",
     "text": [
      "Values inside the function:  [1, 2, 3, [1, 2, 3, 4]]\n",
      "Values outside the function: [1, 2, 3, [1, 2, 3, 4]]\n"
     ]
    }
   ],
   "source": [
    "# Function definition is here\n",
    "def changelist( list1 ):\n",
    "   \"This changes a passed list into this function\"\n",
    "   list1.append([1,2,3,4]);\n",
    "   print(\"Values inside the function: \", list1)\n",
    "   return\n",
    "\n",
    "# Now you can call changeme function\n",
    "list1 = [1,2,3];\n",
    "changelist(list1 );\n",
    "print (\"Values outside the function:\" , list1)"
   ]
  },
  {
   "cell_type": "markdown",
   "metadata": {},
   "source": [
    "There is one more example where argument is being passed by reference and the reference is being overwritten inside the called function."
   ]
  },
  {
   "cell_type": "code",
   "execution_count": 28,
   "metadata": {},
   "outputs": [
    {
     "name": "stdout",
     "output_type": "stream",
     "text": [
      "Values inside the function:  [1, 2, 3, 4]\n",
      "Values outside the function:  [10, 20, 30]\n"
     ]
    }
   ],
   "source": [
    "# Function definition is here\n",
    "def changelist( list1 ):\n",
    "   \"This changes a passed list into this function\"\n",
    "   list1 = [1,2,3,4]; # This would assig new reference in mylist\n",
    "   print (\"Values inside the function: \", list1)\n",
    "   return\n",
    "\n",
    "# Now you can call changeme function\n",
    "list1 = [10,20,30];\n",
    "changelist( list1 );\n",
    "print (\"Values outside the function: \", list1)"
   ]
  },
  {
   "cell_type": "markdown",
   "metadata": {},
   "source": [
    "The parameter list1 is local to the function changeliat. Changing list1 within the function does not affect list1. The function accomplishes nothing and finally this would produce the following result - "
   ]
  },
  {
   "cell_type": "markdown",
   "metadata": {},
   "source": [
    "#### Scope of Variables\n",
    "All variables in a program may not be accessible at all locations in that program. This depends on where you have declared a variable.\n",
    "\n",
    "The scope of a variable determines the portion of the program where you can access a particular identifier. There are two basic scopes of variables in Python −\n",
    "\n",
    "- Global variables\n",
    "- Local variables"
   ]
  },
  {
   "cell_type": "markdown",
   "metadata": {},
   "source": [
    "#### Global vs Local Variables\n",
    "In general, variables that are defined inside a function body have a local scope, and those defined outside have a global scope. That means that local variables are defined within a function block and can only be accessed inside that function, while global variables can be obtained by all functions that might be in your script:"
   ]
  },
  {
   "cell_type": "code",
   "execution_count": 30,
   "metadata": {},
   "outputs": [
    {
     "name": "stdout",
     "output_type": "stream",
     "text": [
      "name: PG\n"
     ]
    },
    {
     "ename": "NameError",
     "evalue": "name 'mean' is not defined",
     "output_type": "error",
     "traceback": [
      "\u001b[0;31m---------------------------------------------------------------------------\u001b[0m",
      "\u001b[0;31mNameError\u001b[0m                                 Traceback (most recent call last)",
      "\u001b[0;32m<ipython-input-30-bc52ba58b036>\u001b[0m in \u001b[0;36m<module>\u001b[0;34m\u001b[0m\n\u001b[1;32m     13\u001b[0m \u001b[0;34m\u001b[0m\u001b[0m\n\u001b[1;32m     14\u001b[0m \u001b[0;31m# Try to access local variable\u001b[0m\u001b[0;34m\u001b[0m\u001b[0;34m\u001b[0m\u001b[0;34m\u001b[0m\u001b[0m\n\u001b[0;32m---> 15\u001b[0;31m \u001b[0mprint\u001b[0m\u001b[0;34m(\u001b[0m\u001b[0;34m\"mean:\"\u001b[0m\u001b[0;34m,\u001b[0m \u001b[0mstr\u001b[0m\u001b[0;34m(\u001b[0m\u001b[0mmean\u001b[0m\u001b[0;34m)\u001b[0m\u001b[0;34m)\u001b[0m\u001b[0;34m\u001b[0m\u001b[0;34m\u001b[0m\u001b[0m\n\u001b[0m",
      "\u001b[0;31mNameError\u001b[0m: name 'mean' is not defined"
     ]
    }
   ],
   "source": [
    "# Global variable\n",
    "name = \"PG\"\n",
    "\n",
    "def mean_of_numbers(*args):\n",
    "    total = 0\n",
    "    for i in args:\n",
    "        total += i\n",
    "    mean = total/len(args)\n",
    "    return(mean)\n",
    "\n",
    "# Access the global variable\n",
    "print(\"name:\", name)\n",
    "\n",
    "# Try to access local variable\n",
    "print(\"mean:\", str(mean))"
   ]
  },
  {
   "cell_type": "markdown",
   "metadata": {},
   "source": [
    "You’ll see that you’ll get a NameError that says that the name 'mean' is not defined when you try to print out the local variable mean that was defined inside the function body. The name variable, on the other hand, can be printed out without any problems."
   ]
  },
  {
   "cell_type": "markdown",
   "metadata": {},
   "source": [
    "#### Using main() as a Function\n",
    "If you have any experience with other programming languages such as Java or C , you’ll know that the main function is required to execute functions. As you have seen in the examples above, this is not necessarily needed for Python. However, including a main() function in your Python program can be handy to structure your code logically - all of the most important components are contained within this main() function.\n",
    "\n",
    "You can easily define a main() function and call it just like you have done with all of the other functions above:"
   ]
  },
  {
   "cell_type": "code",
   "execution_count": null,
   "metadata": {},
   "outputs": [],
   "source": [
    "def main():\n",
    "  print(double(2))\n",
    "  print(\"This is a main function\")\n",
    "\n",
    "main()"
   ]
  },
  {
   "cell_type": "markdown",
   "metadata": {},
   "source": [
    "However, as it stands now, the code of your main() function will be called when you import it as a module. To make sure that this doesn't happen, you call the main() function when __name__ == '__main__'.\n",
    "\n",
    "That means that the code of the above code chunk becomes:"
   ]
  },
  {
   "cell_type": "code",
   "execution_count": null,
   "metadata": {},
   "outputs": [],
   "source": [
    "def main():\n",
    "  print(double(2))\n",
    "  print(\"This is a main function\")\n",
    "\n",
    "    # Execute `main()` function \n",
    "if __name__ == '__main__':\n",
    "    main()"
   ]
  },
  {
   "cell_type": "code",
   "execution_count": null,
   "metadata": {},
   "outputs": [],
   "source": []
  }
 ],
 "metadata": {
  "kernelspec": {
   "display_name": "Python 3",
   "language": "python",
   "name": "python3"
  },
  "language_info": {
   "codemirror_mode": {
    "name": "ipython",
    "version": 3
   },
   "file_extension": ".py",
   "mimetype": "text/x-python",
   "name": "python",
   "nbconvert_exporter": "python",
   "pygments_lexer": "ipython3",
   "version": "3.8.5"
  }
 },
 "nbformat": 4,
 "nbformat_minor": 2
}
