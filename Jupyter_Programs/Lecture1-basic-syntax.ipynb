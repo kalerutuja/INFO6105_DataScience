{
 "cells": [
  {
   "cell_type": "markdown",
   "metadata": {},
   "source": [
    "This course is designed for programming for people who have absolutely no previous programming experience.  However, you are expected to have high school level knowledge of simple statistics.\n",
    "\n",
    "As I mentioned earlier I want to make this class interactive, so it is your responsibility is to ask questions, even the same question over and over so that everyboyd is winner at the end.\n",
    "\n",
    "Programming is a lot like any game, you have to practice, practice,\n",
    "practice and will do together. Moreover, it takes time for new concepts to sink in and become\n",
    "natural.  This short class may not be enough.  But hopefully, it will be\n",
    "enough to discover your affinity, and awaken your talent/interest, for\n",
    "programming to analyze data; and the art of data analysis via Python, itself, will motivate you to learn and do more. \n",
    "At the end of the course you will be able to think liek a programmer and do some more digging by your self in teh are of data analysis using Python. \n",
    "\n",
    "### Python For Data Analysis by Wes McKinney\n",
    ">ISBN # 9781491957660, published by O'Reilly"
   ]
  },
  {
   "cell_type": "markdown",
   "metadata": {},
   "source": [
    "### Jupyter Notes:  \n",
    "Perhaps you want an empty cell, right here, to give something a try.\n",
    "\n",
    "`1.`  To make an empty cell, click to left of a cell, then type '`a`'  -- or pull-down the Insert menu.\n",
    "\n",
    "`2.`  Be sure that `Code` is the chosen mode.  Or choose `Markdown` if you want to make a note, not run code.\n",
    "\n",
    "`3.`  If your `Code` cell starts with `?`, like:\n",
    "\n",
    "```python\n",
    "In [1]:  ?str.upper\n",
    "```\n",
    "then Jupyter will give you some information about the object that follows the '`?`'.\n",
    "\n",
    "# To run a cell,  use `shift-Enter`.  \n",
    "\n",
    "### In this notebook, we will go over some basics of Python as a recap."
   ]
  },
  {
   "cell_type": "markdown",
   "metadata": {},
   "source": [
    "#### Libraries\n",
    "\n",
    "The first step to learn Python is by getting acquainted with useful libraries. we need to learn how to import libraries into our environment. There are several ways of doing. "
   ]
  },
  {
   "cell_type": "code",
   "execution_count": 1,
   "metadata": {},
   "outputs": [
    {
     "name": "stdout",
     "output_type": "stream",
     "text": [
      "3.8.5 (default, Sep  4 2020, 02:22:02) \n",
      "[Clang 10.0.0 ]\n"
     ]
    }
   ],
   "source": [
    "## Print the version\n",
    "\n",
    "import sys\n",
    "print(sys.version)"
   ]
  },
  {
   "cell_type": "code",
   "execution_count": 3,
   "metadata": {},
   "outputs": [],
   "source": [
    "import math"
   ]
  },
  {
   "cell_type": "code",
   "execution_count": 4,
   "metadata": {},
   "outputs": [
    {
     "data": {
      "text/plain": [
       "1.7320508075688772"
      ]
     },
     "execution_count": 4,
     "metadata": {},
     "output_type": "execute_result"
    }
   ],
   "source": [
    "math.sqrt(3)"
   ]
  },
  {
   "cell_type": "code",
   "execution_count": null,
   "metadata": {},
   "outputs": [],
   "source": [
    "math."
   ]
  },
  {
   "cell_type": "code",
   "execution_count": null,
   "metadata": {},
   "outputs": [],
   "source": [
    "import math as m"
   ]
  },
  {
   "cell_type": "code",
   "execution_count": 5,
   "metadata": {},
   "outputs": [
    {
     "data": {
      "text/plain": [
       "1.7320508075688772"
      ]
     },
     "execution_count": 5,
     "metadata": {},
     "output_type": "execute_result"
    }
   ],
   "source": [
    "m.sqrt(3)"
   ]
  },
  {
   "cell_type": "code",
   "execution_count": 2,
   "metadata": {},
   "outputs": [],
   "source": [
    "from math import *"
   ]
  },
  {
   "cell_type": "code",
   "execution_count": 6,
   "metadata": {},
   "outputs": [
    {
     "data": {
      "text/plain": [
       "1.7320508075688772"
      ]
     },
     "execution_count": 6,
     "metadata": {},
     "output_type": "execute_result"
    }
   ],
   "source": [
    "sqrt(3)"
   ]
  },
  {
   "cell_type": "markdown",
   "metadata": {},
   "source": [
    "In the first manner, we have defined an alias m to library math. We can now use various functions from math library (e.g. square root) by referencing it using the alias m.sqrt().\n",
    "\n",
    "In the second manner, we have imported the entire name space in math i.e. you can directly use sqrt() without referring to math."
   ]
  },
  {
   "cell_type": "markdown",
   "metadata": {},
   "source": [
    "### Print \n",
    "\n",
    "A print function is the mechanism that is used to communicate the state of the program with the user of the software via a command line\n",
    "\n"
   ]
  },
  {
   "cell_type": "code",
   "execution_count": 1,
   "metadata": {
    "inputHidden": false,
    "outputHidden": false
   },
   "outputs": [
    {
     "name": "stdout",
     "output_type": "stream",
     "text": [
      "Put the string here.\n"
     ]
    }
   ],
   "source": [
    "print(\"Hello and welcome to the class.\")"
   ]
  },
  {
   "cell_type": "markdown",
   "metadata": {},
   "source": [
    "we can give a valid mathematical expressions or string operations to a print function and the evaluated value will be printed in the output."
   ]
  },
  {
   "cell_type": "code",
   "execution_count": 1,
   "metadata": {
    "inputHidden": false,
    "outputHidden": false
   },
   "outputs": [
    {
     "name": "stdout",
     "output_type": "stream",
     "text": [
      "5\n",
      "The sum of the numbers is:  5\n"
     ]
    }
   ],
   "source": [
    "print(2 + 3)\n",
    "\n",
    "print(\"The sum of the numbers is: \", 2+3)"
   ]
  },
  {
   "cell_type": "markdown",
   "metadata": {},
   "source": [
    "### Comments\n",
    "Comments are used to improve the readability of the code and to communicate the inner working of the code, i.e, what is going on in the code.\n",
    "\n",
    "Python had single line comments and multiple line comments. Single line comments start with a hash, #. All the text placed after the # sign until the end of the line are considered to be part of the comment. Thus, single line comments cannot span multiple lines. \n",
    "\n",
    "Multiple line comments are placed between pair of triple single quotes or multiple double quotes and as the name indicates can span over multiple lines.\n"
   ]
  },
  {
   "cell_type": "code",
   "execution_count": 7,
   "metadata": {
    "inputHidden": false,
    "outputHidden": false
   },
   "outputs": [
    {
     "data": {
      "text/plain": [
       "'\\nIn this multiple line comment, we are using three double quotes at the \\nstart and at the end. \\n'"
      ]
     },
     "execution_count": 7,
     "metadata": {},
     "output_type": "execute_result"
    }
   ],
   "source": [
    "a = 40 # This is a single line comment\n",
    "# This is a different single line comment\n",
    "\n",
    "'''\n",
    "This is a multiple line comment. We are using three single quotes \n",
    "in this example. \n",
    "'''\n",
    "# or\n",
    "\n",
    "\"\"\"\n",
    "In this multiple line comment, we are using three double quotes at the \n",
    "start and at the end. \n",
    "\"\"\"\n"
   ]
  },
  {
   "cell_type": "markdown",
   "metadata": {},
   "source": [
    "we will learn the built-in data types such as numbers, strings and booleans."
   ]
  },
  {
   "cell_type": "code",
   "execution_count": 19,
   "metadata": {},
   "outputs": [
    {
     "name": "stdout",
     "output_type": "stream",
     "text": [
      "a: 5\n",
      "b: 11\n"
     ]
    }
   ],
   "source": [
    "a=5\n",
    "print(\"a:\", a)\n",
    "b = a+6\n",
    "print(\"b:\",b)"
   ]
  },
  {
   "cell_type": "code",
   "execution_count": 17,
   "metadata": {},
   "outputs": [
    {
     "data": {
      "text/plain": [
       "8"
      ]
     },
     "execution_count": 17,
     "metadata": {},
     "output_type": "execute_result"
    }
   ],
   "source": [
    "b= a+3\n",
    "b"
   ]
  },
  {
   "cell_type": "markdown",
   "metadata": {},
   "source": [
    "### Number\n",
    "\n",
    "The numbers in Python can be further broken down to integers, floats, and complex numbers. "
   ]
  },
  {
   "cell_type": "code",
   "execution_count": 20,
   "metadata": {},
   "outputs": [
    {
     "name": "stdout",
     "output_type": "stream",
     "text": [
      "5\n",
      "6.3\n",
      "(1+2j)\n"
     ]
    }
   ],
   "source": [
    "# integer\n",
    "\n",
    "int1 = 5\n",
    "print(int1)\n",
    "\n",
    "# float\n",
    "float1 = 6.3\n",
    "print(float1)\n",
    "\n",
    "# complex\n",
    "c1 = 1 + 2j\n",
    "print(c1) # c1 is a complex number, not 1+j2\n"
   ]
  },
  {
   "cell_type": "code",
   "execution_count": 21,
   "metadata": {},
   "outputs": [
    {
     "data": {
      "text/plain": [
       "int"
      ]
     },
     "execution_count": 21,
     "metadata": {},
     "output_type": "execute_result"
    }
   ],
   "source": [
    "type(int1)"
   ]
  },
  {
   "cell_type": "markdown",
   "metadata": {},
   "source": [
    "### Variables\n",
    "\n",
    "- Variable in Python are labels to identify objects stored in memory. \n",
    "- Python is a dynamically type language. So, we don't have to declare the variable type before we use them, Python infers the data type of a variable depending on the content being used.\n",
    " \n",
    "- The syntax for storing values to variable is given below:\n",
    "\n",
    "variable_name = value\n",
    "\n"
   ]
  },
  {
   "cell_type": "code",
   "execution_count": 22,
   "metadata": {
    "inputHidden": false,
    "outputHidden": false
   },
   "outputs": [
    {
     "name": "stdout",
     "output_type": "stream",
     "text": [
      "John is a Data Scientist\n"
     ]
    }
   ],
   "source": [
    "str1 = 'John' # str1 is a variable, it's current value is 'John'\n",
    "str2 = 'is a Data Scientist'\n",
    "print(str1, str2)"
   ]
  },
  {
   "cell_type": "code",
   "execution_count": 8,
   "metadata": {
    "inputHidden": false,
    "outputHidden": false
   },
   "outputs": [
    {
     "name": "stdout",
     "output_type": "stream",
     "text": [
      "Sam is a Data Scientist\n"
     ]
    }
   ],
   "source": [
    "str1 = \"Sam\"\n",
    "print(str1, str2)"
   ]
  },
  {
   "cell_type": "code",
   "execution_count": 9,
   "metadata": {
    "inputHidden": false,
    "outputHidden": false
   },
   "outputs": [
    {
     "name": "stdout",
     "output_type": "stream",
     "text": [
      "The variable value in this case is: Sam\n"
     ]
    }
   ],
   "source": [
    "print(\"The variable value in this case is:\", str1)"
   ]
  },
  {
   "cell_type": "code",
   "execution_count": 9,
   "metadata": {
    "inputHidden": false,
    "outputHidden": false
   },
   "outputs": [
    {
     "name": "stdout",
     "output_type": "stream",
     "text": [
      "4 5 7\n"
     ]
    }
   ],
   "source": [
    "a = 4\n",
    "b = 5\n",
    "c = 7\n",
    "print(a, b, c)"
   ]
  },
  {
   "cell_type": "markdown",
   "metadata": {},
   "source": [
    "### Naming variables\n",
    "\n",
    "The hardest part of programming is naming variables appropriately. It makes sense that it is harder to name variables as we have dual responsibility of making code both human readable and computer executable. Donald Knuth put it succinctly when he said, \" Programs are meant to be read by humans and only incidentally for computers to execute.\"\n",
    "\n",
    "Special care has to be taken while naming a variable. Let us say we want to name a variable that will contain a number associated with a user, then it is appropriate to call it as user-number, so that the code is readable. \n",
    "\n",
    "when you name the variable, it is a good idea to follow some standards. In Python it is recommended to follow the PEP 8 guidelines [https://www.python.org/dev/peps/pep-0008/]. The three guidelines are:\n",
    "\n",
    "1. Everything in lowercase such as *usernumber*\n",
    "\n",
    "2. Underscore between words known as snake case such as *user_number*, to improve readability.\n",
    "\n",
    "3. Though not listed in the guidelines, some programmers use mixed case or camel case such as *userName*\n",
    "\n"
   ]
  },
  {
   "cell_type": "markdown",
   "metadata": {},
   "source": [
    "### Python keywords\n",
    "\n",
    "Python has specific keywords as other languages, that are reserved for Python's use only. \n",
    "\n",
    "Make sure to avoid using Python keywords for naming your variables as this could create hard to detect and hard to fix bugs.\n",
    "\n",
    "In the example below, we define a variable called def, which is a keyword to identify Python functions and assign it a value of 3. Since this is not allowed by Python, a Syntax Error exception will be raised. The error is obvious and produced immediately after the execution of the variable definition.    "
   ]
  },
  {
   "cell_type": "code",
   "execution_count": 1,
   "metadata": {
    "inputHidden": false,
    "outputHidden": false
   },
   "outputs": [
    {
     "ename": "SyntaxError",
     "evalue": "invalid syntax (<ipython-input-1-8c4ca3b4d0d5>, line 1)",
     "output_type": "error",
     "traceback": [
      "\u001b[0;36m  File \u001b[0;32m\"<ipython-input-1-8c4ca3b4d0d5>\"\u001b[0;36m, line \u001b[0;32m1\u001b[0m\n\u001b[0;31m    def =3\u001b[0m\n\u001b[0m        ^\u001b[0m\n\u001b[0;31mSyntaxError\u001b[0m\u001b[0;31m:\u001b[0m invalid syntax\n"
     ]
    }
   ],
   "source": [
    "def =3 "
   ]
  },
  {
   "cell_type": "code",
   "execution_count": 11,
   "metadata": {
    "inputHidden": false,
    "outputHidden": false
   },
   "outputs": [
    {
     "ename": "TypeError",
     "evalue": "'tuple' object is not callable",
     "output_type": "error",
     "traceback": [
      "\u001b[0;31m---------------------------------------------------------------------------\u001b[0m",
      "\u001b[0;31mTypeError\u001b[0m                                 Traceback (most recent call last)",
      "\u001b[0;32m<ipython-input-11-89ed9df17ed8>\u001b[0m in \u001b[0;36m<module>\u001b[0;34m()\u001b[0m\n\u001b[1;32m      1\u001b[0m \u001b[0mlist\u001b[0m \u001b[0;34m=\u001b[0m \u001b[0;34m(\u001b[0m\u001b[0;36m1\u001b[0m\u001b[0;34m,\u001b[0m \u001b[0;36m2\u001b[0m\u001b[0;34m,\u001b[0m \u001b[0;36m3\u001b[0m\u001b[0;34m,\u001b[0m\u001b[0;34m)\u001b[0m\u001b[0;34m\u001b[0m\u001b[0m\n\u001b[0;32m----> 2\u001b[0;31m \u001b[0mnew_list\u001b[0m \u001b[0;34m=\u001b[0m \u001b[0mlist\u001b[0m\u001b[0;34m(\u001b[0m\u001b[0mlist\u001b[0m\u001b[0;34m)\u001b[0m\u001b[0;34m\u001b[0m\u001b[0m\n\u001b[0m",
      "\u001b[0;31mTypeError\u001b[0m: 'tuple' object is not callable"
     ]
    }
   ],
   "source": [
    "list = (1, 2, 3,)\n",
    "new_list = list(list)"
   ]
  },
  {
   "cell_type": "markdown",
   "metadata": {},
   "source": [
    "### Multi-line statements\n",
    "\n",
    "It is generally recommended in any program to only have 80 characters in a line. Sometimes a statement might not fit into the 80-character limit. We can break a statement into multiple lines by having a trailing backslash at the end of each line except for the last line.    "
   ]
  },
  {
   "cell_type": "code",
   "execution_count": 10,
   "metadata": {
    "inputHidden": false,
    "outputHidden": false
   },
   "outputs": [
    {
     "name": "stdout",
     "output_type": "stream",
     "text": [
      "17.0\n"
     ]
    }
   ],
   "source": [
    "a = 1 + 10 / 2 + \\\n",
    "    4 - 3 + \\\n",
    "    10 \n",
    "\n",
    "print(a)"
   ]
  },
  {
   "cell_type": "markdown",
   "metadata": {},
   "source": [
    "### Multiple statements on a single line\n",
    "\n",
    "You can add multiple statements to single line in Python code, by putting a semicolon between the statements\n"
   ]
  },
  {
   "cell_type": "code",
   "execution_count": 23,
   "metadata": {
    "inputHidden": false,
    "outputHidden": false,
    "scrolled": true
   },
   "outputs": [
    {
     "name": "stdout",
     "output_type": "stream",
     "text": [
      "The value of x is: 10\n",
      "The value of y is: 11\n"
     ]
    }
   ],
   "source": [
    "x = 10\n",
    "y = 4\n",
    "#print(\"The value of x is:\",x)\n",
    "#print(\"The value of y is:\",b)\n",
    "\n",
    "print(\"The value of x is:\",x); print(\"The value of y is:\",b)"
   ]
  },
  {
   "cell_type": "markdown",
   "metadata": {},
   "source": [
    "### String\n",
    "\n",
    "A string in Python is an immutable data type that consists of a contiguous set of characters enclosed in single, double or triple quotation marks. The power of the string does not lie in the fact that it contains zero or more characters but the fact that these characters can be easily manipulated. "
   ]
  },
  {
   "cell_type": "code",
   "execution_count": 26,
   "metadata": {},
   "outputs": [
    {
     "name": "stdout",
     "output_type": "stream",
     "text": [
      "Hello and welcome to the class\n"
     ]
    }
   ],
   "source": [
    "s1 = 'Hello and welcome to the class'\n",
    "print(s1)"
   ]
  },
  {
   "cell_type": "code",
   "execution_count": 27,
   "metadata": {},
   "outputs": [
    {
     "name": "stdout",
     "output_type": "stream",
     "text": [
      "Hello and welcome to the class\n"
     ]
    }
   ],
   "source": [
    "s1 = \"Hello and welcome to the class\"\n",
    "print(s1)"
   ]
  },
  {
   "cell_type": "code",
   "execution_count": null,
   "metadata": {},
   "outputs": [],
   "source": [
    "s1 = '''Hello and welcome to the class''' \n",
    "print(s1)"
   ]
  },
  {
   "cell_type": "markdown",
   "metadata": {},
   "source": [
    "### String methods\n",
    "\n",
    "List of some of the most popular string methods\n",
    "\n",
    "- capitalize() -  string.capitalize(): Capitalize the first letter of the string\n",
    "- count() - string.count(pattern, beginning index, end index): Returns the number of times a pattern appears in the string\n",
    "- find() - string.find(pattern, beginning index, end index): Determines whether a pattern occurs in the string. The beginning and end indices are used to find a substring. Find returns the index if the pattern or substring occurs otherwise returns -1\n",
    "- isalnum() - string.isalnum(): Returns True if the string has at least one character and all characters are alphanumeric and False otherwise.\n",
    "- isdigit() - string.isdigit(): Returns True if string contains only digit(s) and False otherwise\n",
    "- istitle() - string.istitle(): Returns True if the string is title cased and False otherwise\n",
    "- join() - join-character.join(sequence) ; Joins items in the sequence with the specified join_character\n",
    "- lower() - string.lower(): Converts all the characters in string to lower case\n",
    "- lstrip() - string.lstrip([chars]): if[chars] is not given, then lstrip removes leading whitespaces, newline character, carriage return and tab from string. if [chars] is provided then the lstrip will remove all combinations of chars from leading end of the string.\n",
    "- replace - string.replace(old, new): Replaces the old substring with new substring in the string\n",
    "- rstrip() - string.rstrip([chars]): if[chars] is not given, then rstrip removes trailing whitespaces, newline character, carriage return and tab from string. if [chars] is provided then the rstrip will remove all combinations of chars from trailing end of the string.\n",
    "- split() - string.split(delimiter): splits the string according to the delimiter and returns a list that consists of all the substrings.\n",
    "- splitlines() - string.splitlines(delimiter): If delimiter is specified, splitlines will split the lines at the delimiter. Otherwise the lines will be split at newlines. Returns a list with the lines.\n",
    "- strip() - string.split([chars]): if [chars]) is not given, then strip removes leading and trailing whitespaces, newline character carriage return and tab from string. if [chars] is provided then the strip will remove all the combinations of chars from leading and trailing end of the string.\n",
    "- title - string.title(): Returns a title cased string, where the first character in each word will be uppercase and rest will be lowercase. \n",
    "- upper - string.upper(): Converts all the characters in string to uppercase\n",
    "- zfill() - string.zfill(width): Returns the original string along with zeros left padded to a total width. If a sign is specified in the string, then zfill() retains it. \n",
    "- isdecimal() - string.isdecimal(): Returns True if the string contains only decimal characters and False otherwise. The method isdigit() on the other hand can handle Unicode characters.\n"
   ]
  },
  {
   "cell_type": "code",
   "execution_count": 28,
   "metadata": {},
   "outputs": [
    {
     "name": "stdout",
     "output_type": "stream",
     "text": [
      "PROGRAMMING\n"
     ]
    }
   ],
   "source": [
    "string1 = \"programming\"\n",
    "print(string1.upper())"
   ]
  },
  {
   "cell_type": "code",
   "execution_count": 29,
   "metadata": {},
   "outputs": [
    {
     "name": "stdout",
     "output_type": "stream",
     "text": [
      "Programming\n"
     ]
    }
   ],
   "source": [
    "string1 = \"programming\"\n",
    "print(string1.capitalize())"
   ]
  },
  {
   "cell_type": "code",
   "execution_count": 30,
   "metadata": {},
   "outputs": [
    {
     "name": "stdout",
     "output_type": "stream",
     "text": [
      "powerful\n"
     ]
    }
   ],
   "source": [
    "string2 = \"POWERFUL\"\n",
    "print(string2.lower())"
   ]
  },
  {
   "cell_type": "code",
   "execution_count": 35,
   "metadata": {},
   "outputs": [
    {
     "data": {
      "text/plain": [
       "True"
      ]
     },
     "execution_count": 35,
     "metadata": {},
     "output_type": "execute_result"
    }
   ],
   "source": [
    "p1 = 'Pramod'\n",
    "p2 = 'pramod'\n",
    "p1.lower()==p2.lower()"
   ]
  },
  {
   "cell_type": "code",
   "execution_count": 37,
   "metadata": {},
   "outputs": [
    {
     "name": "stdout",
     "output_type": "stream",
     "text": [
      "original string: the life of pi\n",
      "sting title: The Life Of Pi\n"
     ]
    }
   ],
   "source": [
    "stringA = \"the life of pi\"\n",
    "print(\"original string:\", stringA)\n",
    "print(\"sting title:\",stringA.title())"
   ]
  },
  {
   "cell_type": "code",
   "execution_count": 38,
   "metadata": {},
   "outputs": [
    {
     "name": "stdout",
     "output_type": "stream",
     "text": [
      "True\n"
     ]
    }
   ],
   "source": [
    "string3 = \"34\"\n",
    "print(string3.isdigit())"
   ]
  },
  {
   "cell_type": "code",
   "execution_count": 39,
   "metadata": {},
   "outputs": [
    {
     "name": "stdout",
     "output_type": "stream",
     "text": [
      "3\n"
     ]
    }
   ],
   "source": [
    "string5 = \"pamphlet\"\n",
    "print(string5.find(\"ph\"))"
   ]
  },
  {
   "cell_type": "code",
   "execution_count": 40,
   "metadata": {},
   "outputs": [
    {
     "name": "stdout",
     "output_type": "stream",
     "text": [
      "pamPHlet\n"
     ]
    }
   ],
   "source": [
    "string5 = \"pamphlet\"\n",
    "print(string5.replace(\"ph\", \"PH\"))"
   ]
  },
  {
   "cell_type": "code",
   "execution_count": 44,
   "metadata": {},
   "outputs": [
    {
     "ename": "IndexError",
     "evalue": "string index out of range",
     "output_type": "error",
     "traceback": [
      "\u001b[0;31m---------------------------------------------------------------------------\u001b[0m",
      "\u001b[0;31mIndexError\u001b[0m                                Traceback (most recent call last)",
      "\u001b[0;32m<ipython-input-44-52e66c142ba2>\u001b[0m in \u001b[0;36m<module>\u001b[0;34m\u001b[0m\n\u001b[0;32m----> 1\u001b[0;31m \u001b[0mstring5\u001b[0m\u001b[0;34m[\u001b[0m\u001b[0;36m8\u001b[0m\u001b[0;34m]\u001b[0m\u001b[0;34m\u001b[0m\u001b[0;34m\u001b[0m\u001b[0m\n\u001b[0m",
      "\u001b[0;31mIndexError\u001b[0m: string index out of range"
     ]
    }
   ],
   "source": [
    "string5[8]"
   ]
  },
  {
   "cell_type": "markdown",
   "metadata": {},
   "source": [
    "### String Functions\n",
    "Earlier we saw string methods, which are functions associated with a string. These methods are called by referencing the string followed by the name of the method. Here, we will consider string functions that take string as an input.\n",
    "\n",
    "- max(string): returns the maximum alphabetical character from the string\n",
    "- min(string): returns the minimum alphabetical character from the string\n",
    "- len(string): returns the number of characters in the string\n"
   ]
  },
  {
   "cell_type": "code",
   "execution_count": 1,
   "metadata": {
    "scrolled": true
   },
   "outputs": [
    {
     "name": "stdout",
     "output_type": "stream",
     "text": [
      "9\n"
     ]
    }
   ],
   "source": [
    "string8 = \"xylophone\"\n",
    "print(len(string8))"
   ]
  },
  {
   "cell_type": "code",
   "execution_count": 2,
   "metadata": {},
   "outputs": [
    {
     "name": "stdout",
     "output_type": "stream",
     "text": [
      "y\n"
     ]
    }
   ],
   "source": [
    "string8 = \"xylophone\"\n",
    "print(max(string8))"
   ]
  },
  {
   "cell_type": "code",
   "execution_count": 46,
   "metadata": {},
   "outputs": [
    {
     "name": "stdout",
     "output_type": "stream",
     "text": [
      "e\n"
     ]
    }
   ],
   "source": [
    "string8 = \"xylophone\"\n",
    "print(min(string8))"
   ]
  },
  {
   "cell_type": "code",
   "execution_count": 9,
   "metadata": {},
   "outputs": [
    {
     "name": "stdout",
     "output_type": "stream",
     "text": [
      "1 2\n"
     ]
    }
   ],
   "source": [
    "x= '1'\n",
    "x\n",
    "y= '2'\n",
    "y\n",
    "print (x + ' ' +y)"
   ]
  },
  {
   "cell_type": "code",
   "execution_count": null,
   "metadata": {},
   "outputs": [],
   "source": []
  },
  {
   "cell_type": "markdown",
   "metadata": {},
   "source": [
    "### String concatenation"
   ]
  },
  {
   "cell_type": "code",
   "execution_count": 47,
   "metadata": {
    "inputHidden": false,
    "outputHidden": false
   },
   "outputs": [
    {
     "name": "stdout",
     "output_type": "stream",
     "text": [
      "It isme\n"
     ]
    }
   ],
   "source": [
    "a = \"It is\"\n",
    "b = \"me\"\n",
    "print(a + b) # string concatenation"
   ]
  },
  {
   "cell_type": "code",
   "execution_count": 10,
   "metadata": {},
   "outputs": [
    {
     "name": "stdout",
     "output_type": "stream",
     "text": [
      "It is me\n"
     ]
    }
   ],
   "source": [
    "# Print with space between is and me\n",
    "\n",
    "print(a + ' ' +b)"
   ]
  },
  {
   "cell_type": "code",
   "execution_count": 50,
   "metadata": {},
   "outputs": [
    {
     "name": "stdout",
     "output_type": "stream",
     "text": [
      "***** Printing Output *****\n"
     ]
    }
   ],
   "source": [
    "print('*'*5+\" Printing Output \"+'*'*5)"
   ]
  },
  {
   "cell_type": "markdown",
   "metadata": {},
   "source": [
    "### Constants\n",
    "\n",
    "Conventionally in Python, constants are declared in capital case. Below, we are indicating that PI is a constant by using all capital case. Here radius is a variable and its value is float 5.0. We will use both the constant and the variable together to compute the circumference of the circle and assign it to c."
   ]
  },
  {
   "cell_type": "code",
   "execution_count": 51,
   "metadata": {},
   "outputs": [
    {
     "name": "stdout",
     "output_type": "stream",
     "text": [
      "3.1415\n",
      "The circumference of a circle of radius 5.00 is: 31.42\n"
     ]
    }
   ],
   "source": [
    "PI = 3.1415\n",
    "print(PI)\n",
    "radius = 5.0\n",
    "c = 2*PI*radius\n",
    "print('The circumference of a circle of radius %0.2f is: %0.2f' %(radius, c))"
   ]
  },
  {
   "cell_type": "markdown",
   "metadata": {},
   "source": [
    "### Fetching user input from the command line\n",
    "\n",
    "The input() function is used to get information from the user. This is also known as standard input function. The function takes the prompt as an argument and returns the value entered by the user as **string** type.  "
   ]
  },
  {
   "cell_type": "code",
   "execution_count": 53,
   "metadata": {
    "inputHidden": false,
    "outputHidden": false
   },
   "outputs": [
    {
     "name": "stdout",
     "output_type": "stream",
     "text": [
      "Please enter the number: 6\n",
      "6\n"
     ]
    }
   ],
   "source": [
    "s1 = input(\"Please enter the number: \")\n",
    "print(s1)"
   ]
  },
  {
   "cell_type": "code",
   "execution_count": 55,
   "metadata": {},
   "outputs": [
    {
     "ename": "TypeError",
     "evalue": "can only concatenate str (not \"int\") to str",
     "output_type": "error",
     "traceback": [
      "\u001b[0;31m---------------------------------------------------------------------------\u001b[0m",
      "\u001b[0;31mTypeError\u001b[0m                                 Traceback (most recent call last)",
      "\u001b[0;32m<ipython-input-55-6ad0f3f8a1d2>\u001b[0m in \u001b[0;36m<module>\u001b[0;34m\u001b[0m\n\u001b[0;32m----> 1\u001b[0;31m \u001b[0ms1\u001b[0m\u001b[0;34m+\u001b[0m\u001b[0;36m5\u001b[0m\u001b[0;34m\u001b[0m\u001b[0;34m\u001b[0m\u001b[0m\n\u001b[0m",
      "\u001b[0;31mTypeError\u001b[0m: can only concatenate str (not \"int\") to str"
     ]
    }
   ],
   "source": []
  },
  {
   "cell_type": "markdown",
   "metadata": {
    "inputHidden": false,
    "outputHidden": false
   },
   "source": [
    "#### Introspection\n",
    "\n",
    "Using a question mark (?) before or after a variable will display some general information about the object"
   ]
  },
  {
   "cell_type": "code",
   "execution_count": 57,
   "metadata": {},
   "outputs": [],
   "source": [
    "x = [1,2,3]\n",
    "x?"
   ]
  },
  {
   "cell_type": "markdown",
   "metadata": {},
   "source": [
    "This is referred to as object introspection. If the object is a function or instance method, the docstring, if defined, will also be shown. Suppose we'd written the following function"
   ]
  },
  {
   "cell_type": "code",
   "execution_count": 58,
   "metadata": {},
   "outputs": [],
   "source": [
    "def add_numbers(a, b):\n",
    "    \"\"\"\n",
    "    Add two numbers together\n",
    "\n",
    "    Returns\n",
    "    -------\n",
    "    the_sum : type of arguments\n",
    "    \"\"\"\n",
    "    return (a + b)"
   ]
  },
  {
   "cell_type": "code",
   "execution_count": 59,
   "metadata": {},
   "outputs": [],
   "source": [
    "add_numbers?"
   ]
  },
  {
   "cell_type": "markdown",
   "metadata": {},
   "source": [
    "?? will also show the functions source code if possible "
   ]
  },
  {
   "cell_type": "code",
   "execution_count": 60,
   "metadata": {},
   "outputs": [],
   "source": [
    "add_numbers??"
   ]
  },
  {
   "cell_type": "markdown",
   "metadata": {},
   "source": [
    "? has a final usage, which is for searching the IPython namespace in a manner similar to the standard Unix or Windows command line. A number of characters combined with the wildcard (*) will show all names matching the wildcard expression. For example, we could get a list of all functions in the top-level NumPy namespace con‐ taining load:"
   ]
  },
  {
   "cell_type": "code",
   "execution_count": 16,
   "metadata": {},
   "outputs": [],
   "source": [
    "import numpy as np\n",
    "np.*load*?"
   ]
  },
  {
   "cell_type": "markdown",
   "metadata": {},
   "source": [
    "### The %run command\n",
    "\n",
    "You can run any file as a Python program inside the environment of your IPython session using the %run command. Suppose you had the following simple script stored in script_test.py:\n",
    "\n",
    "The script is run in an empty namespace (with no imports or other variables defined) so that the behavior should be identical to running the program on the command line using python script.py. All of the variables (imports, functions, and globals) defined in the file (up until an exception, if any, is raised) "
   ]
  },
  {
   "cell_type": "code",
   "execution_count": null,
   "metadata": {},
   "outputs": [],
   "source": [
    "%run script_test.py"
   ]
  },
  {
   "cell_type": "markdown",
   "metadata": {},
   "source": [
    "In the Jupyter notebook, you may also use the related %load magic function\n",
    "\n",
    "%load script_test.py"
   ]
  },
  {
   "cell_type": "markdown",
   "metadata": {},
   "source": [
    "### Interrupting running code\n",
    "Pressing Ctrl-C while any code is running, whether a script through %run or a long- running command, will cause a KeyboardInterrupt to be raised. This will cause nearly all Python programs to stop immediately except in certain unusual cases."
   ]
  },
  {
   "cell_type": "markdown",
   "metadata": {},
   "source": [
    "### About Magic Commands\n",
    "IPython’s special commands (which are not built into Python itself) are known as “magic” commands. These are designed to facilitate common tasks and enable you to easily control the behavior of the IPython system. A magic command is any com‐ mand prefixed by the percent symbol %. For example, you can check the execution time of any Python statement, such as a matrix multiplication, using the %timeit magic\n"
   ]
  },
  {
   "cell_type": "code",
   "execution_count": 21,
   "metadata": {},
   "outputs": [],
   "source": [
    "x = np.random.randn(100, 100)"
   ]
  },
  {
   "cell_type": "markdown",
   "metadata": {},
   "source": [
    "### %timeit np.dot(x, x)"
   ]
  }
 ],
 "metadata": {
  "kernel_info": {
   "name": "python3"
  },
  "kernelspec": {
   "display_name": "Python 3",
   "language": "python",
   "name": "python3"
  },
  "language_info": {
   "codemirror_mode": {
    "name": "ipython",
    "version": 3
   },
   "file_extension": ".py",
   "mimetype": "text/x-python",
   "name": "python",
   "nbconvert_exporter": "python",
   "pygments_lexer": "ipython3",
   "version": "3.8.8"
  },
  "nteract": {
   "version": "0.12.2"
  },
  "widgets": {
   "state": {},
   "version": "1.1.2"
  }
 },
 "nbformat": 4,
 "nbformat_minor": 4
}
