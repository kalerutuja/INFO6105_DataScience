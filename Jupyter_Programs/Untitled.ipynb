{
 "cells": [
  {
   "cell_type": "markdown",
   "id": "0cb75a09",
   "metadata": {},
   "source": [
    "# Program\n",
    "## Program\n",
    "### Program"
   ]
  },
  {
   "cell_type": "markdown",
   "id": "8e76f645",
   "metadata": {},
   "source": [
    "- Program1\n",
    "- program2\n",
    "- program3"
   ]
  },
  {
   "cell_type": "markdown",
   "id": "fcaa5827",
   "metadata": {},
   "source": [
    "1.Program1\n",
    "2.program2\n",
    "3.program3"
   ]
  },
  {
   "cell_type": "code",
   "execution_count": null,
   "id": "04e8cfba",
   "metadata": {},
   "outputs": [],
   "source": [
    "1. Head\n"
   ]
  }
 ],
 "metadata": {
  "kernelspec": {
   "display_name": "Python 3",
   "language": "python",
   "name": "python3"
  },
  "language_info": {
   "codemirror_mode": {
    "name": "ipython",
    "version": 3
   },
   "file_extension": ".py",
   "mimetype": "text/x-python",
   "name": "python",
   "nbconvert_exporter": "python",
   "pygments_lexer": "ipython3",
   "version": "3.8.8"
  }
 },
 "nbformat": 4,
 "nbformat_minor": 5
}
