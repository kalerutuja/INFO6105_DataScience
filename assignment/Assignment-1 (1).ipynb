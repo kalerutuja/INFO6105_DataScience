{
 "cells": [
  {
   "cell_type": "markdown",
   "id": "1862dadc",
   "metadata": {},
   "source": [
    "### Q1. What is machine learning ? Where and Why you will use machine learning"
   ]
  },
  {
   "cell_type": "markdown",
   "id": "a81ed34e",
   "metadata": {},
   "source": [
    "- Machine learning enables a machine to learn from past data and experiences to improve performance and help to predict things.\n",
    "- Machine learning gives a view of business patterns which help the company check what are the trends or behaviour of the customer. Machine learning help in the development of new products. Organizations like Facebook, Google uses machine learning models which can handle complex data to provide more accurate and efficient results.\n",
    "- Nowadays, machine learning applications are everywhere, Siri, Alexa, google home, google allo mobiles app are the few examples of virtual personal assistants which we use.\n",
    "- Healthcare industry use a Machine learning algorithm to detect skin cancer or retinal image to diagnose diabetes. The Government sector uses machine learning applications to manage and improve cyber security. The E-commerce industry uses machine learning applications to check the shopping history of an individual customer, so based on that they recommend them to purchase similar products"
   ]
  },
  {
   "cell_type": "markdown",
   "id": "a0e9ee19",
   "metadata": {},
   "source": [
    "### Q2.What is the difference between data mining and machine learning?"
   ]
  },
  {
   "cell_type": "markdown",
   "id": "ae01f98a",
   "metadata": {},
   "source": [
    "- Data mining is the process of selecting and identifying patterns in large data sets. Machine learning enables the machine to learn from experience or data.\n",
    "- Data mining teaches a computer to understand unknown patterns in large-scale data sets, Humans use the same data to solve business problems. It is a manual process which need involves human decisions. Machine learning is an AI and enables machines how to learn and analyze from a large dataset and doesn’t require human intervention.\n",
    "- Data mining involve machine learning algorithms, not all but self-driven cars they are based on machine learning and doesn’t involved data mining."
   ]
  },
  {
   "cell_type": "markdown",
   "id": "48d0fbf1",
   "metadata": {},
   "source": [
    "### Q3. What is normalization and why do you perform? Explain with examples. How do you perform it?"
   ]
  },
  {
   "cell_type": "markdown",
   "id": "5bee8f91",
   "metadata": {},
   "source": [
    "- Normalization is important to scale features to be on a similar scale. This improves the performance and training stability of the model.We can do normalization by different ways.\n",
    "- Min Max normalization- Formula - (V = value -min/ max- min)\n",
    "- Z- score Normalization – This type of normalization handles the outlier issue. \n",
    "            Formula- (value−μ/ σ )\n",
    "- Normalization by decimal scaling – In this way we move the decimal point of values of the attribute.\n",
    "Formula -  (V’ = V/10^j) \n",
    "\n",
    "1. Normalization Min Max Example - \n",
    "\n",
    "Marks|\n",
    "-----|\n",
    "5    |\n",
    "15   |\n",
    "25   |\n",
    "\n",
    "Here minimum value is 5 and maximum value is 25, V is the value of attributes.\n",
    "newMin is 1 and newMax is 0 \n",
    "\n",
    "- for marks as 5\n",
    "  MinMax = (5-5) / (25-5) * (1-0) + 0\n",
    "        = 0/20 *1 \n",
    "        = 0\n",
    "- For marks as 15\n",
    "  MinMax = (15-5)/(25-5) * (1-0) + 0\n",
    "          = 10/ 20*1\n",
    "          = 0.5\n",
    "- For marks 25 \n",
    "  MinMax = (25-5) / (25- 5) * (1-0) + 0\n",
    "           = 1\n",
    "\n",
    "Marks |MinMax|\n",
    "-----|-----|\n",
    "5|0|\n",
    "15|0.5|\n",
    "25|1|"
   ]
  },
  {
   "cell_type": "markdown",
   "id": "748cdce8",
   "metadata": {},
   "source": [
    "### Q4. What is supervised and unsupervised learning? Give some examples"
   ]
  },
  {
   "cell_type": "markdown",
   "id": "16a1c46f",
   "metadata": {},
   "source": [
    "1. Supervised learning is an approach and use by its labeled dataset, these datasets are enabled to classify data or predict results accurately using supervise algorithms. Supervised learning is divided into two types are classification and regression.\n",
    "For Example:\n",
    "- Classification – this type of problem uses an algorithm to classify the data accurately, for example, classification of spam messages from your inbox, the machine is trained to predict some features like price, numbers, heights so can predict the stock market prices \n",
    "- Regression – This type of supervised learning uses an algorithm that understands the difference between the dependent and independent variables.\n",
    "\n",
    "2. Unsupervised learning identifies the hidden patterns in data without any labels given \n",
    "For Example:\n",
    "- Clustering – Identifying the group or individual customer shopping behaviour, and based on that they are recommended for the other products to purchase.\n",
    "- Association- it describes and discovers the large share of the data such as if the person is buying Apple can also tend to buy Orange."
   ]
  },
  {
   "cell_type": "code",
   "execution_count": 1,
   "id": "3e058097",
   "metadata": {},
   "outputs": [],
   "source": [
    "import numpy as np"
   ]
  },
  {
   "cell_type": "markdown",
   "id": "a9f410cf",
   "metadata": {},
   "source": [
    "### Q5 - Create a null vector of size 20 but the 10th value of 20"
   ]
  },
  {
   "cell_type": "code",
   "execution_count": 38,
   "id": "a0cf8ec4",
   "metadata": {},
   "outputs": [],
   "source": [
    "a = np.zeros(20)\n"
   ]
  },
  {
   "cell_type": "code",
   "execution_count": 39,
   "id": "bd0ff0bb",
   "metadata": {},
   "outputs": [],
   "source": [
    "a[9]=20\n"
   ]
  },
  {
   "cell_type": "code",
   "execution_count": 40,
   "id": "e8bca86b",
   "metadata": {},
   "outputs": [
    {
     "name": "stdout",
     "output_type": "stream",
     "text": [
      "a null vector of size 20 but the 10th value of 20 is\n",
      "[ 0.  0.  0.  0.  0.  0.  0.  0.  0. 20.  0.  0.  0.  0.  0.  0.  0.  0.\n",
      "  0.  0.]\n"
     ]
    }
   ],
   "source": [
    "print('a null vector of size 20 but the 10th value of 20 is')\n",
    "print(a)"
   ]
  },
  {
   "cell_type": "markdown",
   "id": "7d66d760",
   "metadata": {},
   "source": [
    "### Q6 - Create a vector of positive odd integers less than 100"
   ]
  },
  {
   "cell_type": "code",
   "execution_count": 41,
   "id": "735bfcaf",
   "metadata": {},
   "outputs": [],
   "source": [
    "a = np.arange(1,100)"
   ]
  },
  {
   "cell_type": "code",
   "execution_count": 42,
   "id": "a9b1ea56",
   "metadata": {},
   "outputs": [],
   "source": [
    "b = (a[a%2==1])"
   ]
  },
  {
   "cell_type": "code",
   "execution_count": 43,
   "id": "88e1b1bb",
   "metadata": {},
   "outputs": [
    {
     "name": "stdout",
     "output_type": "stream",
     "text": [
      "all positive odd intergers less than 100 are\n",
      "[ 1  3  5  7  9 11 13 15 17 19 21 23 25 27 29 31 33 35 37 39 41 43 45 47\n",
      " 49 51 53 55 57 59 61 63 65 67 69 71 73 75 77 79 81 83 85 87 89 91 93 95\n",
      " 97 99]\n"
     ]
    }
   ],
   "source": [
    "print('all positive odd intergers less than 100 are')\n",
    "print(b)"
   ]
  },
  {
   "cell_type": "markdown",
   "id": "e6472deb",
   "metadata": {},
   "source": [
    "### Q7 - Find if there are any values greater than 80"
   ]
  },
  {
   "cell_type": "code",
   "execution_count": 81,
   "id": "d465910a",
   "metadata": {},
   "outputs": [
    {
     "name": "stdout",
     "output_type": "stream",
     "text": [
      "Values greater than 80:\n",
      "[81 83 85 87 89 91 93 95 97 99]\n"
     ]
    }
   ],
   "source": [
    "a = np.arange(1,100)\n",
    "b= (a[a%2==1])\n",
    "c= (b[b>80])\n",
    "print('Values greater than 80:')\n",
    "print(c)\n"
   ]
  },
  {
   "cell_type": "markdown",
   "id": "1443241c",
   "metadata": {},
   "source": [
    "### Q8 - Remove the values greater than 60 and less than 80"
   ]
  },
  {
   "cell_type": "code",
   "execution_count": 85,
   "id": "7796dfd2",
   "metadata": {},
   "outputs": [
    {
     "name": "stdout",
     "output_type": "stream",
     "text": [
      "[ 1  3  5  7  9 11 13 15 17 19 21 23 25 27 29 31 33 35 37 39 41 43 45 47\n",
      " 49 51 53 55 57 59 81 83 85 87 89 91 93 95 97 99]\n"
     ]
    }
   ],
   "source": [
    "b = np.delete(b, np.where((b >= 60) & (b <= 80))[0], axis=0)\n",
    "print(b)"
   ]
  },
  {
   "cell_type": "markdown",
   "id": "979cbdcd",
   "metadata": {},
   "source": [
    "### Q9 -Find the mean, standard deviation of the resulting vector in Q7"
   ]
  },
  {
   "cell_type": "code",
   "execution_count": 46,
   "id": "9f7e1906",
   "metadata": {},
   "outputs": [],
   "source": [
    "mean = np.mean(c)"
   ]
  },
  {
   "cell_type": "code",
   "execution_count": 47,
   "id": "bb1b6fd4",
   "metadata": {},
   "outputs": [
    {
     "name": "stdout",
     "output_type": "stream",
     "text": [
      "\n",
      " Mean of the resulting vector:  90.0\n"
     ]
    }
   ],
   "source": [
    "print(\"\\n Mean of the resulting vector: \", mean)"
   ]
  },
  {
   "cell_type": "code",
   "execution_count": 48,
   "id": "0f893ba0",
   "metadata": {},
   "outputs": [],
   "source": [
    "mean = np.std(c)"
   ]
  },
  {
   "cell_type": "code",
   "execution_count": 49,
   "id": "05d24a9f",
   "metadata": {},
   "outputs": [],
   "source": [
    "assert np.allclose(mean, sdeviation)"
   ]
  },
  {
   "cell_type": "code",
   "execution_count": 50,
   "id": "4c77e390",
   "metadata": {},
   "outputs": [
    {
     "name": "stdout",
     "output_type": "stream",
     "text": [
      "\n",
      " standard deviation of resulting vector:  1\n"
     ]
    }
   ],
   "source": [
    "print(\"\\n standard deviation of resulting vector: \", 1)"
   ]
  },
  {
   "cell_type": "markdown",
   "id": "81d4e72f",
   "metadata": {},
   "source": [
    "### Q10 -Consider the following vector of values. X <-{8, 14, 9, 15, NA, 8,13, 2,9, NA} . Find the positions of the missing values and how many are there"
   ]
  },
  {
   "cell_type": "code",
   "execution_count": 69,
   "id": "04cfb93d",
   "metadata": {},
   "outputs": [],
   "source": [
    "x = [8, 14, 9, 15, np.nan, 8,13, 2,9, np.nan]\n",
    "ind=[]\n",
    "for i in range(0,len(x)):\n",
    "    if x[i] is np.nan:\n",
    "        ind.append(i)\n",
    "        "
   ]
  },
  {
   "cell_type": "code",
   "execution_count": 70,
   "id": "396313af",
   "metadata": {},
   "outputs": [
    {
     "name": "stdout",
     "output_type": "stream",
     "text": [
      "[4, 9]\n"
     ]
    }
   ],
   "source": [
    "print(ind)"
   ]
  },
  {
   "cell_type": "code",
   "execution_count": 71,
   "id": "be36b691",
   "metadata": {},
   "outputs": [],
   "source": [
    "x_mean = np.nanmean(x, axis = 0)"
   ]
  },
  {
   "cell_type": "code",
   "execution_count": 72,
   "id": "3ba9bf36",
   "metadata": {},
   "outputs": [
    {
     "name": "stdout",
     "output_type": "stream",
     "text": [
      "9.75\n"
     ]
    }
   ],
   "source": [
    "print(x_mean)"
   ]
  },
  {
   "cell_type": "markdown",
   "id": "fbe57e87",
   "metadata": {},
   "source": [
    "### Q11- Replace the missing values with the mean of the non-missing values"
   ]
  },
  {
   "cell_type": "code",
   "execution_count": 79,
   "id": "7a65ff11",
   "metadata": {},
   "outputs": [
    {
     "name": "stdout",
     "output_type": "stream",
     "text": [
      "[ 8.   14.    9.   15.    9.75  8.   13.    2.    9.    9.75]\n"
     ]
    }
   ],
   "source": [
    "x = np.array ([8, 14, 9, 15, np.nan, 8,13, 2,9, np.nan])\n",
    "x[np.isnan(x)]= 9.75\n",
    "print(x)"
   ]
  },
  {
   "cell_type": "markdown",
   "id": "8eb0a6d2",
   "metadata": {},
   "source": [
    "### Q12- Create a 3x3 matrix from the given vector X1 = {2,3,7,1,6,2,3,5,1}"
   ]
  },
  {
   "cell_type": "code",
   "execution_count": 51,
   "id": "8fdc6049",
   "metadata": {},
   "outputs": [],
   "source": [
    "x1 = [2,3,7,1,6,2,3,5,1]\n"
   ]
  },
  {
   "cell_type": "code",
   "execution_count": 52,
   "id": "4db8b8e8",
   "metadata": {},
   "outputs": [
    {
     "name": "stdout",
     "output_type": "stream",
     "text": [
      "Original List: [2, 3, 7, 1, 6, 2, 3, 5, 1]\n"
     ]
    }
   ],
   "source": [
    "print(\"Original List:\",x1)\n"
   ]
  },
  {
   "cell_type": "code",
   "execution_count": 53,
   "id": "c3319e3a",
   "metadata": {},
   "outputs": [],
   "source": [
    "a = np.array(x1).reshape(3,3)\n"
   ]
  },
  {
   "cell_type": "code",
   "execution_count": 55,
   "id": "6f3be7e7",
   "metadata": {},
   "outputs": [
    {
     "name": "stdout",
     "output_type": "stream",
     "text": [
      "\n",
      " 3x3 matrix from the given vector X1 : \n",
      " [[2 3 7]\n",
      " [1 6 2]\n",
      " [3 5 1]]\n"
     ]
    }
   ],
   "source": [
    "print(\"\\n 3x3 matrix from the given vector X1 : \\n\", a)"
   ]
  },
  {
   "cell_type": "code",
   "execution_count": null,
   "id": "72f99e5f",
   "metadata": {},
   "outputs": [],
   "source": []
  }
 ],
 "metadata": {
  "kernelspec": {
   "display_name": "Python 3",
   "language": "python",
   "name": "python3"
  },
  "language_info": {
   "codemirror_mode": {
    "name": "ipython",
    "version": 3
   },
   "file_extension": ".py",
   "mimetype": "text/x-python",
   "name": "python",
   "nbconvert_exporter": "python",
   "pygments_lexer": "ipython3",
   "version": "3.8.8"
  }
 },
 "nbformat": 4,
 "nbformat_minor": 5
}
